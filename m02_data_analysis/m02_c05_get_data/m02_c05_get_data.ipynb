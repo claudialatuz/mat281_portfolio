{
 "cells": [
  {
   "cell_type": "markdown",
   "metadata": {
    "slideshow": {
     "slide_type": "slide"
    }
   },
   "source": [
    "<img src=\"https://upload.wikimedia.org/wikipedia/commons/4/47/Logo_UTFSM.png\" width=\"200\" alt=\"utfsm-logo\" align=\"left\"/>\n",
    "\n",
    "# MAT281\n",
    "### Aplicaciones de la Matemática en la Ingeniería"
   ]
  },
  {
   "cell_type": "markdown",
   "metadata": {
    "slideshow": {
     "slide_type": "slide"
    }
   },
   "source": [
    "## Módulo 02\n",
    "## Clase 05: Obtención de Datos"
   ]
  },
  {
   "cell_type": "markdown",
   "metadata": {
    "slideshow": {
     "slide_type": "slide"
    }
   },
   "source": [
    "## Objetivos\n",
    "\n",
    "* Conocer los tipos de datos más comunes\n",
    "* Utilizar una API"
   ]
  },
  {
   "cell_type": "markdown",
   "metadata": {
    "slideshow": {
     "slide_type": "subslide"
    }
   },
   "source": [
    "## Contenidos\n",
    "* [Motivación](#motivation)\n",
    "* [CSV](#csv)\n",
    "* [JSON](#json)\n",
    "* [Pickle](#pickle)\n",
    "* [API](#api)"
   ]
  },
  {
   "cell_type": "markdown",
   "metadata": {
    "slideshow": {
     "slide_type": "slide"
    }
   },
   "source": [
    "<a id='motivation'></a>\n",
    "## Motivación\n",
    "\n",
    "Como ya hemos comentado en clases pasadas, hoy los datos son el centro de atención en el mundo tecnológico. Por lo mismo existe una amplia gama de tipos de datos lo cual conlleva a distintas formas de obtención y manipulación de estos datos. \n",
    "\n",
    "En la clase de hoy comenzaremos conociendo los tipos más comunes de datos para luego centrarnos en la obtención de datos a través de una __API__. Los ejemplos serán utilizando la API de DataChile."
   ]
  },
  {
   "cell_type": "code",
   "execution_count": 6,
   "metadata": {},
   "outputs": [],
   "source": [
    "import os\n",
    "import pandas as pd"
   ]
  },
  {
   "cell_type": "markdown",
   "metadata": {
    "slideshow": {
     "slide_type": "slide"
    }
   },
   "source": [
    "<a id='csv'></a>\n",
    "## CSV\n",
    "\n",
    "Del inglés _Comma-Separated Values_, los archivos CSV utilizan comas (\",\") para separar valores y cada registro consiste de una fila. \n",
    "\n",
    "- Pros:\n",
    "    * Livianos.\n",
    "    * De fácil entendimiento.\n",
    "    * Editables usando un editor de texto.\n",
    "- Contras:\n",
    "    * No está totalmente estandarizado (e.g. ¿Qué pasa si un valor tiene comas?)\n",
    "    * Son sensible al _encoding_ (es la forma en que se codifica un carácter).\n",
    "    \n",
    "Pandas posee su propia función para leer csv: `pd.read_csv()`."
   ]
  },
  {
   "cell_type": "code",
   "execution_count": 2,
   "metadata": {},
   "outputs": [],
   "source": [
    "# Documentación\n",
    "# pd.read_csv?"
   ]
  },
  {
   "cell_type": "markdown",
   "metadata": {},
   "source": [
    "### Ejemplo de encoding incorrecto"
   ]
  },
  {
   "cell_type": "code",
   "execution_count": 3,
   "metadata": {},
   "outputs": [
    {
     "data": {
      "text/html": [
       "<div>\n",
       "<style scoped>\n",
       "    .dataframe tbody tr th:only-of-type {\n",
       "        vertical-align: middle;\n",
       "    }\n",
       "\n",
       "    .dataframe tbody tr th {\n",
       "        vertical-align: top;\n",
       "    }\n",
       "\n",
       "    .dataframe thead th {\n",
       "        text-align: right;\n",
       "    }\n",
       "</style>\n",
       "<table border=\"1\" class=\"dataframe\">\n",
       "  <thead>\n",
       "    <tr style=\"text-align: right;\">\n",
       "      <th></th>\n",
       "      <th>nombre</th>\n",
       "      <th>apellido</th>\n",
       "      <th>edad</th>\n",
       "    </tr>\n",
       "  </thead>\n",
       "  <tbody>\n",
       "    <tr>\n",
       "      <td>0</td>\n",
       "      <td>Juan</td>\n",
       "      <td>P茅rez</td>\n",
       "      <td>12.0</td>\n",
       "    </tr>\n",
       "    <tr>\n",
       "      <td>1</td>\n",
       "      <td>Le贸n</td>\n",
       "      <td>Pardo</td>\n",
       "      <td>29.0</td>\n",
       "    </tr>\n",
       "    <tr>\n",
       "      <td>2</td>\n",
       "      <td>Jos茅</td>\n",
       "      <td>Nu帽ez</td>\n",
       "      <td>NaN</td>\n",
       "    </tr>\n",
       "  </tbody>\n",
       "</table>\n",
       "</div>"
      ],
      "text/plain": [
       "  nombre apellido  edad\n",
       "0   Juan    P茅rez  12.0\n",
       "1   Le贸n    Pardo  29.0\n",
       "2   Jos茅    Nu帽ez   NaN"
      ]
     },
     "execution_count": 3,
     "metadata": {},
     "output_type": "execute_result"
    }
   ],
   "source": [
    "pd.read_csv(os.path.join('data', 'encoding_example.csv'), sep=',', encoding='GBK')"
   ]
  },
  {
   "cell_type": "markdown",
   "metadata": {},
   "source": [
    "### Ejemplo de encoding correcto"
   ]
  },
  {
   "cell_type": "code",
   "execution_count": 4,
   "metadata": {},
   "outputs": [
    {
     "data": {
      "text/html": [
       "<div>\n",
       "<style scoped>\n",
       "    .dataframe tbody tr th:only-of-type {\n",
       "        vertical-align: middle;\n",
       "    }\n",
       "\n",
       "    .dataframe tbody tr th {\n",
       "        vertical-align: top;\n",
       "    }\n",
       "\n",
       "    .dataframe thead th {\n",
       "        text-align: right;\n",
       "    }\n",
       "</style>\n",
       "<table border=\"1\" class=\"dataframe\">\n",
       "  <thead>\n",
       "    <tr style=\"text-align: right;\">\n",
       "      <th></th>\n",
       "      <th>nombre</th>\n",
       "      <th>apellido</th>\n",
       "      <th>edad</th>\n",
       "    </tr>\n",
       "  </thead>\n",
       "  <tbody>\n",
       "    <tr>\n",
       "      <td>0</td>\n",
       "      <td>Juan</td>\n",
       "      <td>Pérez</td>\n",
       "      <td>12.0</td>\n",
       "    </tr>\n",
       "    <tr>\n",
       "      <td>1</td>\n",
       "      <td>León</td>\n",
       "      <td>Pardo</td>\n",
       "      <td>29.0</td>\n",
       "    </tr>\n",
       "    <tr>\n",
       "      <td>2</td>\n",
       "      <td>José</td>\n",
       "      <td>Nuñez</td>\n",
       "      <td>NaN</td>\n",
       "    </tr>\n",
       "  </tbody>\n",
       "</table>\n",
       "</div>"
      ],
      "text/plain": [
       "  nombre apellido  edad\n",
       "0   Juan    Pérez  12.0\n",
       "1   León    Pardo  29.0\n",
       "2   José    Nuñez   NaN"
      ]
     },
     "execution_count": 4,
     "metadata": {},
     "output_type": "execute_result"
    }
   ],
   "source": [
    "pd.read_csv(os.path.join('data', 'encoding_example.csv'), sep=',', encoding='utf8')"
   ]
  },
  {
   "cell_type": "markdown",
   "metadata": {
    "slideshow": {
     "slide_type": "slide"
    }
   },
   "source": [
    "<a id='json'></a>\n",
    "## JSON\n",
    "\n",
    "Acrónimo de _JavaScript Object Notation_, utilizado principalmente para intercambiar datos entre una aplicación web y un servidor.\n",
    "\n",
    "- Pros:\n",
    "    * Livianos.\n",
    "    * De fácil entendimiento.\n",
    "    * Editables usando un editor de texto.\n",
    "    * Formato estandarizado.\n",
    "- Contras:\n",
    "    * La lectura con pandas puede ser un poco complicada.\n",
    "    \n",
    "Pandas posee su propia función para leer JSON: `pd.read_json()`."
   ]
  },
  {
   "cell_type": "code",
   "execution_count": 5,
   "metadata": {},
   "outputs": [],
   "source": [
    "# pd.read_json?"
   ]
  },
  {
   "cell_type": "code",
   "execution_count": 6,
   "metadata": {},
   "outputs": [
    {
     "name": "stdout",
     "output_type": "stream",
     "text": [
      "{\n",
      "  \"integer\": {\n",
      "    \"0\": 5,\n",
      "    \"1\": 5,\n",
      "    \"2\": 9,\n",
      "    \"3\": 6,\n",
      "    \"4\": 6,\n",
      "    \"5\": 9,\n",
      "    \"6\": 7,\n",
      "    \"7\": 1,\n"
     ]
    }
   ],
   "source": [
    "!head -n 10 data/json_example.json"
   ]
  },
  {
   "cell_type": "code",
   "execution_count": 7,
   "metadata": {},
   "outputs": [
    {
     "data": {
      "text/html": [
       "<div>\n",
       "<style scoped>\n",
       "    .dataframe tbody tr th:only-of-type {\n",
       "        vertical-align: middle;\n",
       "    }\n",
       "\n",
       "    .dataframe tbody tr th {\n",
       "        vertical-align: top;\n",
       "    }\n",
       "\n",
       "    .dataframe thead th {\n",
       "        text-align: right;\n",
       "    }\n",
       "</style>\n",
       "<table border=\"1\" class=\"dataframe\">\n",
       "  <thead>\n",
       "    <tr style=\"text-align: right;\">\n",
       "      <th></th>\n",
       "      <th>integer</th>\n",
       "      <th>datetime</th>\n",
       "      <th>category</th>\n",
       "    </tr>\n",
       "  </thead>\n",
       "  <tbody>\n",
       "    <tr>\n",
       "      <td>0</td>\n",
       "      <td>5</td>\n",
       "      <td>2015-01-01 00:00:00</td>\n",
       "      <td>0</td>\n",
       "    </tr>\n",
       "    <tr>\n",
       "      <td>1</td>\n",
       "      <td>5</td>\n",
       "      <td>2015-01-01 00:00:01</td>\n",
       "      <td>0</td>\n",
       "    </tr>\n",
       "    <tr>\n",
       "      <td>2</td>\n",
       "      <td>9</td>\n",
       "      <td>2015-01-01 00:00:02</td>\n",
       "      <td>0</td>\n",
       "    </tr>\n",
       "    <tr>\n",
       "      <td>3</td>\n",
       "      <td>6</td>\n",
       "      <td>2015-01-01 00:00:03</td>\n",
       "      <td>0</td>\n",
       "    </tr>\n",
       "    <tr>\n",
       "      <td>4</td>\n",
       "      <td>6</td>\n",
       "      <td>2015-01-01 00:00:04</td>\n",
       "      <td>0</td>\n",
       "    </tr>\n",
       "  </tbody>\n",
       "</table>\n",
       "</div>"
      ],
      "text/plain": [
       "   integer            datetime  category\n",
       "0        5 2015-01-01 00:00:00         0\n",
       "1        5 2015-01-01 00:00:01         0\n",
       "2        9 2015-01-01 00:00:02         0\n",
       "3        6 2015-01-01 00:00:03         0\n",
       "4        6 2015-01-01 00:00:04         0"
      ]
     },
     "execution_count": 7,
     "metadata": {},
     "output_type": "execute_result"
    }
   ],
   "source": [
    "pd.read_json(\n",
    "    os.path.join('data', 'json_example.json'),\n",
    "    orient=\"columns\"\n",
    ").head()"
   ]
  },
  {
   "cell_type": "markdown",
   "metadata": {
    "slideshow": {
     "slide_type": "slide"
    }
   },
   "source": [
    "<a id='pickle'></a>\n",
    "## Pickle\n",
    "\n",
    "Es un módulo que implementa protocolos binarios de serialización y des-serialización de objetos de Python.\n",
    "\n",
    "* Pros\n",
    "    - Puede representar una inmensa cantidad de tipos de objetos de python.\n",
    "    - En un contexto de seguridad, como no es legible por el ser humano (representación binaria) puede ser útil para almacenar datos sensibles.\n",
    "* Contras:\n",
    "    - Solo Python.\n",
    "    - Si viene de un tercero podría tener contenido malicioso.\n",
    "    \n",
    "Pandas posee su propia función para leer JSON: `pd.read_pickle()`."
   ]
  },
  {
   "cell_type": "code",
   "execution_count": 8,
   "metadata": {},
   "outputs": [],
   "source": [
    "# pd.read_pickle?"
   ]
  },
  {
   "cell_type": "code",
   "execution_count": 9,
   "metadata": {},
   "outputs": [
    {
     "data": {
      "text/html": [
       "<div>\n",
       "<style scoped>\n",
       "    .dataframe tbody tr th:only-of-type {\n",
       "        vertical-align: middle;\n",
       "    }\n",
       "\n",
       "    .dataframe tbody tr th {\n",
       "        vertical-align: top;\n",
       "    }\n",
       "\n",
       "    .dataframe thead th {\n",
       "        text-align: right;\n",
       "    }\n",
       "</style>\n",
       "<table border=\"1\" class=\"dataframe\">\n",
       "  <thead>\n",
       "    <tr style=\"text-align: right;\">\n",
       "      <th></th>\n",
       "      <th>name</th>\n",
       "      <th>year_start</th>\n",
       "      <th>year_end</th>\n",
       "      <th>position</th>\n",
       "      <th>height</th>\n",
       "      <th>weight</th>\n",
       "      <th>birth_date</th>\n",
       "      <th>college</th>\n",
       "    </tr>\n",
       "  </thead>\n",
       "  <tbody>\n",
       "    <tr>\n",
       "      <td>0</td>\n",
       "      <td>Alaa Abdelnaby</td>\n",
       "      <td>1991</td>\n",
       "      <td>1995</td>\n",
       "      <td>F-C</td>\n",
       "      <td>6-10</td>\n",
       "      <td>240.0</td>\n",
       "      <td>June 24, 1968</td>\n",
       "      <td>Duke University</td>\n",
       "    </tr>\n",
       "    <tr>\n",
       "      <td>1</td>\n",
       "      <td>Zaid Abdul-Aziz</td>\n",
       "      <td>1969</td>\n",
       "      <td>1978</td>\n",
       "      <td>C-F</td>\n",
       "      <td>6-9</td>\n",
       "      <td>235.0</td>\n",
       "      <td>April 7, 1946</td>\n",
       "      <td>Iowa State University</td>\n",
       "    </tr>\n",
       "    <tr>\n",
       "      <td>2</td>\n",
       "      <td>Kareem Abdul-Jabbar</td>\n",
       "      <td>1970</td>\n",
       "      <td>1989</td>\n",
       "      <td>C</td>\n",
       "      <td>7-2</td>\n",
       "      <td>225.0</td>\n",
       "      <td>April 16, 1947</td>\n",
       "      <td>University of California, Los Angeles</td>\n",
       "    </tr>\n",
       "    <tr>\n",
       "      <td>3</td>\n",
       "      <td>Mahmoud Abdul-Rauf</td>\n",
       "      <td>1991</td>\n",
       "      <td>2001</td>\n",
       "      <td>G</td>\n",
       "      <td>6-1</td>\n",
       "      <td>162.0</td>\n",
       "      <td>March 9, 1969</td>\n",
       "      <td>Louisiana State University</td>\n",
       "    </tr>\n",
       "    <tr>\n",
       "      <td>4</td>\n",
       "      <td>Tariq Abdul-Wahad</td>\n",
       "      <td>1998</td>\n",
       "      <td>2003</td>\n",
       "      <td>F</td>\n",
       "      <td>6-6</td>\n",
       "      <td>223.0</td>\n",
       "      <td>November 3, 1974</td>\n",
       "      <td>San Jose State University</td>\n",
       "    </tr>\n",
       "  </tbody>\n",
       "</table>\n",
       "</div>"
      ],
      "text/plain": [
       "                  name  year_start  year_end position height  weight  \\\n",
       "0       Alaa Abdelnaby        1991      1995      F-C   6-10   240.0   \n",
       "1      Zaid Abdul-Aziz        1969      1978      C-F    6-9   235.0   \n",
       "2  Kareem Abdul-Jabbar        1970      1989        C    7-2   225.0   \n",
       "3   Mahmoud Abdul-Rauf        1991      2001        G    6-1   162.0   \n",
       "4    Tariq Abdul-Wahad        1998      2003        F    6-6   223.0   \n",
       "\n",
       "         birth_date                                college  \n",
       "0     June 24, 1968                        Duke University  \n",
       "1     April 7, 1946                  Iowa State University  \n",
       "2    April 16, 1947  University of California, Los Angeles  \n",
       "3     March 9, 1969             Louisiana State University  \n",
       "4  November 3, 1974              San Jose State University  "
      ]
     },
     "execution_count": 9,
     "metadata": {},
     "output_type": "execute_result"
    }
   ],
   "source": [
    "pd.read_pickle(os.path.join('data', 'nba.pkl')).head()"
   ]
  },
  {
   "cell_type": "markdown",
   "metadata": {},
   "source": [
    "<a id='sql'></a>\n",
    "## SQL\n",
    "\n",
    "Conocimos las bases de datos relacionales SQL en elclases anteriores y como recordarás existe la función `pd.read_sql()`."
   ]
  },
  {
   "cell_type": "code",
   "execution_count": 10,
   "metadata": {},
   "outputs": [],
   "source": [
    "# pd.read_sql?"
   ]
  },
  {
   "cell_type": "code",
   "execution_count": 11,
   "metadata": {},
   "outputs": [
    {
     "data": {
      "text/html": [
       "<div>\n",
       "<style scoped>\n",
       "    .dataframe tbody tr th:only-of-type {\n",
       "        vertical-align: middle;\n",
       "    }\n",
       "\n",
       "    .dataframe tbody tr th {\n",
       "        vertical-align: top;\n",
       "    }\n",
       "\n",
       "    .dataframe thead th {\n",
       "        text-align: right;\n",
       "    }\n",
       "</style>\n",
       "<table border=\"1\" class=\"dataframe\">\n",
       "  <thead>\n",
       "    <tr style=\"text-align: right;\">\n",
       "      <th></th>\n",
       "      <th>AlbumId</th>\n",
       "      <th>Title</th>\n",
       "      <th>ArtistId</th>\n",
       "    </tr>\n",
       "  </thead>\n",
       "  <tbody>\n",
       "    <tr>\n",
       "      <td>0</td>\n",
       "      <td>1</td>\n",
       "      <td>For Those About To Rock We Salute You</td>\n",
       "      <td>1</td>\n",
       "    </tr>\n",
       "    <tr>\n",
       "      <td>1</td>\n",
       "      <td>2</td>\n",
       "      <td>Balls to the Wall</td>\n",
       "      <td>2</td>\n",
       "    </tr>\n",
       "    <tr>\n",
       "      <td>2</td>\n",
       "      <td>3</td>\n",
       "      <td>Restless and Wild</td>\n",
       "      <td>2</td>\n",
       "    </tr>\n",
       "    <tr>\n",
       "      <td>3</td>\n",
       "      <td>4</td>\n",
       "      <td>Let There Be Rock</td>\n",
       "      <td>1</td>\n",
       "    </tr>\n",
       "    <tr>\n",
       "      <td>4</td>\n",
       "      <td>5</td>\n",
       "      <td>Big Ones</td>\n",
       "      <td>3</td>\n",
       "    </tr>\n",
       "  </tbody>\n",
       "</table>\n",
       "</div>"
      ],
      "text/plain": [
       "   AlbumId                                  Title  ArtistId\n",
       "0        1  For Those About To Rock We Salute You         1\n",
       "1        2                      Balls to the Wall         2\n",
       "2        3                      Restless and Wild         2\n",
       "3        4                      Let There Be Rock         1\n",
       "4        5                               Big Ones         3"
      ]
     },
     "execution_count": 11,
     "metadata": {},
     "output_type": "execute_result"
    }
   ],
   "source": [
    "import sqlite3\n",
    "connector = sqlite3.connect(os.path.join('data', 'chinook.db'))\n",
    "pd.read_sql_query(\"select * from albums\", con=connector).head()"
   ]
  },
  {
   "cell_type": "markdown",
   "metadata": {
    "slideshow": {
     "slide_type": "slide"
    }
   },
   "source": [
    "<a id='api'></a>\n",
    "## API\n",
    "\n",
    "¿Has escuchado el término __API__? Fuera de todo tecnicismo, las APIs (_Application Programming Interface_) permiten hacer uso de funciones ya existentes en otro software (o de la infraestructura ya existente en otras plataformas) para no estar reinventando la rueda constantemente, reutilizando así código que se sabe que está probado y que funciona correctamente. Por ejemplo, cuando haces una compra online y utilizas WebPay. ¡Hay APIs en todos lados!\n",
    "\n",
    "### Un buen ejemplo: Data Chile\n",
    "\n",
    "Desde la web de [Data Chile](https://es.datachile.io):\n",
    "\n",
    "- Ofrece una radiografía de las temáticas más importantes para el desarrollo del país.\n",
    "- Ayuda a conocer tendencias y necesidades para el diseño e implementación de políticas públicas, programas de la sociedad civil, oportunidades de negocios y estrategias de marketing del sector privado.\n",
    "- Colabora en la toma de decisiones tanto del sector público como privado.\n",
    "- Integra información de más de 15 fuentes distintas pertenecientes a más de 10 organismos de Gobierno.\n",
    "- Crea y combina visualizaciones interactivas.\n",
    "- Piensa los datos como historias y no como archivos.\n"
   ]
  },
  {
   "cell_type": "markdown",
   "metadata": {},
   "source": [
    "#### Denme todos los datos!\n",
    "DataChile posee una API de datos que entrega la información para construir los gráficos y generar todos los textos del sitio. Todos los detalles en este [link](https://es.datachile.io/about/api)."
   ]
  },
  {
   "cell_type": "code",
   "execution_count": 12,
   "metadata": {},
   "outputs": [
    {
     "name": "stdout",
     "output_type": "stream",
     "text": [
      "Automatic pdb calling has been turned ON\n"
     ]
    }
   ],
   "source": [
    "%pdb"
   ]
  },
  {
   "cell_type": "code",
   "execution_count": 13,
   "metadata": {},
   "outputs": [
    {
     "ename": "KeyError",
     "evalue": "'axis_dimensions'",
     "output_type": "error",
     "traceback": [
      "\u001b[0;31m---------------------------------------------------------------------------\u001b[0m",
      "\u001b[0;31mKeyError\u001b[0m                                  Traceback (most recent call last)",
      "\u001b[0;32m<ipython-input-13-635135af0824>\u001b[0m in \u001b[0;36m<module>\u001b[0;34m\u001b[0m\n\u001b[1;32m     13\u001b[0m             {\n\u001b[1;32m     14\u001b[0m                 \u001b[0;34m\"drilldown\"\u001b[0m\u001b[0;34m:\u001b[0m \u001b[0;34m[\u001b[0m\u001b[0;34m\"Date\"\u001b[0m\u001b[0;34m,\u001b[0m \u001b[0;34m\"Year\"\u001b[0m\u001b[0;34m]\u001b[0m\u001b[0;34m,\u001b[0m\u001b[0;34m\u001b[0m\u001b[0;34m\u001b[0m\u001b[0m\n\u001b[0;32m---> 15\u001b[0;31m                 \u001b[0;34m\"values\"\u001b[0m\u001b[0;34m:\u001b[0m \u001b[0;34m[\u001b[0m\u001b[0;36m2012\u001b[0m\u001b[0;34m,\u001b[0m \u001b[0;36m2013\u001b[0m\u001b[0;34m,\u001b[0m \u001b[0;36m2014\u001b[0m\u001b[0;34m]\u001b[0m\u001b[0;34m\u001b[0m\u001b[0;34m\u001b[0m\u001b[0m\n\u001b[0m\u001b[1;32m     16\u001b[0m             }\n\u001b[1;32m     17\u001b[0m         ],\n",
      "\u001b[0;32m~/miniconda3/envs/ds/lib/python3.7/site-packages/datachile/chilecube.py\u001b[0m in \u001b[0;36mget\u001b[0;34m(self, cube_id, params, df, lang)\u001b[0m\n\u001b[1;32m    108\u001b[0m         \u001b[0magg\u001b[0m \u001b[0;34m=\u001b[0m \u001b[0mself\u001b[0m\u001b[0;34m.\u001b[0m\u001b[0mclient\u001b[0m\u001b[0;34m.\u001b[0m\u001b[0mget_aggregation\u001b[0m\u001b[0;34m(\u001b[0m\u001b[0mcube\u001b[0m\u001b[0;34m,\u001b[0m \u001b[0mobj\u001b[0m\u001b[0;34m)\u001b[0m\u001b[0;34m\u001b[0m\u001b[0;34m\u001b[0m\u001b[0m\n\u001b[1;32m    109\u001b[0m \u001b[0;34m\u001b[0m\u001b[0m\n\u001b[0;32m--> 110\u001b[0;31m         \u001b[0mq\u001b[0m \u001b[0;34m=\u001b[0m \u001b[0magg\u001b[0m\u001b[0;34m.\u001b[0m\u001b[0mtidy\u001b[0m\u001b[0;34m\u001b[0m\u001b[0;34m\u001b[0m\u001b[0m\n\u001b[0m\u001b[1;32m    111\u001b[0m \u001b[0;34m\u001b[0m\u001b[0m\n\u001b[1;32m    112\u001b[0m         \u001b[0mdata\u001b[0m \u001b[0;34m=\u001b[0m \u001b[0;34m[\u001b[0m\u001b[0;34m]\u001b[0m\u001b[0;34m\u001b[0m\u001b[0;34m\u001b[0m\u001b[0m\n",
      "\u001b[0;32m~/miniconda3/envs/ds/lib/python3.7/site-packages/mondrian_rest/aggregation.py\u001b[0m in \u001b[0;36mtidy\u001b[0;34m(self)\u001b[0m\n\u001b[1;32m    114\u001b[0m \u001b[0;34m\u001b[0m\u001b[0m\n\u001b[1;32m    115\u001b[0m         self._tidy = {\n\u001b[0;32m--> 116\u001b[0;31m             \u001b[0;34m'axes'\u001b[0m\u001b[0;34m:\u001b[0m \u001b[0mdata\u001b[0m\u001b[0;34m[\u001b[0m\u001b[0;34m'axis_dimensions'\u001b[0m\u001b[0;34m]\u001b[0m\u001b[0;34m[\u001b[0m\u001b[0;36m1\u001b[0m\u001b[0;34m:\u001b[0m\u001b[0;34m]\u001b[0m\u001b[0;34m,\u001b[0m\u001b[0;34m\u001b[0m\u001b[0;34m\u001b[0m\u001b[0m\n\u001b[0m\u001b[1;32m    117\u001b[0m             \u001b[0;34m'measures'\u001b[0m\u001b[0;34m:\u001b[0m \u001b[0mmeasures\u001b[0m\u001b[0;34m,\u001b[0m\u001b[0;34m\u001b[0m\u001b[0;34m\u001b[0m\u001b[0m\n\u001b[1;32m    118\u001b[0m             \u001b[0;34m'data'\u001b[0m\u001b[0;34m:\u001b[0m \u001b[0;34m[\u001b[0m\u001b[0mbuild_row\u001b[0m\u001b[0;34m(\u001b[0m\u001b[0mcell\u001b[0m\u001b[0;34m)\u001b[0m \u001b[0;32mfor\u001b[0m \u001b[0mcell\u001b[0m \u001b[0;32min\u001b[0m \u001b[0mproduct\u001b[0m\u001b[0;34m(\u001b[0m\u001b[0;34m*\u001b[0m\u001b[0mprod\u001b[0m\u001b[0;34m)\u001b[0m\u001b[0;34m]\u001b[0m\u001b[0;34m\u001b[0m\u001b[0;34m\u001b[0m\u001b[0m\n",
      "\u001b[0;31mKeyError\u001b[0m: 'axis_dimensions'"
     ]
    },
    {
     "name": "stdout",
     "output_type": "stream",
     "text": [
      "> \u001b[0;32m/home/alonsolml/miniconda3/envs/ds/lib/python3.7/site-packages/mondrian_rest/aggregation.py\u001b[0m(116)\u001b[0;36mtidy\u001b[0;34m()\u001b[0m\n",
      "\u001b[0;32m    114 \u001b[0;31m\u001b[0;34m\u001b[0m\u001b[0m\n",
      "\u001b[0m\u001b[0;32m    115 \u001b[0;31m        self._tidy = {\n",
      "\u001b[0m\u001b[0;32m--> 116 \u001b[0;31m            \u001b[0;34m'axes'\u001b[0m\u001b[0;34m:\u001b[0m \u001b[0mdata\u001b[0m\u001b[0;34m[\u001b[0m\u001b[0;34m'axis_dimensions'\u001b[0m\u001b[0;34m]\u001b[0m\u001b[0;34m[\u001b[0m\u001b[0;36m1\u001b[0m\u001b[0;34m:\u001b[0m\u001b[0;34m]\u001b[0m\u001b[0;34m,\u001b[0m\u001b[0;34m\u001b[0m\u001b[0;34m\u001b[0m\u001b[0m\n",
      "\u001b[0m\u001b[0;32m    117 \u001b[0;31m            \u001b[0;34m'measures'\u001b[0m\u001b[0;34m:\u001b[0m \u001b[0mmeasures\u001b[0m\u001b[0;34m,\u001b[0m\u001b[0;34m\u001b[0m\u001b[0;34m\u001b[0m\u001b[0m\n",
      "\u001b[0m\u001b[0;32m    118 \u001b[0;31m            \u001b[0;34m'data'\u001b[0m\u001b[0;34m:\u001b[0m \u001b[0;34m[\u001b[0m\u001b[0mbuild_row\u001b[0m\u001b[0;34m(\u001b[0m\u001b[0mcell\u001b[0m\u001b[0;34m)\u001b[0m \u001b[0;32mfor\u001b[0m \u001b[0mcell\u001b[0m \u001b[0;32min\u001b[0m \u001b[0mproduct\u001b[0m\u001b[0;34m(\u001b[0m\u001b[0;34m*\u001b[0m\u001b[0mprod\u001b[0m\u001b[0;34m)\u001b[0m\u001b[0;34m]\u001b[0m\u001b[0;34m\u001b[0m\u001b[0;34m\u001b[0m\u001b[0m\n",
      "\u001b[0m\n"
     ]
    },
    {
     "name": "stdin",
     "output_type": "stream",
     "text": [
      "ipdb>  type(data)\n"
     ]
    },
    {
     "name": "stdout",
     "output_type": "stream",
     "text": [
      "<class 'dict'>\n"
     ]
    },
    {
     "name": "stdin",
     "output_type": "stream",
     "text": [
      "ipdb>  data.keys()\n"
     ]
    },
    {
     "name": "stdout",
     "output_type": "stream",
     "text": [
      "dict_keys(['axes', 'cell_keys', 'values', 'mdx'])\n"
     ]
    },
    {
     "name": "stdin",
     "output_type": "stream",
     "text": [
      "ipdb>  data[\"axes\"]\n"
     ]
    },
    {
     "name": "stdout",
     "output_type": "stream",
     "text": [
      "[{'members': [{'name': 'FOB US', 'full_name': '[Measures].[FOB US]', 'all_member?': False, 'drillable?': False, 'depth': 0, 'caption': 'Exports (USD FOB)', 'key': 'FOB US', 'num_children': 0, 'parent_name': None, 'level_name': 'MeasuresLevel', 'children': []}], 'name': 'Measures', 'caption': 'Measures', 'type': 'measures', 'level': 'MeasuresLevel', 'level_depth': 0, 'hierarchy': 'Measures'}, {'members': [{'name': '2012', 'full_name': '[Date].[2012]', 'all_member?': False, 'drillable?': False, 'depth': 1, 'caption': '2012', 'key': 2012, 'num_children': 0, 'parent_name': '[Date].[All Dates]', 'level_name': 'Year', 'children': []}, {'name': '2013', 'full_name': '[Date].[2013]', 'all_member?': False, 'drillable?': False, 'depth': 1, 'caption': '2013', 'key': 2013, 'num_children': 0, 'parent_name': '[Date].[All Dates]', 'level_name': 'Year', 'children': []}, {'name': '2014', 'full_name': '[Date].[2014]', 'all_member?': False, 'drillable?': False, 'depth': 1, 'caption': '2014', 'key': 2014, 'num_children': 0, 'parent_name': '[Date].[All Dates]', 'level_name': 'Year', 'children': []}], 'name': 'Date', 'caption': 'Date', 'type': 'standard', 'level': 'Year', 'level_depth': 1, 'hierarchy': 'Date'}, {'members': [{'name': 'Senegal', 'full_name': '[Destination Country].[Country].[Africa].[Senegal]', 'all_member?': False, 'drillable?': False, 'depth': 2, 'caption': 'Senegal', 'key': 101, 'num_children': 0, 'parent_name': '[Destination Country].[Country].[Africa]', 'level_name': 'Country', 'children': []}, {'name': 'Gambia', 'full_name': '[Destination Country].[Country].[Africa].[Gambia]', 'all_member?': False, 'drillable?': False, 'depth': 2, 'caption': 'Gambia', 'key': 102, 'num_children': 0, 'parent_name': '[Destination Country].[Country].[Africa]', 'level_name': 'Country', 'children': []}, {'name': 'Guinea-Bissau', 'full_name': '[Destination Country].[Country].[Africa].[Guinea-Bissau]', 'all_member?': False, 'drillable?': False, 'depth': 2, 'caption': 'Guinea-Bissau', 'key': 103, 'num_children': 0, 'parent_name': '[Destination Country].[Country].[Africa]', 'level_name': 'Country', 'children': []}, {'name': 'Guinea', 'full_name': '[Destination Country].[Country].[Africa].[Guinea]', 'all_member?': False, 'drillable?': False, 'depth': 2, 'caption': 'Guinea', 'key': 104, 'num_children': 0, 'parent_name': '[Destination Country].[Country].[Africa]', 'level_name': 'Country', 'children': []}, {'name': 'Sierra Leone', 'full_name': '[Destination Country].[Country].[Africa].[Sierra Leone]', 'all_member?': False, 'drillable?': False, 'depth': 2, 'caption': 'Sierra Leone', 'key': 105, 'num_children': 0, 'parent_name': '[Destination Country].[Country].[Africa]', 'level_name': 'Country', 'children': []}, {'name': 'Liberia', 'full_name': '[Destination Country].[Country].[Africa].[Liberia]', 'all_member?': False, 'drillable?': False, 'depth': 2, 'caption': 'Liberia', 'key': 106, 'num_children': 0, 'parent_name': '[Destination Country].[Country].[Africa]', 'level_name': 'Country', 'children': []}, {'name': \"Côte d'Ivoire\", 'full_name': \"[Destination Country].[Country].[Africa].[Côte d'Ivoire]\", 'all_member?': False, 'drillable?': False, 'depth': 2, 'caption': \"Côte d'Ivoire\", 'key': 107, 'num_children': 0, 'parent_name': '[Destination Country].[Country].[Africa]', 'level_name': 'Country', 'children': []}, {'name': 'Ghana', 'full_name': '[Destination Country].[Country].[Africa].[Ghana]', 'all_member?': False, 'drillable?': False, 'depth': 2, 'caption': 'Ghana', 'key': 108, 'num_children': 0, 'parent_name': '[Destination Country].[Country].[Africa]', 'level_name': 'Country', 'children': []}, {'name': 'Togo', 'full_name': '[Destination Country].[Country].[Africa].[Togo]', 'all_member?': False, 'drillable?': False, 'depth': 2, 'caption': 'Togo', 'key': 109, 'num_children': 0, 'parent_name': '[Destination Country].[Country].[Africa]', 'level_name': 'Country', 'children': []}, {'name': 'Nigeria', 'full_name': '[Destination Country].[Country].[Africa].[Nigeria]', 'all_member?': False, 'drillable?': False, 'depth': 2, 'caption': 'Nigeria', 'key': 111, 'num_children': 0, 'parent_name': '[Destination Country].[Country].[Africa]', 'level_name': 'Country', 'children': []}, {'name': 'South Africa', 'full_name': '[Destination Country].[Country].[Africa].[South Africa]', 'all_member?': False, 'drillable?': False, 'depth': 2, 'caption': 'South Africa', 'key': 112, 'num_children': 0, 'parent_name': '[Destination Country].[Country].[Africa]', 'level_name': 'Country', 'children': []}, {'name': 'Botswana', 'full_name': '[Destination Country].[Country].[Africa].[Botswana]', 'all_member?': False, 'drillable?': False, 'depth': 2, 'caption': 'Botswana', 'key': 113, 'num_children': 0, 'parent_name': '[Destination Country].[Country].[Africa]', 'level_name': 'Country', 'children': []}, {'name': 'Lesotho', 'full_name': '[Destination Country].[Country].[Africa].[Lesotho]', 'all_member?': False, 'drillable?': False, 'depth': 2, 'caption': 'Lesotho', 'key': 114, 'num_children': 0, 'parent_name': '[Destination Country].[Country].[Africa]', 'level_name': 'Country', 'children': []}, {'name': 'Malawi', 'full_name': '[Destination Country].[Country].[Africa].[Malawi]', 'all_member?': False, 'drillable?': False, 'depth': 2, 'caption': 'Malawi', 'key': 115, 'num_children': 0, 'parent_name': '[Destination Country].[Country].[Africa]', 'level_name': 'Country', 'children': []}, {'name': 'Zimbabwe', 'full_name': '[Destination Country].[Country].[Africa].[Zimbabwe]', 'all_member?': False, 'drillable?': False, 'depth': 2, 'caption': 'Zimbabwe', 'key': 116, 'num_children': 0, 'parent_name': '[Destination Country].[Country].[Africa]', 'level_name': 'Country', 'children': []}, {'name': 'Zambia', 'full_name': '[Destination Country].[Country].[Africa].[Zambia]', 'all_member?': False, 'drillable?': False, 'depth': 2, 'caption': 'Zambia', 'key': 117, 'num_children': 0, 'parent_name': '[Destination Country].[Country].[Africa]', 'level_name': 'Country', 'children': []}, {'name': 'Comoros', 'full_name': '[Destination Country].[Country].[Africa].[Comoros]', 'all_member?': False, 'drillable?': False, 'depth': 2, 'caption': 'Comoros', 'key': 118, 'num_children': 0, 'parent_name': '[Destination Country].[Country].[Africa]', 'level_name': 'Country', 'children': []}, {'name': 'Mauritius', 'full_name': '[Destination Country].[Country].[Africa].[Mauritius]', 'all_member?': False, 'drillable?': False, 'depth': 2, 'caption': 'Mauritius', 'key': 119, 'num_children': 0, 'parent_name': '[Destination Country].[Country].[Africa]', 'level_name': 'Country', 'children': []}, {'name': 'Madagascar', 'full_name': '[Destination Country].[Country].[Africa].[Madagascar]', 'all_member?': False, 'drillable?': False, 'depth': 2, 'caption': 'Madagascar', 'key': 120, 'num_children': 0, 'parent_name': '[Destination Country].[Country].[Africa]', 'level_name': 'Country', 'children': []}, {'name': 'Mozambique', 'full_name': '[Destination Country].[Country].[Africa].[Mozambique]', 'all_member?': False, 'drillable?': False, 'depth': 2, 'caption': 'Mozambique', 'key': 121, 'num_children': 0, 'parent_name': '[Destination Country].[Country].[Africa]', 'level_name': 'Country', 'children': []}, {'name': 'Swaziland', 'full_name': '[Destination Country].[Country].[Africa].[Swaziland]', 'all_member?': False, 'drillable?': False, 'depth': 2, 'caption': 'Swaziland', 'key': 122, 'num_children': 0, 'parent_name': '[Destination Country].[Country].[Africa]', 'level_name': 'Country', 'children': []}, {'name': 'Sudan', 'full_name': '[Destination Country].[Country].[Africa].[Sudan]', 'all_member?': False, 'drillable?': False, 'depth': 2, 'caption': 'Sudan', 'key': 123, 'num_children': 0, 'parent_name': '[Destination Country].[Country].[Africa]', 'level_name': 'Country', 'children': []}, {'name': 'Egypt', 'full_name': '[Destination Country].[Country].[Africa].[Egypt]', 'all_member?': False, 'drillable?': False, 'depth': 2, 'caption': 'Egypt', 'key': 124, 'num_children': 0, 'parent_name': '[Destination Country].[Country].[Africa]', 'level_name': 'Country', 'children': []}, {'name': 'Libya', 'full_name': '[Destination Country].[Country].[Africa].[Libya]', 'all_member?': False, 'drillable?': False, 'depth': 2, 'caption': 'Libya', 'key': 125, 'num_children': 0, 'parent_name': '[Destination Country].[Country].[Africa]', 'level_name': 'Country', 'children': []}, {'name': 'Tunisia', 'full_name': '[Destination Country].[Country].[Africa].[Tunisia]', 'all_member?': False, 'drillable?': False, 'depth': 2, 'caption': 'Tunisia', 'key': 126, 'num_children': 0, 'parent_name': '[Destination Country].[Country].[Africa]', 'level_name': 'Country', 'children': []}, {'name': 'Algeria', 'full_name': '[Destination Country].[Country].[Africa].[Algeria]', 'all_member?': False, 'drillable?': False, 'depth': 2, 'caption': 'Algeria', 'key': 127, 'num_children': 0, 'parent_name': '[Destination Country].[Country].[Africa]', 'level_name': 'Country', 'children': []}, {'name': 'Morocco', 'full_name': '[Destination Country].[Country].[Africa].[Morocco]', 'all_member?': False, 'drillable?': False, 'depth': 2, 'caption': 'Morocco', 'key': 128, 'num_children': 0, 'parent_name': '[Destination Country].[Country].[Africa]', 'level_name': 'Country', 'children': []}, {'name': 'Cabo Verde', 'full_name': '[Destination Country].[Country].[Africa].[Cabo Verde]', 'all_member?': False, 'drillable?': False, 'depth': 2, 'caption': 'Cabo Verde', 'key': 129, 'num_children': 0, 'parent_name': '[Destination Country].[Country].[Africa]', 'level_name': 'Country', 'children': []}, {'name': 'Chad', 'full_name': '[Destination Country].[Country].[Africa].[Chad]', 'all_member?': False, 'drillable?': False, 'depth': 2, 'caption': 'Chad', 'key': 130, 'num_children': 0, 'parent_name': '[Destination Country].[Country].[Africa]', 'level_name': 'Country', 'children': []}, {'name': 'Niger', 'full_name': '[Destination Country].[Country].[Africa].[Niger]', 'all_member?': False, 'drillable?': False, 'depth': 2, 'caption': 'Niger', 'key': 131, 'num_children': 0, 'parent_name': '[Destination Country].[Country].[Africa]', 'level_name': 'Country', 'children': []}, {'name': 'Mali', 'full_name': '[Destination Country].[Country].[Africa].[Mali]', 'all_member?': False, 'drillable?': False, 'depth': 2, 'caption': 'Mali', 'key': 133, 'num_children': 0, 'parent_name': '[Destination Country].[Country].[Africa]', 'level_name': 'Country', 'children': []}, {'name': 'Mauritania', 'full_name': '[Destination Country].[Country].[Africa].[Mauritania]', 'all_member?': False, 'drillable?': False, 'depth': 2, 'caption': 'Mauritania', 'key': 134, 'num_children': 0, 'parent_name': '[Destination Country].[Country].[Africa]', 'level_name': 'Country', 'children': []}, {'name': 'Tanzania, United Republic of', 'full_name': '[Destination Country].[Country].[Africa].[Tanzania, United Republic of]', 'all_member?': False, 'drillable?': False, 'depth': 2, 'caption': 'Tanzania, United Republic of', 'key': 135, 'num_children': 0, 'parent_name': '[Destination Country].[Country].[Africa]', 'level_name': 'Country', 'children': []}, {'name': 'Uganda', 'full_name': '[Destination Country].[Country].[Africa].[Uganda]', 'all_member?': False, 'drillable?': False, 'depth': 2, 'caption': 'Uganda', 'key': 136, 'num_children': 0, 'parent_name': '[Destination Country].[Country].[Africa]', 'level_name': 'Country', 'children': []}, {'name': 'Kenya', 'full_name': '[Destination Country].[Country].[Africa].[Kenya]', 'all_member?': False, 'drillable?': False, 'depth': 2, 'caption': 'Kenya', 'key': 137, 'num_children': 0, 'parent_name': '[Destination Country].[Country].[Africa]', 'level_name': 'Country', 'children': []}, {'name': 'Somalia', 'full_name': '[Destination Country].[Country].[Africa].[Somalia]', 'all_member?': False, 'drillable?': False, 'depth': 2, 'caption': 'Somalia', 'key': 138, 'num_children': 0, 'parent_name': '[Destination Country].[Country].[Africa]', 'level_name': 'Country', 'children': []}, {'name': 'Ethiopia', 'full_name': '[Destination Country].[Country].[Africa].[Ethiopia]', 'all_member?': False, 'drillable?': False, 'depth': 2, 'caption': 'Ethiopia', 'key': 139, 'num_children': 0, 'parent_name': '[Destination Country].[Country].[Africa]', 'level_name': 'Country', 'children': []}, {'name': 'Angola', 'full_name': '[Destination Country].[Country].[Africa].[Angola]', 'all_member?': False, 'drillable?': False, 'depth': 2, 'caption': 'Angola', 'key': 140, 'num_children': 0, 'parent_name': '[Destination Country].[Country].[Africa]', 'level_name': 'Country', 'children': []}, {'name': 'Burundi', 'full_name': '[Destination Country].[Country].[Africa].[Burundi]', 'all_member?': False, 'drillable?': False, 'depth': 2, 'caption': 'Burundi', 'key': 141, 'num_children': 0, 'parent_name': '[Destination Country].[Country].[Africa]', 'level_name': 'Country', 'children': []}, {'name': 'Rwanda', 'full_name': '[Destination Country].[Country].[Africa].[Rwanda]', 'all_member?': False, 'drillable?': False, 'depth': 2, 'caption': 'Rwanda', 'key': 142, 'num_children': 0, 'parent_name': '[Destination Country].[Country].[Africa]', 'level_name': 'Country', 'children': []}, {'name': 'Congo', 'full_name': '[Destination Country].[Country].[Africa].[Congo]', 'all_member?': False, 'drillable?': False, 'depth': 2, 'caption': 'Congo', 'key': 143, 'num_children': 0, 'parent_name': '[Destination Country].[Country].[Africa]', 'level_name': 'Country', 'children': []}, {'name': 'Republic of the Congo', 'full_name': '[Destination Country].[Country].[Africa].[Republic of the Congo]', 'all_member?': False, 'drillable?': False, 'depth': 2, 'caption': 'Republic of the Congo', 'key': 144, 'num_children': 0, 'parent_name': '[Destination Country].[Country].[Africa]', 'level_name': 'Country', 'children': []}, {'name': 'Gabon', 'full_name': '[Destination Country].[Country].[Africa].[Gabon]', 'all_member?': False, 'drillable?': False, 'depth': 2, 'caption': 'Gabon', 'key': 145, 'num_children': 0, 'parent_name': '[Destination Country].[Country].[Africa]', 'level_name': 'Country', 'children': []}, {'name': 'Sao Tome and Principe', 'full_name': '[Destination Country].[Country].[Africa].[Sao Tome and Principe]', 'all_member?': False, 'drillable?': False, 'depth': 2, 'caption': 'Sao Tome and Principe', 'key': 146, 'num_children': 0, 'parent_name': '[Destination Country].[Country].[Africa]', 'level_name': 'Country', 'children': []}, {'name': 'Equatorial Guinea', 'full_name': '[Destination Country].[Country].[Africa].[Equatorial Guinea]', 'all_member?': False, 'drillable?': False, 'depth': 2, 'caption': 'Equatorial Guinea', 'key': 147, 'num_children': 0, 'parent_name': '[Destination Country].[Country].[Africa]', 'level_name': 'Country', 'children': []}, {'name': 'Central African Republic', 'full_name': '[Destination Country].[Country].[Africa].[Central African Republic]', 'all_member?': False, 'drillable?': False, 'depth': 2, 'caption': 'Central African Republic', 'key': 148, 'num_children': 0, 'parent_name': '[Destination Country].[Country].[Africa]', 'level_name': 'Country', 'children': []}, {'name': 'Cameroon', 'full_name': '[Destination Country].[Country].[Africa].[Cameroon]', 'all_member?': False, 'drillable?': False, 'depth': 2, 'caption': 'Cameroon', 'key': 149, 'num_children': 0, 'parent_name': '[Destination Country].[Country].[Africa]', 'level_name': 'Country', 'children': []}, {'name': 'Benin', 'full_name': '[Destination Country].[Country].[Africa].[Benin]', 'all_member?': False, 'drillable?': False, 'depth': 2, 'caption': 'Benin', 'key': 150, 'num_children': 0, 'parent_name': '[Destination Country].[Country].[Africa]', 'level_name': 'Country', 'children': []}, {'name': 'Bofutatsuana', 'full_name': '[Destination Country].[Country].[Africa].[Bofutatsuana]', 'all_member?': False, 'drillable?': False, 'depth': 2, 'caption': 'Bofutatsuana', 'key': 154, 'num_children': 0, 'parent_name': '[Destination Country].[Country].[Africa]', 'level_name': 'Country', 'children': []}, {'name': 'Djibouti', 'full_name': '[Destination Country].[Country].[Africa].[Djibouti]', 'all_member?': False, 'drillable?': False, 'depth': 2, 'caption': 'Djibouti', 'key': 155, 'num_children': 0, 'parent_name': '[Destination Country].[Country].[Africa]', 'level_name': 'Country', 'children': []}, {'name': 'Seychelles', 'full_name': '[Destination Country].[Country].[Africa].[Seychelles]', 'all_member?': False, 'drillable?': False, 'depth': 2, 'caption': 'Seychelles', 'key': 156, 'num_children': 0, 'parent_name': '[Destination Country].[Country].[Africa]', 'level_name': 'Country', 'children': []}, {'name': 'Namibia', 'full_name': '[Destination Country].[Country].[Africa].[Namibia]', 'all_member?': False, 'drillable?': False, 'depth': 2, 'caption': 'Namibia', 'key': 159, 'num_children': 0, 'parent_name': '[Destination Country].[Country].[Africa]', 'level_name': 'Country', 'children': []}, {'name': 'Burkina Faso', 'full_name': '[Destination Country].[Country].[Africa].[Burkina Faso]', 'all_member?': False, 'drillable?': False, 'depth': 2, 'caption': 'Burkina Faso', 'key': 161, 'num_children': 0, 'parent_name': '[Destination Country].[Country].[Africa]', 'level_name': 'Country', 'children': []}, {'name': 'Eritrea', 'full_name': '[Destination Country].[Country].[Africa].[Eritrea]', 'all_member?': False, 'drillable?': False, 'depth': 2, 'caption': 'Eritrea', 'key': 163, 'num_children': 0, 'parent_name': '[Destination Country].[Country].[Africa]', 'level_name': 'Country', 'children': []}, {'name': 'Marshall Islands', 'full_name': '[Destination Country].[Country].[Oceania].[Marshall Islands]', 'all_member?': False, 'drillable?': False, 'depth': 2, 'caption': 'Marshall Islands', 'key': 164, 'num_children': 0, 'parent_name': '[Destination Country].[Country].[Oceania]', 'level_name': 'Country', 'children': []}, {'name': 'Fiji', 'full_name': '[Destination Country].[Country].[Oceania].[Fiji]', 'all_member?': False, 'drillable?': False, 'depth': 2, 'caption': 'Fiji', 'key': 401, 'num_children': 0, 'parent_name': '[Destination Country].[Country].[Oceania]', 'level_name': 'Country', 'children': []}, {'name': 'Nauru', 'full_name': '[Destination Country].[Country].[Oceania].[Nauru]', 'all_member?': False, 'drillable?': False, 'depth': 2, 'caption': 'Nauru', 'key': 402, 'num_children': 0, 'parent_name': '[Destination Country].[Country].[Oceania]', 'level_name': 'Country', 'children': []}, {'name': 'Tonga', 'full_name': '[Destination Country].[Country].[Oceania].[Tonga]', 'all_member?': False, 'drillable?': False, 'depth': 2, 'caption': 'Tonga', 'key': 403, 'num_children': 0, 'parent_name': '[Destination Country].[Country].[Oceania]', 'level_name': 'Country', 'children': []}, {'name': 'Samoa', 'full_name': '[Destination Country].[Country].[Oceania].[Samoa]', 'all_member?': False, 'drillable?': False, 'depth': 2, 'caption': 'Samoa', 'key': 404, 'num_children': 0, 'parent_name': '[Destination Country].[Country].[Oceania]', 'level_name': 'Country', 'children': []}, {'name': 'New Zealand', 'full_name': '[Destination Country].[Country].[Oceania].[New Zealand]', 'all_member?': False, 'drillable?': False, 'depth': 2, 'caption': 'New Zealand', 'key': 405, 'num_children': 0, 'parent_name': '[Destination Country].[Country].[Oceania]', 'level_name': 'Country', 'children': []}, {'name': 'Australia', 'full_name': '[Destination Country].[Country].[Oceania].[Australia]', 'all_member?': False, 'drillable?': False, 'depth': 2, 'caption': 'Australia', 'key': 406, 'num_children': 0, 'parent_name': '[Destination Country].[Country].[Oceania]', 'level_name': 'Country', 'children': []}, {'name': 'Papua New Guinea', 'full_name': '[Destination Country].[Country].[Oceania].[Papua New Guinea]', 'all_member?': False, 'drillable?': False, 'depth': 2, 'caption': 'Papua New Guinea', 'key': 412, 'num_children': 0, 'parent_name': '[Destination Country].[Country].[Oceania]', 'level_name': 'Country', 'children': []}, {'name': 'Vanuatu', 'full_name': '[Destination Country].[Country].[Oceania].[Vanuatu]', 'all_member?': False, 'drillable?': False, 'depth': 2, 'caption': 'Vanuatu', 'key': 415, 'num_children': 0, 'parent_name': '[Destination Country].[Country].[Oceania]', 'level_name': 'Country', 'children': []}, {'name': 'Kiribati', 'full_name': '[Destination Country].[Country].[Oceania].[Kiribati]', 'all_member?': False, 'drillable?': False, 'depth': 2, 'caption': 'Kiribati', 'key': 416, 'num_children': 0, 'parent_name': '[Destination Country].[Country].[Oceania]', 'level_name': 'Country', 'children': []}, {'name': 'Micronesia', 'full_name': '[Destination Country].[Country].[Oceania].[Micronesia]', 'all_member?': False, 'drillable?': False, 'depth': 2, 'caption': 'Micronesia', 'key': 417, 'num_children': 0, 'parent_name': '[Destination Country].[Country].[Oceania]', 'level_name': 'Country', 'children': []}, {'name': 'Solomon Islands', 'full_name': '[Destination Country].[Country].[Oceania].[Solomon Islands]', 'all_member?': False, 'drillable?': False, 'depth': 2, 'caption': 'Solomon Islands', 'key': 418, 'num_children': 0, 'parent_name': '[Destination Country].[Country].[Oceania]', 'level_name': 'Country', 'children': []}, {'name': 'Tuvalu', 'full_name': '[Destination Country].[Country].[Oceania].[Tuvalu]', 'all_member?': False, 'drillable?': False, 'depth': 2, 'caption': 'Tuvalu', 'key': 419, 'num_children': 0, 'parent_name': '[Destination Country].[Country].[Oceania]', 'level_name': 'Country', 'children': []}, {'name': 'Palau', 'full_name': '[Destination Country].[Country].[Oceania].[Palau]', 'all_member?': False, 'drillable?': False, 'depth': 2, 'caption': 'Palau', 'key': 420, 'num_children': 0, 'parent_name': '[Destination Country].[Country].[Oceania]', 'level_name': 'Country', 'children': []}, {'name': 'Niue', 'full_name': '[Destination Country].[Country].[Oceania].[Niue]', 'all_member?': False, 'drillable?': False, 'depth': 2, 'caption': 'Niue', 'key': 421, 'num_children': 0, 'parent_name': '[Destination Country].[Country].[Oceania]', 'level_name': 'Country', 'children': []}, {'name': 'French Polynesia', 'full_name': '[Destination Country].[Country].[Oceania].[French Polynesia]', 'all_member?': False, 'drillable?': False, 'depth': 2, 'caption': 'French Polynesia', 'key': 422, 'num_children': 0, 'parent_name': '[Destination Country].[Country].[Oceania]', 'level_name': 'Country', 'children': []}, {'name': 'New Caledonia', 'full_name': '[Destination Country].[Country].[Oceania].[New Caledonia]', 'all_member?': False, 'drillable?': False, 'depth': 2, 'caption': 'New Caledonia', 'key': 423, 'num_children': 0, 'parent_name': '[Destination Country].[Country].[Oceania]', 'level_name': 'Country', 'children': []}, {'name': 'Northern Mariana Islands', 'full_name': '[Destination Country].[Country].[Oceania].[Northern Mariana Islands]', 'all_member?': False, 'drillable?': False, 'depth': 2, 'caption': 'Northern Mariana Islands', 'key': 424, 'num_children': 0, 'parent_name': '[Destination Country].[Country].[Oceania]', 'level_name': 'Country', 'children': []}, {'name': 'Guam', 'full_name': '[Destination Country].[Country].[Oceania].[Guam]', 'all_member?': False, 'drillable?': False, 'depth': 2, 'caption': 'Guam', 'key': 425, 'num_children': 0, 'parent_name': '[Destination Country].[Country].[Oceania]', 'level_name': 'Country', 'children': []}, {'name': 'Cook Islands', 'full_name': '[Destination Country].[Country].[Oceania].[Cook Islands]', 'all_member?': False, 'drillable?': False, 'depth': 2, 'caption': 'Cook Islands', 'key': 427, 'num_children': 0, 'parent_name': '[Destination Country].[Country].[Oceania]', 'level_name': 'Country', 'children': []}, {'name': 'Venezuela', 'full_name': '[Destination Country].[Country].[Americas].[Venezuela]', 'all_member?': False, 'drillable?': False, 'depth': 2, 'caption': 'Venezuela', 'key': 201, 'num_children': 0, 'parent_name': '[Destination Country].[Country].[Americas]', 'level_name': 'Country', 'children': []}, {'name': 'Colombia', 'full_name': '[Destination Country].[Country].[Americas].[Colombia]', 'all_member?': False, 'drillable?': False, 'depth': 2, 'caption': 'Colombia', 'key': 202, 'num_children': 0, 'parent_name': '[Destination Country].[Country].[Americas]', 'level_name': 'Country', 'children': []}, {'name': 'Trinidad and Tobago', 'full_name': '[Destination Country].[Country].[Americas].[Trinidad and Tobago]', 'all_member?': False, 'drillable?': False, 'depth': 2, 'caption': 'Trinidad and Tobago', 'key': 203, 'num_children': 0, 'parent_name': '[Destination Country].[Country].[Americas]', 'level_name': 'Country', 'children': []}, {'name': 'Barbados', 'full_name': '[Destination Country].[Country].[Americas].[Barbados]', 'all_member?': False, 'drillable?': False, 'depth': 2, 'caption': 'Barbados', 'key': 204, 'num_children': 0, 'parent_name': '[Destination Country].[Country].[Americas]', 'level_name': 'Country', 'children': []}, {'name': 'Jamaica', 'full_name': '[Destination Country].[Country].[Americas].[Jamaica]', 'all_member?': False, 'drillable?': False, 'depth': 2, 'caption': 'Jamaica', 'key': 205, 'num_children': 0, 'parent_name': '[Destination Country].[Country].[Americas]', 'level_name': 'Country', 'children': []}, {'name': 'Dominican Republic', 'full_name': '[Destination Country].[Country].[Americas].[Dominican Republic]', 'all_member?': False, 'drillable?': False, 'depth': 2, 'caption': 'Dominican Republic', 'key': 206, 'num_children': 0, 'parent_name': '[Destination Country].[Country].[Americas]', 'level_name': 'Country', 'children': []}, {'name': 'Bahamas', 'full_name': '[Destination Country].[Country].[Americas].[Bahamas]', 'all_member?': False, 'drillable?': False, 'depth': 2, 'caption': 'Bahamas', 'key': 207, 'num_children': 0, 'parent_name': '[Destination Country].[Country].[Americas]', 'level_name': 'Country', 'children': []}, {'name': 'Haiti', 'full_name': '[Destination Country].[Country].[Americas].[Haiti]', 'all_member?': False, 'drillable?': False, 'depth': 2, 'caption': 'Haiti', 'key': 208, 'num_children': 0, 'parent_name': '[Destination Country].[Country].[Americas]', 'level_name': 'Country', 'children': []}, {'name': 'Cuba', 'full_name': '[Destination Country].[Country].[Americas].[Cuba]', 'all_member?': False, 'drillable?': False, 'depth': 2, 'caption': 'Cuba', 'key': 209, 'num_children': 0, 'parent_name': '[Destination Country].[Country].[Americas]', 'level_name': 'Country', 'children': []}, {'name': 'Panama', 'full_name': '[Destination Country].[Country].[Americas].[Panama]', 'all_member?': False, 'drillable?': False, 'depth': 2, 'caption': 'Panama', 'key': 210, 'num_children': 0, 'parent_name': '[Destination Country].[Country].[Americas]', 'level_name': 'Country', 'children': []}, {'name': 'Costa Rica', 'full_name': '[Destination Country].[Country].[Americas].[Costa Rica]', 'all_member?': False, 'drillable?': False, 'depth': 2, 'caption': 'Costa Rica', 'key': 211, 'num_children': 0, 'parent_name': '[Destination Country].[Country].[Americas]', 'level_name': 'Country', 'children': []}, {'name': 'Nicaragua', 'full_name': '[Destination Country].[Country].[Americas].[Nicaragua]', 'all_member?': False, 'drillable?': False, 'depth': 2, 'caption': 'Nicaragua', 'key': 212, 'num_children': 0, 'parent_name': '[Destination Country].[Country].[Americas]', 'level_name': 'Country', 'children': []}, {'name': 'El Salvador', 'full_name': '[Destination Country].[Country].[Americas].[El Salvador]', 'all_member?': False, 'drillable?': False, 'depth': 2, 'caption': 'El Salvador', 'key': 213, 'num_children': 0, 'parent_name': '[Destination Country].[Country].[Americas]', 'level_name': 'Country', 'children': []}, {'name': 'Honduras', 'full_name': '[Destination Country].[Country].[Americas].[Honduras]', 'all_member?': False, 'drillable?': False, 'depth': 2, 'caption': 'Honduras', 'key': 214, 'num_children': 0, 'parent_name': '[Destination Country].[Country].[Americas]', 'level_name': 'Country', 'children': []}, {'name': 'Guatemala', 'full_name': '[Destination Country].[Country].[Americas].[Guatemala]', 'all_member?': False, 'drillable?': False, 'depth': 2, 'caption': 'Guatemala', 'key': 215, 'num_children': 0, 'parent_name': '[Destination Country].[Country].[Americas]', 'level_name': 'Country', 'children': []}, {'name': 'Mexico', 'full_name': '[Destination Country].[Country].[Americas].[Mexico]', 'all_member?': False, 'drillable?': False, 'depth': 2, 'caption': 'Mexico', 'key': 216, 'num_children': 0, 'parent_name': '[Destination Country].[Country].[Americas]', 'level_name': 'Country', 'children': []}, {'name': 'Guyana', 'full_name': '[Destination Country].[Country].[Americas].[Guyana]', 'all_member?': False, 'drillable?': False, 'depth': 2, 'caption': 'Guyana', 'key': 217, 'num_children': 0, 'parent_name': '[Destination Country].[Country].[Americas]', 'level_name': 'Country', 'children': []}, {'name': 'Ecuador', 'full_name': '[Destination Country].[Country].[Americas].[Ecuador]', 'all_member?': False, 'drillable?': False, 'depth': 2, 'caption': 'Ecuador', 'key': 218, 'num_children': 0, 'parent_name': '[Destination Country].[Country].[Americas]', 'level_name': 'Country', 'children': []}, {'name': 'Peru', 'full_name': '[Destination Country].[Country].[Americas].[Peru]', 'all_member?': False, 'drillable?': False, 'depth': 2, 'caption': 'Peru', 'key': 219, 'num_children': 0, 'parent_name': '[Destination Country].[Country].[Americas]', 'level_name': 'Country', 'children': []}, {'name': 'Brazil', 'full_name': '[Destination Country].[Country].[Americas].[Brazil]', 'all_member?': False, 'drillable?': False, 'depth': 2, 'caption': 'Brazil', 'key': 220, 'num_children': 0, 'parent_name': '[Destination Country].[Country].[Americas]', 'level_name': 'Country', 'children': []}, {'name': 'Bolivia', 'full_name': '[Destination Country].[Country].[Americas].[Bolivia]', 'all_member?': False, 'drillable?': False, 'depth': 2, 'caption': 'Bolivia', 'key': 221, 'num_children': 0, 'parent_name': '[Destination Country].[Country].[Americas]', 'level_name': 'Country', 'children': []}, {'name': 'Paraguay', 'full_name': '[Destination Country].[Country].[Americas].[Paraguay]', 'all_member?': False, 'drillable?': False, 'depth': 2, 'caption': 'Paraguay', 'key': 222, 'num_children': 0, 'parent_name': '[Destination Country].[Country].[Americas]', 'level_name': 'Country', 'children': []}, {'name': 'Uruguay', 'full_name': '[Destination Country].[Country].[Americas].[Uruguay]', 'all_member?': False, 'drillable?': False, 'depth': 2, 'caption': 'Uruguay', 'key': 223, 'num_children': 0, 'parent_name': '[Destination Country].[Country].[Americas]', 'level_name': 'Country', 'children': []}, {'name': 'Argentina', 'full_name': '[Destination Country].[Country].[Americas].[Argentina]', 'all_member?': False, 'drillable?': False, 'depth': 2, 'caption': 'Argentina', 'key': 224, 'num_children': 0, 'parent_name': '[Destination Country].[Country].[Americas]', 'level_name': 'Country', 'children': []}, {'name': 'United States of America', 'full_name': '[Destination Country].[Country].[Americas].[United States of America]', 'all_member?': False, 'drillable?': False, 'depth': 2, 'caption': 'United States of America', 'key': 225, 'num_children': 0, 'parent_name': '[Destination Country].[Country].[Americas]', 'level_name': 'Country', 'children': []}, {'name': 'Canada', 'full_name': '[Destination Country].[Country].[Americas].[Canada]', 'all_member?': False, 'drillable?': False, 'depth': 2, 'caption': 'Canada', 'key': 226, 'num_children': 0, 'parent_name': '[Destination Country].[Country].[Americas]', 'level_name': 'Country', 'children': []}, {'name': 'Dominica', 'full_name': '[Destination Country].[Country].[Americas].[Dominica]', 'all_member?': False, 'drillable?': False, 'depth': 2, 'caption': 'Dominica', 'key': 231, 'num_children': 0, 'parent_name': '[Destination Country].[Country].[Americas]', 'level_name': 'Country', 'children': []}, {'name': 'Grenada', 'full_name': '[Destination Country].[Country].[Americas].[Grenada]', 'all_member?': False, 'drillable?': False, 'depth': 2, 'caption': 'Grenada', 'key': 232, 'num_children': 0, 'parent_name': '[Destination Country].[Country].[Americas]', 'level_name': 'Country', 'children': []}, {'name': 'Saint Lucia', 'full_name': '[Destination Country].[Country].[Americas].[Saint Lucia]', 'all_member?': False, 'drillable?': False, 'depth': 2, 'caption': 'Saint Lucia', 'key': 233, 'num_children': 0, 'parent_name': '[Destination Country].[Country].[Americas]', 'level_name': 'Country', 'children': []}, {'name': 'Saint Vincent and the Grenadines', 'full_name': '[Destination Country].[Country].[Americas].[Saint Vincent and the Grenadines]', 'all_member?': False, 'drillable?': False, 'depth': 2, 'caption': 'Saint Vincent and the Grenadines', 'key': 234, 'num_children': 0, 'parent_name': '[Destination Country].[Country].[Americas]', 'level_name': 'Country', 'children': []}, {'name': 'Suriname', 'full_name': '[Destination Country].[Country].[Americas].[Suriname]', 'all_member?': False, 'drillable?': False, 'depth': 2, 'caption': 'Suriname', 'key': 235, 'num_children': 0, 'parent_name': '[Destination Country].[Country].[Americas]', 'level_name': 'Country', 'children': []}, {'name': 'Belize', 'full_name': '[Destination Country].[Country].[Americas].[Belize]', 'all_member?': False, 'drillable?': False, 'depth': 2, 'caption': 'Belize', 'key': 236, 'num_children': 0, 'parent_name': '[Destination Country].[Country].[Americas]', 'level_name': 'Country', 'children': []}, {'name': 'Antigua and Barbuda', 'full_name': '[Destination Country].[Country].[Americas].[Antigua and Barbuda]', 'all_member?': False, 'drillable?': False, 'depth': 2, 'caption': 'Antigua and Barbuda', 'key': 240, 'num_children': 0, 'parent_name': '[Destination Country].[Country].[Americas]', 'level_name': 'Country', 'children': []}, {'name': 'Saint Kitts and Nevis', 'full_name': '[Destination Country].[Country].[Americas].[Saint Kitts and Nevis]', 'all_member?': False, 'drillable?': False, 'depth': 2, 'caption': 'Saint Kitts and Nevis', 'key': 241, 'num_children': 0, 'parent_name': '[Destination Country].[Country].[Americas]', 'level_name': 'Country', 'children': []}, {'name': 'Anguilla', 'full_name': '[Destination Country].[Country].[Americas].[Anguilla]', 'all_member?': False, 'drillable?': False, 'depth': 2, 'caption': 'Anguilla', 'key': 242, 'num_children': 0, 'parent_name': '[Destination Country].[Country].[Americas]', 'level_name': 'Country', 'children': []}, {'name': 'Aruba', 'full_name': '[Destination Country].[Country].[Americas].[Aruba]', 'all_member?': False, 'drillable?': False, 'depth': 2, 'caption': 'Aruba', 'key': 243, 'num_children': 0, 'parent_name': '[Destination Country].[Country].[Americas]', 'level_name': 'Country', 'children': []}, {'name': 'Bermuda', 'full_name': '[Destination Country].[Country].[Americas].[Bermuda]', 'all_member?': False, 'drillable?': False, 'depth': 2, 'caption': 'Bermuda', 'key': 244, 'num_children': 0, 'parent_name': '[Destination Country].[Country].[Americas]', 'level_name': 'Country', 'children': []}, {'name': 'Cayman Islands', 'full_name': '[Destination Country].[Country].[Americas].[Cayman Islands]', 'all_member?': False, 'drillable?': False, 'depth': 2, 'caption': 'Cayman Islands', 'key': 246, 'num_children': 0, 'parent_name': '[Destination Country].[Country].[Americas]', 'level_name': 'Country', 'children': []}, {'name': 'Turks and Caicos Islands', 'full_name': '[Destination Country].[Country].[Americas].[Turks and Caicos Islands]', 'all_member?': False, 'drillable?': False, 'depth': 2, 'caption': 'Turks and Caicos Islands', 'key': 248, 'num_children': 0, 'parent_name': '[Destination Country].[Country].[Americas]', 'level_name': 'Country', 'children': []}, {'name': 'Virgin Islands (U.S.)', 'full_name': '[Destination Country].[Country].[Americas].[Virgin Islands (U.S.)]', 'all_member?': False, 'drillable?': False, 'depth': 2, 'caption': 'Virgin Islands (U.S.)', 'key': 249, 'num_children': 0, 'parent_name': '[Destination Country].[Country].[Americas]', 'level_name': 'Country', 'children': []}, {'name': 'Martinique', 'full_name': '[Destination Country].[Country].[Americas].[Martinique]', 'all_member?': False, 'drillable?': False, 'depth': 2, 'caption': 'Martinique', 'key': 250, 'num_children': 0, 'parent_name': '[Destination Country].[Country].[Americas]', 'level_name': 'Country', 'children': []}, {'name': 'Puerto Rico', 'full_name': '[Destination Country].[Country].[Americas].[Puerto Rico]', 'all_member?': False, 'drillable?': False, 'depth': 2, 'caption': 'Puerto Rico', 'key': 251, 'num_children': 0, 'parent_name': '[Destination Country].[Country].[Americas]', 'level_name': 'Country', 'children': []}, {'name': 'Montserrat', 'full_name': '[Destination Country].[Country].[Americas].[Montserrat]', 'all_member?': False, 'drillable?': False, 'depth': 2, 'caption': 'Montserrat', 'key': 252, 'num_children': 0, 'parent_name': '[Destination Country].[Country].[Americas]', 'level_name': 'Country', 'children': []}, {'name': 'Greenland', 'full_name': '[Destination Country].[Country].[Americas].[Greenland]', 'all_member?': False, 'drillable?': False, 'depth': 2, 'caption': 'Greenland', 'key': 253, 'num_children': 0, 'parent_name': '[Destination Country].[Country].[Americas]', 'level_name': 'Country', 'children': []}, {'name': 'Jordan', 'full_name': '[Destination Country].[Country].[Asia].[Jordan]', 'all_member?': False, 'drillable?': False, 'depth': 2, 'caption': 'Jordan', 'key': 301, 'num_children': 0, 'parent_name': '[Destination Country].[Country].[Asia]', 'level_name': 'Country', 'children': []}, {'name': 'Saudi Arabia', 'full_name': '[Destination Country].[Country].[Asia].[Saudi Arabia]', 'all_member?': False, 'drillable?': False, 'depth': 2, 'caption': 'Saudi Arabia', 'key': 302, 'num_children': 0, 'parent_name': '[Destination Country].[Country].[Asia]', 'level_name': 'Country', 'children': []}, {'name': 'Kuwait', 'full_name': '[Destination Country].[Country].[Asia].[Kuwait]', 'all_member?': False, 'drillable?': False, 'depth': 2, 'caption': 'Kuwait', 'key': 303, 'num_children': 0, 'parent_name': '[Destination Country].[Country].[Asia]', 'level_name': 'Country', 'children': []}, {'name': 'Oman', 'full_name': '[Destination Country].[Country].[Asia].[Oman]', 'all_member?': False, 'drillable?': False, 'depth': 2, 'caption': 'Oman', 'key': 304, 'num_children': 0, 'parent_name': '[Destination Country].[Country].[Asia]', 'level_name': 'Country', 'children': []}, {'name': 'Cyprus', 'full_name': '[Destination Country].[Country].[Asia].[Cyprus]', 'all_member?': False, 'drillable?': False, 'depth': 2, 'caption': 'Cyprus', 'key': 305, 'num_children': 0, 'parent_name': '[Destination Country].[Country].[Asia]', 'level_name': 'Country', 'children': []}, {'name': 'Israel', 'full_name': '[Destination Country].[Country].[Asia].[Israel]', 'all_member?': False, 'drillable?': False, 'depth': 2, 'caption': 'Israel', 'key': 306, 'num_children': 0, 'parent_name': '[Destination Country].[Country].[Asia]', 'level_name': 'Country', 'children': []}, {'name': 'Iraq', 'full_name': '[Destination Country].[Country].[Asia].[Iraq]', 'all_member?': False, 'drillable?': False, 'depth': 2, 'caption': 'Iraq', 'key': 307, 'num_children': 0, 'parent_name': '[Destination Country].[Country].[Asia]', 'level_name': 'Country', 'children': []}, {'name': 'Afghanistan', 'full_name': '[Destination Country].[Country].[Asia].[Afghanistan]', 'all_member?': False, 'drillable?': False, 'depth': 2, 'caption': 'Afghanistan', 'key': 308, 'num_children': 0, 'parent_name': '[Destination Country].[Country].[Asia]', 'level_name': 'Country', 'children': []}, {'name': 'Iran', 'full_name': '[Destination Country].[Country].[Asia].[Iran]', 'all_member?': False, 'drillable?': False, 'depth': 2, 'caption': 'Iran', 'key': 309, 'num_children': 0, 'parent_name': '[Destination Country].[Country].[Asia]', 'level_name': 'Country', 'children': []}, {'name': 'Syrian Arab Republic', 'full_name': '[Destination Country].[Country].[Asia].[Syrian Arab Republic]', 'all_member?': False, 'drillable?': False, 'depth': 2, 'caption': 'Syrian Arab Republic', 'key': 310, 'num_children': 0, 'parent_name': '[Destination Country].[Country].[Asia]', 'level_name': 'Country', 'children': []}, {'name': 'Lebanon', 'full_name': '[Destination Country].[Country].[Asia].[Lebanon]', 'all_member?': False, 'drillable?': False, 'depth': 2, 'caption': 'Lebanon', 'key': 311, 'num_children': 0, 'parent_name': '[Destination Country].[Country].[Asia]', 'level_name': 'Country', 'children': []}, {'name': 'Qatar', 'full_name': '[Destination Country].[Country].[Asia].[Qatar]', 'all_member?': False, 'drillable?': False, 'depth': 2, 'caption': 'Qatar', 'key': 312, 'num_children': 0, 'parent_name': '[Destination Country].[Country].[Asia]', 'level_name': 'Country', 'children': []}, {'name': 'Bahrain', 'full_name': '[Destination Country].[Country].[Asia].[Bahrain]', 'all_member?': False, 'drillable?': False, 'depth': 2, 'caption': 'Bahrain', 'key': 313, 'num_children': 0, 'parent_name': '[Destination Country].[Country].[Asia]', 'level_name': 'Country', 'children': []}, {'name': 'Sri Lanka', 'full_name': '[Destination Country].[Country].[Asia].[Sri Lanka]', 'all_member?': False, 'drillable?': False, 'depth': 2, 'caption': 'Sri Lanka', 'key': 314, 'num_children': 0, 'parent_name': '[Destination Country].[Country].[Asia]', 'level_name': 'Country', 'children': []}, {'name': 'Cambodia', 'full_name': '[Destination Country].[Country].[Asia].[Cambodia]', 'all_member?': False, 'drillable?': False, 'depth': 2, 'caption': 'Cambodia', 'key': 315, 'num_children': 0, 'parent_name': '[Destination Country].[Country].[Asia]', 'level_name': 'Country', 'children': []}, {'name': \"Lao People's Democratic Republic\", 'full_name': \"[Destination Country].[Country].[Asia].[Lao People's Democratic Republic]\", 'all_member?': False, 'drillable?': False, 'depth': 2, 'caption': \"Lao People's Democratic Republic\", 'key': 316, 'num_children': 0, 'parent_name': '[Destination Country].[Country].[Asia]', 'level_name': 'Country', 'children': []}, {'name': 'India', 'full_name': '[Destination Country].[Country].[Asia].[India]', 'all_member?': False, 'drillable?': False, 'depth': 2, 'caption': 'India', 'key': 317, 'num_children': 0, 'parent_name': '[Destination Country].[Country].[Asia]', 'level_name': 'Country', 'children': []}, {'name': 'Bhutan', 'full_name': '[Destination Country].[Country].[Asia].[Bhutan]', 'all_member?': False, 'drillable?': False, 'depth': 2, 'caption': 'Bhutan', 'key': 318, 'num_children': 0, 'parent_name': '[Destination Country].[Country].[Asia]', 'level_name': 'Country', 'children': []}, {'name': 'Thailand', 'full_name': '[Destination Country].[Country].[Asia].[Thailand]', 'all_member?': False, 'drillable?': False, 'depth': 2, 'caption': 'Thailand', 'key': 319, 'num_children': 0, 'parent_name': '[Destination Country].[Country].[Asia]', 'level_name': 'Country', 'children': []}, {'name': 'Nepal', 'full_name': '[Destination Country].[Country].[Asia].[Nepal]', 'all_member?': False, 'drillable?': False, 'depth': 2, 'caption': 'Nepal', 'key': 320, 'num_children': 0, 'parent_name': '[Destination Country].[Country].[Asia]', 'level_name': 'Country', 'children': []}, {'name': 'Bangladesh', 'full_name': '[Destination Country].[Country].[Asia].[Bangladesh]', 'all_member?': False, 'drillable?': False, 'depth': 2, 'caption': 'Bangladesh', 'key': 321, 'num_children': 0, 'parent_name': '[Destination Country].[Country].[Asia]', 'level_name': 'Country', 'children': []}, {'name': 'North Yemen', 'full_name': '[Destination Country].[Country].[Asia].[North Yemen]', 'all_member?': False, 'drillable?': False, 'depth': 2, 'caption': 'North Yemen', 'key': 322, 'num_children': 0, 'parent_name': '[Destination Country].[Country].[Asia]', 'level_name': 'Country', 'children': []}, {'name': 'South Yemen', 'full_name': '[Destination Country].[Country].[Asia].[South Yemen]', 'all_member?': False, 'drillable?': False, 'depth': 2, 'caption': 'South Yemen', 'key': 323, 'num_children': 0, 'parent_name': '[Destination Country].[Country].[Asia]', 'level_name': 'Country', 'children': []}, {'name': 'Pakistan', 'full_name': '[Destination Country].[Country].[Asia].[Pakistan]', 'all_member?': False, 'drillable?': False, 'depth': 2, 'caption': 'Pakistan', 'key': 324, 'num_children': 0, 'parent_name': '[Destination Country].[Country].[Asia]', 'level_name': 'Country', 'children': []}, {'name': 'Viet Nam', 'full_name': '[Destination Country].[Country].[Asia].[Viet Nam]', 'all_member?': False, 'drillable?': False, 'depth': 2, 'caption': 'Viet Nam', 'key': 325, 'num_children': 0, 'parent_name': '[Destination Country].[Country].[Asia]', 'level_name': 'Country', 'children': []}, {'name': 'Myanmar', 'full_name': '[Destination Country].[Country].[Asia].[Myanmar]', 'all_member?': False, 'drillable?': False, 'depth': 2, 'caption': 'Myanmar', 'key': 326, 'num_children': 0, 'parent_name': '[Destination Country].[Country].[Asia]', 'level_name': 'Country', 'children': []}, {'name': 'Maldives', 'full_name': '[Destination Country].[Country].[Asia].[Maldives]', 'all_member?': False, 'drillable?': False, 'depth': 2, 'caption': 'Maldives', 'key': 327, 'num_children': 0, 'parent_name': '[Destination Country].[Country].[Asia]', 'level_name': 'Country', 'children': []}, {'name': 'Indonesia', 'full_name': '[Destination Country].[Country].[Asia].[Indonesia]', 'all_member?': False, 'drillable?': False, 'depth': 2, 'caption': 'Indonesia', 'key': 328, 'num_children': 0, 'parent_name': '[Destination Country].[Country].[Asia]', 'level_name': 'Country', 'children': []}, {'name': 'Malaysia', 'full_name': '[Destination Country].[Country].[Asia].[Malaysia]', 'all_member?': False, 'drillable?': False, 'depth': 2, 'caption': 'Malaysia', 'key': 329, 'num_children': 0, 'parent_name': '[Destination Country].[Country].[Asia]', 'level_name': 'Country', 'children': []}, {'name': 'Taiwan, Province of China', 'full_name': '[Destination Country].[Country].[Asia].[Taiwan, Province of China]', 'all_member?': False, 'drillable?': False, 'depth': 2, 'caption': 'Taiwan, Province of China', 'key': 330, 'num_children': 0, 'parent_name': '[Destination Country].[Country].[Asia]', 'level_name': 'Country', 'children': []}, {'name': 'Japan', 'full_name': '[Destination Country].[Country].[Asia].[Japan]', 'all_member?': False, 'drillable?': False, 'depth': 2, 'caption': 'Japan', 'key': 331, 'num_children': 0, 'parent_name': '[Destination Country].[Country].[Asia]', 'level_name': 'Country', 'children': []}, {'name': 'Singapore', 'full_name': '[Destination Country].[Country].[Asia].[Singapore]', 'all_member?': False, 'drillable?': False, 'depth': 2, 'caption': 'Singapore', 'key': 332, 'num_children': 0, 'parent_name': '[Destination Country].[Country].[Asia]', 'level_name': 'Country', 'children': []}, {'name': 'South Korea', 'full_name': '[Destination Country].[Country].[Asia].[South Korea]', 'all_member?': False, 'drillable?': False, 'depth': 2, 'caption': 'South Korea', 'key': 333, 'num_children': 0, 'parent_name': '[Destination Country].[Country].[Asia]', 'level_name': 'Country', 'children': []}, {'name': 'North Korea', 'full_name': '[Destination Country].[Country].[Asia].[North Korea]', 'all_member?': False, 'drillable?': False, 'depth': 2, 'caption': 'North Korea', 'key': 334, 'num_children': 0, 'parent_name': '[Destination Country].[Country].[Asia]', 'level_name': 'Country', 'children': []}, {'name': 'Philippines', 'full_name': '[Destination Country].[Country].[Asia].[Philippines]', 'all_member?': False, 'drillable?': False, 'depth': 2, 'caption': 'Philippines', 'key': 335, 'num_children': 0, 'parent_name': '[Destination Country].[Country].[Asia]', 'level_name': 'Country', 'children': []}, {'name': 'China', 'full_name': '[Destination Country].[Country].[Asia].[China]', 'all_member?': False, 'drillable?': False, 'depth': 2, 'caption': 'China', 'key': 336, 'num_children': 0, 'parent_name': '[Destination Country].[Country].[Asia]', 'level_name': 'Country', 'children': []}, {'name': 'Mongolia', 'full_name': '[Destination Country].[Country].[Asia].[Mongolia]', 'all_member?': False, 'drillable?': False, 'depth': 2, 'caption': 'Mongolia', 'key': 337, 'num_children': 0, 'parent_name': '[Destination Country].[Country].[Asia]', 'level_name': 'Country', 'children': []}, {'name': 'United Arab Emirates', 'full_name': '[Destination Country].[Country].[Asia].[United Arab Emirates]', 'all_member?': False, 'drillable?': False, 'depth': 2, 'caption': 'United Arab Emirates', 'key': 341, 'num_children': 0, 'parent_name': '[Destination Country].[Country].[Asia]', 'level_name': 'Country', 'children': []}, {'name': 'Hong Kong', 'full_name': '[Destination Country].[Country].[Asia].[Hong Kong]', 'all_member?': False, 'drillable?': False, 'depth': 2, 'caption': 'Hong Kong', 'key': 342, 'num_children': 0, 'parent_name': '[Destination Country].[Country].[Asia]', 'level_name': 'Country', 'children': []}, {'name': 'Brunei Darussalam', 'full_name': '[Destination Country].[Country].[Asia].[Brunei Darussalam]', 'all_member?': False, 'drillable?': False, 'depth': 2, 'caption': 'Brunei Darussalam', 'key': 344, 'num_children': 0, 'parent_name': '[Destination Country].[Country].[Asia]', 'level_name': 'Country', 'children': []}, {'name': 'Macao', 'full_name': '[Destination Country].[Country].[Asia].[Macao]', 'all_member?': False, 'drillable?': False, 'depth': 2, 'caption': 'Macao', 'key': 345, 'num_children': 0, 'parent_name': '[Destination Country].[Country].[Asia]', 'level_name': 'Country', 'children': []}, {'name': 'Yemen', 'full_name': '[Destination Country].[Country].[Asia].[Yemen]', 'all_member?': False, 'drillable?': False, 'depth': 2, 'caption': 'Yemen', 'key': 346, 'num_children': 0, 'parent_name': '[Destination Country].[Country].[Asia]', 'level_name': 'Country', 'children': []}, {'name': 'Timor-Leste', 'full_name': '[Destination Country].[Country].[Asia].[Timor-Leste]', 'all_member?': False, 'drillable?': False, 'depth': 2, 'caption': 'Timor-Leste', 'key': 426, 'num_children': 0, 'parent_name': '[Destination Country].[Country].[Asia]', 'level_name': 'Country', 'children': []}, {'name': 'Turkey', 'full_name': '[Destination Country].[Country].[Asia].[Turkey]', 'all_member?': False, 'drillable?': False, 'depth': 2, 'caption': 'Turkey', 'key': 522, 'num_children': 0, 'parent_name': '[Destination Country].[Country].[Asia]', 'level_name': 'Country', 'children': []}, {'name': 'Armenia', 'full_name': '[Destination Country].[Country].[Asia].[Armenia]', 'all_member?': False, 'drillable?': False, 'depth': 2, 'caption': 'Armenia', 'key': 540, 'num_children': 0, 'parent_name': '[Destination Country].[Country].[Asia]', 'level_name': 'Country', 'children': []}, {'name': 'Azerbaijan', 'full_name': '[Destination Country].[Country].[Asia].[Azerbaijan]', 'all_member?': False, 'drillable?': False, 'depth': 2, 'caption': 'Azerbaijan', 'key': 541, 'num_children': 0, 'parent_name': '[Destination Country].[Country].[Asia]', 'level_name': 'Country', 'children': []}, {'name': 'Georgia', 'full_name': '[Destination Country].[Country].[Asia].[Georgia]', 'all_member?': False, 'drillable?': False, 'depth': 2, 'caption': 'Georgia', 'key': 550, 'num_children': 0, 'parent_name': '[Destination Country].[Country].[Asia]', 'level_name': 'Country', 'children': []}, {'name': 'Kazakhstan', 'full_name': '[Destination Country].[Country].[Asia].[Kazakhstan]', 'all_member?': False, 'drillable?': False, 'depth': 2, 'caption': 'Kazakhstan', 'key': 551, 'num_children': 0, 'parent_name': '[Destination Country].[Country].[Asia]', 'level_name': 'Country', 'children': []}, {'name': 'Kyrgyzstan', 'full_name': '[Destination Country].[Country].[Asia].[Kyrgyzstan]', 'all_member?': False, 'drillable?': False, 'depth': 2, 'caption': 'Kyrgyzstan', 'key': 552, 'num_children': 0, 'parent_name': '[Destination Country].[Country].[Asia]', 'level_name': 'Country', 'children': []}, {'name': 'Tajikistan', 'full_name': '[Destination Country].[Country].[Asia].[Tajikistan]', 'all_member?': False, 'drillable?': False, 'depth': 2, 'caption': 'Tajikistan', 'key': 557, 'num_children': 0, 'parent_name': '[Destination Country].[Country].[Asia]', 'level_name': 'Country', 'children': []}, {'name': 'Turkmenistan', 'full_name': '[Destination Country].[Country].[Asia].[Turkmenistan]', 'all_member?': False, 'drillable?': False, 'depth': 2, 'caption': 'Turkmenistan', 'key': 558, 'num_children': 0, 'parent_name': '[Destination Country].[Country].[Asia]', 'level_name': 'Country', 'children': []}, {'name': 'Uzbekistan', 'full_name': '[Destination Country].[Country].[Asia].[Uzbekistan]', 'all_member?': False, 'drillable?': False, 'depth': 2, 'caption': 'Uzbekistan', 'key': 560, 'num_children': 0, 'parent_name': '[Destination Country].[Country].[Asia]', 'level_name': 'Country', 'children': []}, {'name': 'Portugal', 'full_name': '[Destination Country].[Country].[Europe].[Portugal]', 'all_member?': False, 'drillable?': False, 'depth': 2, 'caption': 'Portugal', 'key': 501, 'num_children': 0, 'parent_name': '[Destination Country].[Country].[Europe]', 'level_name': 'Country', 'children': []}, {'name': 'Federal Republic of Germany', 'full_name': '[Destination Country].[Country].[Europe].[Federal Republic of Germany]', 'all_member?': False, 'drillable?': False, 'depth': 2, 'caption': 'Federal Republic of Germany', 'key': 502, 'num_children': 0, 'parent_name': '[Destination Country].[Country].[Europe]', 'level_name': 'Country', 'children': []}, {'name': 'German Democratic Republic (GDR)', 'full_name': '[Destination Country].[Country].[Europe].[German Democratic Republic (GDR)]', 'all_member?': False, 'drillable?': False, 'depth': 2, 'caption': 'German Democratic Republic (GDR)', 'key': 503, 'num_children': 0, 'parent_name': '[Destination Country].[Country].[Europe]', 'level_name': 'Country', 'children': []}, {'name': 'Italy', 'full_name': '[Destination Country].[Country].[Europe].[Italy]', 'all_member?': False, 'drillable?': False, 'depth': 2, 'caption': 'Italy', 'key': 504, 'num_children': 0, 'parent_name': '[Destination Country].[Country].[Europe]', 'level_name': 'Country', 'children': []}, {'name': 'France', 'full_name': '[Destination Country].[Country].[Europe].[France]', 'all_member?': False, 'drillable?': False, 'depth': 2, 'caption': 'France', 'key': 505, 'num_children': 0, 'parent_name': '[Destination Country].[Country].[Europe]', 'level_name': 'Country', 'children': []}, {'name': 'Ireland', 'full_name': '[Destination Country].[Country].[Europe].[Ireland]', 'all_member?': False, 'drillable?': False, 'depth': 2, 'caption': 'Ireland', 'key': 506, 'num_children': 0, 'parent_name': '[Destination Country].[Country].[Europe]', 'level_name': 'Country', 'children': []}, {'name': 'Denmark', 'full_name': '[Destination Country].[Country].[Europe].[Denmark]', 'all_member?': False, 'drillable?': False, 'depth': 2, 'caption': 'Denmark', 'key': 507, 'num_children': 0, 'parent_name': '[Destination Country].[Country].[Europe]', 'level_name': 'Country', 'children': []}, {'name': 'Switzerland', 'full_name': '[Destination Country].[Country].[Europe].[Switzerland]', 'all_member?': False, 'drillable?': False, 'depth': 2, 'caption': 'Switzerland', 'key': 508, 'num_children': 0, 'parent_name': '[Destination Country].[Country].[Europe]', 'level_name': 'Country', 'children': []}, {'name': 'Austria', 'full_name': '[Destination Country].[Country].[Europe].[Austria]', 'all_member?': False, 'drillable?': False, 'depth': 2, 'caption': 'Austria', 'key': 509, 'num_children': 0, 'parent_name': '[Destination Country].[Country].[Europe]', 'level_name': 'Country', 'children': []}, {'name': 'United Kingdom of Great Britain and Northern Ireland', 'full_name': '[Destination Country].[Country].[Europe].[United Kingdom of Great Britain and Northern Ireland]', 'all_member?': False, 'drillable?': False, 'depth': 2, 'caption': 'United Kingdom of Great Britain and Northern Ireland', 'key': 510, 'num_children': 0, 'parent_name': '[Destination Country].[Country].[Europe]', 'level_name': 'Country', 'children': []}, {'name': 'Sweden', 'full_name': '[Destination Country].[Country].[Europe].[Sweden]', 'all_member?': False, 'drillable?': False, 'depth': 2, 'caption': 'Sweden', 'key': 511, 'num_children': 0, 'parent_name': '[Destination Country].[Country].[Europe]', 'level_name': 'Country', 'children': []}, {'name': 'Finland', 'full_name': '[Destination Country].[Country].[Europe].[Finland]', 'all_member?': False, 'drillable?': False, 'depth': 2, 'caption': 'Finland', 'key': 512, 'num_children': 0, 'parent_name': '[Destination Country].[Country].[Europe]', 'level_name': 'Country', 'children': []}, {'name': 'Norway', 'full_name': '[Destination Country].[Country].[Europe].[Norway]', 'all_member?': False, 'drillable?': False, 'depth': 2, 'caption': 'Norway', 'key': 513, 'num_children': 0, 'parent_name': '[Destination Country].[Country].[Europe]', 'level_name': 'Country', 'children': []}, {'name': 'Belgium', 'full_name': '[Destination Country].[Country].[Europe].[Belgium]', 'all_member?': False, 'drillable?': False, 'depth': 2, 'caption': 'Belgium', 'key': 514, 'num_children': 0, 'parent_name': '[Destination Country].[Country].[Europe]', 'level_name': 'Country', 'children': []}, {'name': 'Netherlands', 'full_name': '[Destination Country].[Country].[Europe].[Netherlands]', 'all_member?': False, 'drillable?': False, 'depth': 2, 'caption': 'Netherlands', 'key': 515, 'num_children': 0, 'parent_name': '[Destination Country].[Country].[Europe]', 'level_name': 'Country', 'children': []}, {'name': 'Iceland', 'full_name': '[Destination Country].[Country].[Europe].[Iceland]', 'all_member?': False, 'drillable?': False, 'depth': 2, 'caption': 'Iceland', 'key': 516, 'num_children': 0, 'parent_name': '[Destination Country].[Country].[Europe]', 'level_name': 'Country', 'children': []}, {'name': 'Spain', 'full_name': '[Destination Country].[Country].[Europe].[Spain]', 'all_member?': False, 'drillable?': False, 'depth': 2, 'caption': 'Spain', 'key': 517, 'num_children': 0, 'parent_name': '[Destination Country].[Country].[Europe]', 'level_name': 'Country', 'children': []}, {'name': 'Albania', 'full_name': '[Destination Country].[Country].[Europe].[Albania]', 'all_member?': False, 'drillable?': False, 'depth': 2, 'caption': 'Albania', 'key': 518, 'num_children': 0, 'parent_name': '[Destination Country].[Country].[Europe]', 'level_name': 'Country', 'children': []}, {'name': 'Romania', 'full_name': '[Destination Country].[Country].[Europe].[Romania]', 'all_member?': False, 'drillable?': False, 'depth': 2, 'caption': 'Romania', 'key': 519, 'num_children': 0, 'parent_name': '[Destination Country].[Country].[Europe]', 'level_name': 'Country', 'children': []}, {'name': 'Greece', 'full_name': '[Destination Country].[Country].[Europe].[Greece]', 'all_member?': False, 'drillable?': False, 'depth': 2, 'caption': 'Greece', 'key': 520, 'num_children': 0, 'parent_name': '[Destination Country].[Country].[Europe]', 'level_name': 'Country', 'children': []}, {'name': 'Russian Federation', 'full_name': '[Destination Country].[Country].[Europe].[Russian Federation]', 'all_member?': False, 'drillable?': False, 'depth': 2, 'caption': 'Russian Federation', 'key': 521, 'num_children': 0, 'parent_name': '[Destination Country].[Country].[Europe]', 'level_name': 'Country', 'children': []}, {'name': 'Malta', 'full_name': '[Destination Country].[Country].[Europe].[Malta]', 'all_member?': False, 'drillable?': False, 'depth': 2, 'caption': 'Malta', 'key': 523, 'num_children': 0, 'parent_name': '[Destination Country].[Country].[Europe]', 'level_name': 'Country', 'children': []}, {'name': 'Holy See', 'full_name': '[Destination Country].[Country].[Europe].[Holy See]', 'all_member?': False, 'drillable?': False, 'depth': 2, 'caption': 'Holy See', 'key': 524, 'num_children': 0, 'parent_name': '[Destination Country].[Country].[Europe]', 'level_name': 'Country', 'children': []}, {'name': 'Andorra', 'full_name': '[Destination Country].[Country].[Europe].[Andorra]', 'all_member?': False, 'drillable?': False, 'depth': 2, 'caption': 'Andorra', 'key': 525, 'num_children': 0, 'parent_name': '[Destination Country].[Country].[Europe]', 'level_name': 'Country', 'children': []}, {'name': 'Yugoslavia', 'full_name': '[Destination Country].[Country].[Europe].[Yugoslavia]', 'all_member?': False, 'drillable?': False, 'depth': 2, 'caption': 'Yugoslavia', 'key': 526, 'num_children': 0, 'parent_name': '[Destination Country].[Country].[Europe]', 'level_name': 'Country', 'children': []}, {'name': 'Bulgaria', 'full_name': '[Destination Country].[Country].[Europe].[Bulgaria]', 'all_member?': False, 'drillable?': False, 'depth': 2, 'caption': 'Bulgaria', 'key': 527, 'num_children': 0, 'parent_name': '[Destination Country].[Country].[Europe]', 'level_name': 'Country', 'children': []}, {'name': 'Poland', 'full_name': '[Destination Country].[Country].[Europe].[Poland]', 'all_member?': False, 'drillable?': False, 'depth': 2, 'caption': 'Poland', 'key': 528, 'num_children': 0, 'parent_name': '[Destination Country].[Country].[Europe]', 'level_name': 'Country', 'children': []}, {'name': 'Hungary', 'full_name': '[Destination Country].[Country].[Europe].[Hungary]', 'all_member?': False, 'drillable?': False, 'depth': 2, 'caption': 'Hungary', 'key': 530, 'num_children': 0, 'parent_name': '[Destination Country].[Country].[Europe]', 'level_name': 'Country', 'children': []}, {'name': 'Luxembourg', 'full_name': '[Destination Country].[Country].[Europe].[Luxembourg]', 'all_member?': False, 'drillable?': False, 'depth': 2, 'caption': 'Luxembourg', 'key': 532, 'num_children': 0, 'parent_name': '[Destination Country].[Country].[Europe]', 'level_name': 'Country', 'children': []}, {'name': 'Liechtenstein', 'full_name': '[Destination Country].[Country].[Europe].[Liechtenstein]', 'all_member?': False, 'drillable?': False, 'depth': 2, 'caption': 'Liechtenstein', 'key': 534, 'num_children': 0, 'parent_name': '[Destination Country].[Country].[Europe]', 'level_name': 'Country', 'children': []}, {'name': 'Monaco', 'full_name': '[Destination Country].[Country].[Europe].[Monaco]', 'all_member?': False, 'drillable?': False, 'depth': 2, 'caption': 'Monaco', 'key': 535, 'num_children': 0, 'parent_name': '[Destination Country].[Country].[Europe]', 'level_name': 'Country', 'children': []}, {'name': 'San Marino', 'full_name': '[Destination Country].[Country].[Europe].[San Marino]', 'all_member?': False, 'drillable?': False, 'depth': 2, 'caption': 'San Marino', 'key': 536, 'num_children': 0, 'parent_name': '[Destination Country].[Country].[Europe]', 'level_name': 'Country', 'children': []}, {'name': 'Belarus', 'full_name': '[Destination Country].[Country].[Europe].[Belarus]', 'all_member?': False, 'drillable?': False, 'depth': 2, 'caption': 'Belarus', 'key': 542, 'num_children': 0, 'parent_name': '[Destination Country].[Country].[Europe]', 'level_name': 'Country', 'children': []}, {'name': 'Bosnia and Herzegovina', 'full_name': '[Destination Country].[Country].[Europe].[Bosnia and Herzegovina]', 'all_member?': False, 'drillable?': False, 'depth': 2, 'caption': 'Bosnia and Herzegovina', 'key': 543, 'num_children': 0, 'parent_name': '[Destination Country].[Country].[Europe]', 'level_name': 'Country', 'children': []}, {'name': 'Czech Republic', 'full_name': '[Destination Country].[Country].[Europe].[Czech Republic]', 'all_member?': False, 'drillable?': False, 'depth': 2, 'caption': 'Czech Republic', 'key': 544, 'num_children': 0, 'parent_name': '[Destination Country].[Country].[Europe]', 'level_name': 'Country', 'children': []}, {'name': 'Slovakia', 'full_name': '[Destination Country].[Country].[Europe].[Slovakia]', 'all_member?': False, 'drillable?': False, 'depth': 2, 'caption': 'Slovakia', 'key': 545, 'num_children': 0, 'parent_name': '[Destination Country].[Country].[Europe]', 'level_name': 'Country', 'children': []}, {'name': 'Serbia', 'full_name': '[Destination Country].[Country].[Europe].[Serbia]', 'all_member?': False, 'drillable?': False, 'depth': 2, 'caption': 'Serbia', 'key': 546, 'num_children': 0, 'parent_name': '[Destination Country].[Country].[Europe]', 'level_name': 'Country', 'children': []}, {'name': 'Croatia', 'full_name': '[Destination Country].[Country].[Europe].[Croatia]', 'all_member?': False, 'drillable?': False, 'depth': 2, 'caption': 'Croatia', 'key': 547, 'num_children': 0, 'parent_name': '[Destination Country].[Country].[Europe]', 'level_name': 'Country', 'children': []}, {'name': 'Slovenia', 'full_name': '[Destination Country].[Country].[Europe].[Slovenia]', 'all_member?': False, 'drillable?': False, 'depth': 2, 'caption': 'Slovenia', 'key': 548, 'num_children': 0, 'parent_name': '[Destination Country].[Country].[Europe]', 'level_name': 'Country', 'children': []}, {'name': 'Estonia', 'full_name': '[Destination Country].[Country].[Europe].[Estonia]', 'all_member?': False, 'drillable?': False, 'depth': 2, 'caption': 'Estonia', 'key': 549, 'num_children': 0, 'parent_name': '[Destination Country].[Country].[Europe]', 'level_name': 'Country', 'children': []}, {'name': 'Latvia', 'full_name': '[Destination Country].[Country].[Europe].[Latvia]', 'all_member?': False, 'drillable?': False, 'depth': 2, 'caption': 'Latvia', 'key': 553, 'num_children': 0, 'parent_name': '[Destination Country].[Country].[Europe]', 'level_name': 'Country', 'children': []}, {'name': 'Lithuania', 'full_name': '[Destination Country].[Country].[Europe].[Lithuania]', 'all_member?': False, 'drillable?': False, 'depth': 2, 'caption': 'Lithuania', 'key': 554, 'num_children': 0, 'parent_name': '[Destination Country].[Country].[Europe]', 'level_name': 'Country', 'children': []}, {'name': 'Macedonia', 'full_name': '[Destination Country].[Country].[Europe].[Macedonia]', 'all_member?': False, 'drillable?': False, 'depth': 2, 'caption': 'Macedonia', 'key': 555, 'num_children': 0, 'parent_name': '[Destination Country].[Country].[Europe]', 'level_name': 'Country', 'children': []}, {'name': 'Moldova', 'full_name': '[Destination Country].[Country].[Europe].[Moldova]', 'all_member?': False, 'drillable?': False, 'depth': 2, 'caption': 'Moldova', 'key': 556, 'num_children': 0, 'parent_name': '[Destination Country].[Country].[Europe]', 'level_name': 'Country', 'children': []}, {'name': 'Ukraine', 'full_name': '[Destination Country].[Country].[Europe].[Ukraine]', 'all_member?': False, 'drillable?': False, 'depth': 2, 'caption': 'Ukraine', 'key': 559, 'num_children': 0, 'parent_name': '[Destination Country].[Country].[Europe]', 'level_name': 'Country', 'children': []}, {'name': 'Montenegro', 'full_name': '[Destination Country].[Country].[Europe].[Montenegro]', 'all_member?': False, 'drillable?': False, 'depth': 2, 'caption': 'Montenegro', 'key': 561, 'num_children': 0, 'parent_name': '[Destination Country].[Country].[Europe]', 'level_name': 'Country', 'children': []}, {'name': 'Russia', 'full_name': '[Destination Country].[Country].[Europe].[Russia]', 'all_member?': False, 'drillable?': False, 'depth': 2, 'caption': 'Russia', 'key': 562, 'num_children': 0, 'parent_name': '[Destination Country].[Country].[Europe]', 'level_name': 'Country', 'children': []}, {'name': 'Germany', 'full_name': '[Destination Country].[Country].[Europe].[Germany]', 'all_member?': False, 'drillable?': False, 'depth': 2, 'caption': 'Germany', 'key': 563, 'num_children': 0, 'parent_name': '[Destination Country].[Country].[Europe]', 'level_name': 'Country', 'children': []}, {'name': 'Gibraltar', 'full_name': '[Destination Country].[Country].[Europe].[Gibraltar]', 'all_member?': False, 'drillable?': False, 'depth': 2, 'caption': 'Gibraltar', 'key': 565, 'num_children': 0, 'parent_name': '[Destination Country].[Country].[Europe]', 'level_name': 'Country', 'children': []}, {'name': 'Guernsey', 'full_name': '[Destination Country].[Country].[Europe].[Guernsey]', 'all_member?': False, 'drillable?': False, 'depth': 2, 'caption': 'Guernsey', 'key': 566, 'num_children': 0, 'parent_name': '[Destination Country].[Country].[Europe]', 'level_name': 'Country', 'children': []}, {'name': 'Isle of Man', 'full_name': '[Destination Country].[Country].[Europe].[Isle of Man]', 'all_member?': False, 'drillable?': False, 'depth': 2, 'caption': 'Isle of Man', 'key': 567, 'num_children': 0, 'parent_name': '[Destination Country].[Country].[Europe]', 'level_name': 'Country', 'children': []}, {'name': 'Jersey', 'full_name': '[Destination Country].[Country].[Europe].[Jersey]', 'all_member?': False, 'drillable?': False, 'depth': 2, 'caption': 'Jersey', 'key': 568, 'num_children': 0, 'parent_name': '[Destination Country].[Country].[Europe]', 'level_name': 'Country', 'children': []}, {'name': 'Alto Volta', 'full_name': '[Destination Country].[Country].[Other].[Alto Volta]', 'all_member?': False, 'drillable?': False, 'depth': 2, 'caption': 'Alto Volta', 'key': 132, 'num_children': 0, 'parent_name': '[Destination Country].[Country].[Other]', 'level_name': 'Country', 'children': []}, {'name': 'Territorio Británico en Africa', 'full_name': '[Destination Country].[Country].[Other].[Territorio Británico en Africa]', 'all_member?': False, 'drillable?': False, 'depth': 2, 'caption': 'Territorio Británico en Africa', 'key': 151, 'num_children': 0, 'parent_name': '[Destination Country].[Country].[Other]', 'level_name': 'Country', 'children': []}, {'name': 'Territorio Español en Africa', 'full_name': '[Destination Country].[Country].[Other].[Territorio Español en Africa]', 'all_member?': False, 'drillable?': False, 'depth': 2, 'caption': 'Territorio Español en Africa', 'key': 152, 'num_children': 0, 'parent_name': '[Destination Country].[Country].[Other]', 'level_name': 'Country', 'children': []}, {'name': 'Territorio Frances en Africa', 'full_name': '[Destination Country].[Country].[Other].[Territorio Frances en Africa]', 'all_member?': False, 'drillable?': False, 'depth': 2, 'caption': 'Territorio Frances en Africa', 'key': 153, 'num_children': 0, 'parent_name': '[Destination Country].[Country].[Other]', 'level_name': 'Country', 'children': []}, {'name': 'Venda', 'full_name': '[Destination Country].[Country].[Other].[Venda]', 'all_member?': False, 'drillable?': False, 'depth': 2, 'caption': 'Venda', 'key': 158, 'num_children': 0, 'parent_name': '[Destination Country].[Country].[Other]', 'level_name': 'Country', 'children': []}, {'name': 'Ciskei', 'full_name': '[Destination Country].[Country].[Other].[Ciskei]', 'all_member?': False, 'drillable?': False, 'depth': 2, 'caption': 'Ciskei', 'key': 162, 'num_children': 0, 'parent_name': '[Destination Country].[Country].[Other]', 'level_name': 'Country', 'children': []}, {'name': 'Saharavi', 'full_name': '[Destination Country].[Country].[Other].[Saharavi]', 'all_member?': False, 'drillable?': False, 'depth': 2, 'caption': 'Saharavi', 'key': 165, 'num_children': 0, 'parent_name': '[Destination Country].[Country].[Other]', 'level_name': 'Country', 'children': []}, {'name': 'Transkei', 'full_name': '[Destination Country].[Country].[Other].[Transkei]', 'all_member?': False, 'drillable?': False, 'depth': 2, 'caption': 'Transkei', 'key': 166, 'num_children': 0, 'parent_name': '[Destination Country].[Country].[Other]', 'level_name': 'Country', 'children': []}, {'name': 'Territorio Británico en América', 'full_name': '[Destination Country].[Country].[Other].[Territorio Británico en América]', 'all_member?': False, 'drillable?': False, 'depth': 2, 'caption': 'Territorio Británico en América', 'key': 227, 'num_children': 0, 'parent_name': '[Destination Country].[Country].[Other]', 'level_name': 'Country', 'children': []}, {'name': 'Territorio Francés en America', 'full_name': '[Destination Country].[Country].[Other].[Territorio Francés en America]', 'all_member?': False, 'drillable?': False, 'depth': 2, 'caption': 'Territorio Francés en America', 'key': 228, 'num_children': 0, 'parent_name': '[Destination Country].[Country].[Other]', 'level_name': 'Country', 'children': []}, {'name': 'Territorio Holandes en America', 'full_name': '[Destination Country].[Country].[Other].[Territorio Holandes en America]', 'all_member?': False, 'drillable?': False, 'depth': 2, 'caption': 'Territorio Holandes en America', 'key': 229, 'num_children': 0, 'parent_name': '[Destination Country].[Country].[Other]', 'level_name': 'Country', 'children': []}, {'name': 'Territorio de Dinamarca en América', 'full_name': '[Destination Country].[Country].[Other].[Territorio de Dinamarca en América]', 'all_member?': False, 'drillable?': False, 'depth': 2, 'caption': 'Territorio de Dinamarca en América', 'key': 230, 'num_children': 0, 'parent_name': '[Destination Country].[Country].[Other]', 'level_name': 'Country', 'children': []}, {'name': 'Islas Vírgenes Británicas', 'full_name': '[Destination Country].[Country].[Other].[Islas Vírgenes Británicas]', 'all_member?': False, 'drillable?': False, 'depth': 2, 'caption': 'Islas Vírgenes Británicas', 'key': 245, 'num_children': 0, 'parent_name': '[Destination Country].[Country].[Other]', 'level_name': 'Country', 'children': []}, {'name': 'Antillas Neerlandesas', 'full_name': '[Destination Country].[Country].[Other].[Antillas Neerlandesas]', 'all_member?': False, 'drillable?': False, 'depth': 2, 'caption': 'Antillas Neerlandesas', 'key': 247, 'num_children': 0, 'parent_name': '[Destination Country].[Country].[Other]', 'level_name': 'Country', 'children': []}, {'name': 'Territorio Portugues en Asia', 'full_name': '[Destination Country].[Country].[Other].[Territorio Portugues en Asia]', 'all_member?': False, 'drillable?': False, 'depth': 2, 'caption': 'Territorio Portugues en Asia', 'key': 343, 'num_children': 0, 'parent_name': '[Destination Country].[Country].[Other]', 'level_name': 'Country', 'children': []}, {'name': 'Territorio Británico en Oceanía y el Pacífico', 'full_name': '[Destination Country].[Country].[Other].[Territorio Británico en Oceanía y el Pacífico]', 'all_member?': False, 'drillable?': False, 'depth': 2, 'caption': 'Territorio Británico en Oceanía y el Pacífico', 'key': 407, 'num_children': 0, 'parent_name': '[Destination Country].[Country].[Other]', 'level_name': 'Country', 'children': []}, {'name': 'Territorio Francés en Oceanía y el Pacífico', 'full_name': '[Destination Country].[Country].[Other].[Territorio Francés en Oceanía y el Pacífico]', 'all_member?': False, 'drillable?': False, 'depth': 2, 'caption': 'Territorio Francés en Oceanía y el Pacífico', 'key': 408, 'num_children': 0, 'parent_name': '[Destination Country].[Country].[Other]', 'level_name': 'Country', 'children': []}, {'name': 'Territorio Norteamericano en Oceanía y el Pacífico', 'full_name': '[Destination Country].[Country].[Other].[Territorio Norteamericano en Oceanía y el Pacífico]', 'all_member?': False, 'drillable?': False, 'depth': 2, 'caption': 'Territorio Norteamericano en Oceanía y el Pacífico', 'key': 409, 'num_children': 0, 'parent_name': '[Destination Country].[Country].[Other]', 'level_name': 'Country', 'children': []}, {'name': 'Checoslovaquia', 'full_name': '[Destination Country].[Country].[Other].[Checoslovaquia]', 'all_member?': False, 'drillable?': False, 'depth': 2, 'caption': 'Checoslovaquia', 'key': 529, 'num_children': 0, 'parent_name': '[Destination Country].[Country].[Other]', 'level_name': 'Country', 'children': []}, {'name': 'Organismos Multilaterales', 'full_name': '[Destination Country].[Country].[Other].[Organismos Multilaterales]', 'all_member?': False, 'drillable?': False, 'depth': 2, 'caption': 'Organismos Multilaterales', 'key': 531, 'num_children': 0, 'parent_name': '[Destination Country].[Country].[Other]', 'level_name': 'Country', 'children': []}, {'name': 'Republica Federal de Yugoslavia (Serbia y Montenegro)', 'full_name': '[Destination Country].[Country].[Other].[Republica Federal de Yugoslavia (Serbia y Montenegro)]', 'all_member?': False, 'drillable?': False, 'depth': 2, 'caption': 'Republica Federal de Yugoslavia (Serbia y Montenegro)', 'key': 564, 'num_children': 0, 'parent_name': '[Destination Country].[Country].[Other]', 'level_name': 'Country', 'children': []}, {'name': 'Combustible y lubricantes destinados', 'full_name': '[Destination Country].[Country].[Other].[Combustible y lubricantes destinados]', 'all_member?': False, 'drillable?': False, 'depth': 2, 'caption': 'Combustible y lubricantes destinados', 'key': 901, 'num_children': 0, 'parent_name': '[Destination Country].[Country].[Other]', 'level_name': 'Country', 'children': []}, {'name': 'Rancho de naves y aeronaves extranjeras', 'full_name': '[Destination Country].[Country].[Other].[Rancho de naves y aeronaves extranjeras]', 'all_member?': False, 'drillable?': False, 'depth': 2, 'caption': 'Rancho de naves y aeronaves extranjeras', 'key': 902, 'num_children': 0, 'parent_name': '[Destination Country].[Country].[Other]', 'level_name': 'Country', 'children': []}, {'name': 'Pesca extraterritorial', 'full_name': '[Destination Country].[Country].[Other].[Pesca extraterritorial]', 'all_member?': False, 'drillable?': False, 'depth': 2, 'caption': 'Pesca extraterritorial', 'key': 903, 'num_children': 0, 'parent_name': '[Destination Country].[Country].[Other]', 'level_name': 'Country', 'children': []}, {'name': 'Orígenes o destinaciones no precisadas', 'full_name': '[Destination Country].[Country].[Other].[Orígenes o destinaciones no precisadas]', 'all_member?': False, 'drillable?': False, 'depth': 2, 'caption': 'Orígenes o destinaciones no precisadas', 'key': 904, 'num_children': 0, 'parent_name': '[Destination Country].[Country].[Other]', 'level_name': 'Country', 'children': []}, {'name': 'Zona franca Iquique', 'full_name': '[Destination Country].[Country].[Other].[Zona franca Iquique]', 'all_member?': False, 'drillable?': False, 'depth': 2, 'caption': 'Zona franca Iquique', 'key': 905, 'num_children': 0, 'parent_name': '[Destination Country].[Country].[Other]', 'level_name': 'Country', 'children': []}, {'name': 'Deposito franco', 'full_name': '[Destination Country].[Country].[Other].[Deposito franco]', 'all_member?': False, 'drillable?': False, 'depth': 2, 'caption': 'Deposito franco', 'key': 906, 'num_children': 0, 'parent_name': '[Destination Country].[Country].[Other]', 'level_name': 'Country', 'children': []}, {'name': 'Zona franca Punta Arenas', 'full_name': '[Destination Country].[Country].[Other].[Zona franca Punta Arenas]', 'all_member?': False, 'drillable?': False, 'depth': 2, 'caption': 'Zona franca Punta Arenas', 'key': 907, 'num_children': 0, 'parent_name': '[Destination Country].[Country].[Other]', 'level_name': 'Country', 'children': []}, {'name': 'Zona franca Arica', 'full_name': '[Destination Country].[Country].[Other].[Zona franca Arica]', 'all_member?': False, 'drillable?': False, 'depth': 2, 'caption': 'Zona franca Arica', 'key': 910, 'num_children': 0, 'parent_name': '[Destination Country].[Country].[Other]', 'level_name': 'Country', 'children': []}, {'name': 'DITS/Tramite simplificado', 'full_name': '[Destination Country].[Country].[Other].[DITS/Tramite simplificado]', 'all_member?': False, 'drillable?': False, 'depth': 2, 'caption': 'DITS/Tramite simplificado', 'key': 951, 'num_children': 0, 'parent_name': '[Destination Country].[Country].[Other]', 'level_name': 'Country', 'children': []}, {'name': 'Via Postal', 'full_name': '[Destination Country].[Country].[Other].[Via Postal]', 'all_member?': False, 'drillable?': False, 'depth': 2, 'caption': 'Via Postal', 'key': 952, 'num_children': 0, 'parent_name': '[Destination Country].[Country].[Other]', 'level_name': 'Country', 'children': []}, {'name': 'Chile', 'full_name': '[Destination Country].[Country].[Other].[Chile]', 'all_member?': False, 'drillable?': False, 'depth': 2, 'caption': 'Chile', 'key': 997, 'num_children': 0, 'parent_name': '[Destination Country].[Country].[Other]', 'level_name': 'Country', 'children': []}, {'name': 'Nacion reputada', 'full_name': '[Destination Country].[Country].[Other].[Nacion reputada]', 'all_member?': False, 'drillable?': False, 'depth': 2, 'caption': 'Nacion reputada', 'key': 998, 'num_children': 0, 'parent_name': '[Destination Country].[Country].[Other]', 'level_name': 'Country', 'children': []}, {'name': 'Otros 999', 'full_name': '[Destination Country].[Country].[Other].[Otros 999]', 'all_member?': False, 'drillable?': False, 'depth': 2, 'caption': 'Otros 999', 'key': 999, 'num_children': 0, 'parent_name': '[Destination Country].[Country].[Other]', 'level_name': 'Country', 'children': []}], 'name': 'Destination Country', 'caption': 'Destination Country', 'type': 'standard', 'level': 'Country', 'level_depth': 2, 'hierarchy': 'Country'}]\n"
     ]
    },
    {
     "name": "stdin",
     "output_type": "stream",
     "text": [
      "ipdb>  type(data[\"axes\"])\n"
     ]
    },
    {
     "name": "stdout",
     "output_type": "stream",
     "text": [
      "<class 'list'>\n"
     ]
    },
    {
     "name": "stdin",
     "output_type": "stream",
     "text": [
      "ipdb>  data[\"axes\"][1:]\n"
     ]
    },
    {
     "name": "stdout",
     "output_type": "stream",
     "text": [
      "[{'members': [{'name': '2012', 'full_name': '[Date].[2012]', 'all_member?': False, 'drillable?': False, 'depth': 1, 'caption': '2012', 'key': 2012, 'num_children': 0, 'parent_name': '[Date].[All Dates]', 'level_name': 'Year', 'children': []}, {'name': '2013', 'full_name': '[Date].[2013]', 'all_member?': False, 'drillable?': False, 'depth': 1, 'caption': '2013', 'key': 2013, 'num_children': 0, 'parent_name': '[Date].[All Dates]', 'level_name': 'Year', 'children': []}, {'name': '2014', 'full_name': '[Date].[2014]', 'all_member?': False, 'drillable?': False, 'depth': 1, 'caption': '2014', 'key': 2014, 'num_children': 0, 'parent_name': '[Date].[All Dates]', 'level_name': 'Year', 'children': []}], 'name': 'Date', 'caption': 'Date', 'type': 'standard', 'level': 'Year', 'level_depth': 1, 'hierarchy': 'Date'}, {'members': [{'name': 'Senegal', 'full_name': '[Destination Country].[Country].[Africa].[Senegal]', 'all_member?': False, 'drillable?': False, 'depth': 2, 'caption': 'Senegal', 'key': 101, 'num_children': 0, 'parent_name': '[Destination Country].[Country].[Africa]', 'level_name': 'Country', 'children': []}, {'name': 'Gambia', 'full_name': '[Destination Country].[Country].[Africa].[Gambia]', 'all_member?': False, 'drillable?': False, 'depth': 2, 'caption': 'Gambia', 'key': 102, 'num_children': 0, 'parent_name': '[Destination Country].[Country].[Africa]', 'level_name': 'Country', 'children': []}, {'name': 'Guinea-Bissau', 'full_name': '[Destination Country].[Country].[Africa].[Guinea-Bissau]', 'all_member?': False, 'drillable?': False, 'depth': 2, 'caption': 'Guinea-Bissau', 'key': 103, 'num_children': 0, 'parent_name': '[Destination Country].[Country].[Africa]', 'level_name': 'Country', 'children': []}, {'name': 'Guinea', 'full_name': '[Destination Country].[Country].[Africa].[Guinea]', 'all_member?': False, 'drillable?': False, 'depth': 2, 'caption': 'Guinea', 'key': 104, 'num_children': 0, 'parent_name': '[Destination Country].[Country].[Africa]', 'level_name': 'Country', 'children': []}, {'name': 'Sierra Leone', 'full_name': '[Destination Country].[Country].[Africa].[Sierra Leone]', 'all_member?': False, 'drillable?': False, 'depth': 2, 'caption': 'Sierra Leone', 'key': 105, 'num_children': 0, 'parent_name': '[Destination Country].[Country].[Africa]', 'level_name': 'Country', 'children': []}, {'name': 'Liberia', 'full_name': '[Destination Country].[Country].[Africa].[Liberia]', 'all_member?': False, 'drillable?': False, 'depth': 2, 'caption': 'Liberia', 'key': 106, 'num_children': 0, 'parent_name': '[Destination Country].[Country].[Africa]', 'level_name': 'Country', 'children': []}, {'name': \"Côte d'Ivoire\", 'full_name': \"[Destination Country].[Country].[Africa].[Côte d'Ivoire]\", 'all_member?': False, 'drillable?': False, 'depth': 2, 'caption': \"Côte d'Ivoire\", 'key': 107, 'num_children': 0, 'parent_name': '[Destination Country].[Country].[Africa]', 'level_name': 'Country', 'children': []}, {'name': 'Ghana', 'full_name': '[Destination Country].[Country].[Africa].[Ghana]', 'all_member?': False, 'drillable?': False, 'depth': 2, 'caption': 'Ghana', 'key': 108, 'num_children': 0, 'parent_name': '[Destination Country].[Country].[Africa]', 'level_name': 'Country', 'children': []}, {'name': 'Togo', 'full_name': '[Destination Country].[Country].[Africa].[Togo]', 'all_member?': False, 'drillable?': False, 'depth': 2, 'caption': 'Togo', 'key': 109, 'num_children': 0, 'parent_name': '[Destination Country].[Country].[Africa]', 'level_name': 'Country', 'children': []}, {'name': 'Nigeria', 'full_name': '[Destination Country].[Country].[Africa].[Nigeria]', 'all_member?': False, 'drillable?': False, 'depth': 2, 'caption': 'Nigeria', 'key': 111, 'num_children': 0, 'parent_name': '[Destination Country].[Country].[Africa]', 'level_name': 'Country', 'children': []}, {'name': 'South Africa', 'full_name': '[Destination Country].[Country].[Africa].[South Africa]', 'all_member?': False, 'drillable?': False, 'depth': 2, 'caption': 'South Africa', 'key': 112, 'num_children': 0, 'parent_name': '[Destination Country].[Country].[Africa]', 'level_name': 'Country', 'children': []}, {'name': 'Botswana', 'full_name': '[Destination Country].[Country].[Africa].[Botswana]', 'all_member?': False, 'drillable?': False, 'depth': 2, 'caption': 'Botswana', 'key': 113, 'num_children': 0, 'parent_name': '[Destination Country].[Country].[Africa]', 'level_name': 'Country', 'children': []}, {'name': 'Lesotho', 'full_name': '[Destination Country].[Country].[Africa].[Lesotho]', 'all_member?': False, 'drillable?': False, 'depth': 2, 'caption': 'Lesotho', 'key': 114, 'num_children': 0, 'parent_name': '[Destination Country].[Country].[Africa]', 'level_name': 'Country', 'children': []}, {'name': 'Malawi', 'full_name': '[Destination Country].[Country].[Africa].[Malawi]', 'all_member?': False, 'drillable?': False, 'depth': 2, 'caption': 'Malawi', 'key': 115, 'num_children': 0, 'parent_name': '[Destination Country].[Country].[Africa]', 'level_name': 'Country', 'children': []}, {'name': 'Zimbabwe', 'full_name': '[Destination Country].[Country].[Africa].[Zimbabwe]', 'all_member?': False, 'drillable?': False, 'depth': 2, 'caption': 'Zimbabwe', 'key': 116, 'num_children': 0, 'parent_name': '[Destination Country].[Country].[Africa]', 'level_name': 'Country', 'children': []}, {'name': 'Zambia', 'full_name': '[Destination Country].[Country].[Africa].[Zambia]', 'all_member?': False, 'drillable?': False, 'depth': 2, 'caption': 'Zambia', 'key': 117, 'num_children': 0, 'parent_name': '[Destination Country].[Country].[Africa]', 'level_name': 'Country', 'children': []}, {'name': 'Comoros', 'full_name': '[Destination Country].[Country].[Africa].[Comoros]', 'all_member?': False, 'drillable?': False, 'depth': 2, 'caption': 'Comoros', 'key': 118, 'num_children': 0, 'parent_name': '[Destination Country].[Country].[Africa]', 'level_name': 'Country', 'children': []}, {'name': 'Mauritius', 'full_name': '[Destination Country].[Country].[Africa].[Mauritius]', 'all_member?': False, 'drillable?': False, 'depth': 2, 'caption': 'Mauritius', 'key': 119, 'num_children': 0, 'parent_name': '[Destination Country].[Country].[Africa]', 'level_name': 'Country', 'children': []}, {'name': 'Madagascar', 'full_name': '[Destination Country].[Country].[Africa].[Madagascar]', 'all_member?': False, 'drillable?': False, 'depth': 2, 'caption': 'Madagascar', 'key': 120, 'num_children': 0, 'parent_name': '[Destination Country].[Country].[Africa]', 'level_name': 'Country', 'children': []}, {'name': 'Mozambique', 'full_name': '[Destination Country].[Country].[Africa].[Mozambique]', 'all_member?': False, 'drillable?': False, 'depth': 2, 'caption': 'Mozambique', 'key': 121, 'num_children': 0, 'parent_name': '[Destination Country].[Country].[Africa]', 'level_name': 'Country', 'children': []}, {'name': 'Swaziland', 'full_name': '[Destination Country].[Country].[Africa].[Swaziland]', 'all_member?': False, 'drillable?': False, 'depth': 2, 'caption': 'Swaziland', 'key': 122, 'num_children': 0, 'parent_name': '[Destination Country].[Country].[Africa]', 'level_name': 'Country', 'children': []}, {'name': 'Sudan', 'full_name': '[Destination Country].[Country].[Africa].[Sudan]', 'all_member?': False, 'drillable?': False, 'depth': 2, 'caption': 'Sudan', 'key': 123, 'num_children': 0, 'parent_name': '[Destination Country].[Country].[Africa]', 'level_name': 'Country', 'children': []}, {'name': 'Egypt', 'full_name': '[Destination Country].[Country].[Africa].[Egypt]', 'all_member?': False, 'drillable?': False, 'depth': 2, 'caption': 'Egypt', 'key': 124, 'num_children': 0, 'parent_name': '[Destination Country].[Country].[Africa]', 'level_name': 'Country', 'children': []}, {'name': 'Libya', 'full_name': '[Destination Country].[Country].[Africa].[Libya]', 'all_member?': False, 'drillable?': False, 'depth': 2, 'caption': 'Libya', 'key': 125, 'num_children': 0, 'parent_name': '[Destination Country].[Country].[Africa]', 'level_name': 'Country', 'children': []}, {'name': 'Tunisia', 'full_name': '[Destination Country].[Country].[Africa].[Tunisia]', 'all_member?': False, 'drillable?': False, 'depth': 2, 'caption': 'Tunisia', 'key': 126, 'num_children': 0, 'parent_name': '[Destination Country].[Country].[Africa]', 'level_name': 'Country', 'children': []}, {'name': 'Algeria', 'full_name': '[Destination Country].[Country].[Africa].[Algeria]', 'all_member?': False, 'drillable?': False, 'depth': 2, 'caption': 'Algeria', 'key': 127, 'num_children': 0, 'parent_name': '[Destination Country].[Country].[Africa]', 'level_name': 'Country', 'children': []}, {'name': 'Morocco', 'full_name': '[Destination Country].[Country].[Africa].[Morocco]', 'all_member?': False, 'drillable?': False, 'depth': 2, 'caption': 'Morocco', 'key': 128, 'num_children': 0, 'parent_name': '[Destination Country].[Country].[Africa]', 'level_name': 'Country', 'children': []}, {'name': 'Cabo Verde', 'full_name': '[Destination Country].[Country].[Africa].[Cabo Verde]', 'all_member?': False, 'drillable?': False, 'depth': 2, 'caption': 'Cabo Verde', 'key': 129, 'num_children': 0, 'parent_name': '[Destination Country].[Country].[Africa]', 'level_name': 'Country', 'children': []}, {'name': 'Chad', 'full_name': '[Destination Country].[Country].[Africa].[Chad]', 'all_member?': False, 'drillable?': False, 'depth': 2, 'caption': 'Chad', 'key': 130, 'num_children': 0, 'parent_name': '[Destination Country].[Country].[Africa]', 'level_name': 'Country', 'children': []}, {'name': 'Niger', 'full_name': '[Destination Country].[Country].[Africa].[Niger]', 'all_member?': False, 'drillable?': False, 'depth': 2, 'caption': 'Niger', 'key': 131, 'num_children': 0, 'parent_name': '[Destination Country].[Country].[Africa]', 'level_name': 'Country', 'children': []}, {'name': 'Mali', 'full_name': '[Destination Country].[Country].[Africa].[Mali]', 'all_member?': False, 'drillable?': False, 'depth': 2, 'caption': 'Mali', 'key': 133, 'num_children': 0, 'parent_name': '[Destination Country].[Country].[Africa]', 'level_name': 'Country', 'children': []}, {'name': 'Mauritania', 'full_name': '[Destination Country].[Country].[Africa].[Mauritania]', 'all_member?': False, 'drillable?': False, 'depth': 2, 'caption': 'Mauritania', 'key': 134, 'num_children': 0, 'parent_name': '[Destination Country].[Country].[Africa]', 'level_name': 'Country', 'children': []}, {'name': 'Tanzania, United Republic of', 'full_name': '[Destination Country].[Country].[Africa].[Tanzania, United Republic of]', 'all_member?': False, 'drillable?': False, 'depth': 2, 'caption': 'Tanzania, United Republic of', 'key': 135, 'num_children': 0, 'parent_name': '[Destination Country].[Country].[Africa]', 'level_name': 'Country', 'children': []}, {'name': 'Uganda', 'full_name': '[Destination Country].[Country].[Africa].[Uganda]', 'all_member?': False, 'drillable?': False, 'depth': 2, 'caption': 'Uganda', 'key': 136, 'num_children': 0, 'parent_name': '[Destination Country].[Country].[Africa]', 'level_name': 'Country', 'children': []}, {'name': 'Kenya', 'full_name': '[Destination Country].[Country].[Africa].[Kenya]', 'all_member?': False, 'drillable?': False, 'depth': 2, 'caption': 'Kenya', 'key': 137, 'num_children': 0, 'parent_name': '[Destination Country].[Country].[Africa]', 'level_name': 'Country', 'children': []}, {'name': 'Somalia', 'full_name': '[Destination Country].[Country].[Africa].[Somalia]', 'all_member?': False, 'drillable?': False, 'depth': 2, 'caption': 'Somalia', 'key': 138, 'num_children': 0, 'parent_name': '[Destination Country].[Country].[Africa]', 'level_name': 'Country', 'children': []}, {'name': 'Ethiopia', 'full_name': '[Destination Country].[Country].[Africa].[Ethiopia]', 'all_member?': False, 'drillable?': False, 'depth': 2, 'caption': 'Ethiopia', 'key': 139, 'num_children': 0, 'parent_name': '[Destination Country].[Country].[Africa]', 'level_name': 'Country', 'children': []}, {'name': 'Angola', 'full_name': '[Destination Country].[Country].[Africa].[Angola]', 'all_member?': False, 'drillable?': False, 'depth': 2, 'caption': 'Angola', 'key': 140, 'num_children': 0, 'parent_name': '[Destination Country].[Country].[Africa]', 'level_name': 'Country', 'children': []}, {'name': 'Burundi', 'full_name': '[Destination Country].[Country].[Africa].[Burundi]', 'all_member?': False, 'drillable?': False, 'depth': 2, 'caption': 'Burundi', 'key': 141, 'num_children': 0, 'parent_name': '[Destination Country].[Country].[Africa]', 'level_name': 'Country', 'children': []}, {'name': 'Rwanda', 'full_name': '[Destination Country].[Country].[Africa].[Rwanda]', 'all_member?': False, 'drillable?': False, 'depth': 2, 'caption': 'Rwanda', 'key': 142, 'num_children': 0, 'parent_name': '[Destination Country].[Country].[Africa]', 'level_name': 'Country', 'children': []}, {'name': 'Congo', 'full_name': '[Destination Country].[Country].[Africa].[Congo]', 'all_member?': False, 'drillable?': False, 'depth': 2, 'caption': 'Congo', 'key': 143, 'num_children': 0, 'parent_name': '[Destination Country].[Country].[Africa]', 'level_name': 'Country', 'children': []}, {'name': 'Republic of the Congo', 'full_name': '[Destination Country].[Country].[Africa].[Republic of the Congo]', 'all_member?': False, 'drillable?': False, 'depth': 2, 'caption': 'Republic of the Congo', 'key': 144, 'num_children': 0, 'parent_name': '[Destination Country].[Country].[Africa]', 'level_name': 'Country', 'children': []}, {'name': 'Gabon', 'full_name': '[Destination Country].[Country].[Africa].[Gabon]', 'all_member?': False, 'drillable?': False, 'depth': 2, 'caption': 'Gabon', 'key': 145, 'num_children': 0, 'parent_name': '[Destination Country].[Country].[Africa]', 'level_name': 'Country', 'children': []}, {'name': 'Sao Tome and Principe', 'full_name': '[Destination Country].[Country].[Africa].[Sao Tome and Principe]', 'all_member?': False, 'drillable?': False, 'depth': 2, 'caption': 'Sao Tome and Principe', 'key': 146, 'num_children': 0, 'parent_name': '[Destination Country].[Country].[Africa]', 'level_name': 'Country', 'children': []}, {'name': 'Equatorial Guinea', 'full_name': '[Destination Country].[Country].[Africa].[Equatorial Guinea]', 'all_member?': False, 'drillable?': False, 'depth': 2, 'caption': 'Equatorial Guinea', 'key': 147, 'num_children': 0, 'parent_name': '[Destination Country].[Country].[Africa]', 'level_name': 'Country', 'children': []}, {'name': 'Central African Republic', 'full_name': '[Destination Country].[Country].[Africa].[Central African Republic]', 'all_member?': False, 'drillable?': False, 'depth': 2, 'caption': 'Central African Republic', 'key': 148, 'num_children': 0, 'parent_name': '[Destination Country].[Country].[Africa]', 'level_name': 'Country', 'children': []}, {'name': 'Cameroon', 'full_name': '[Destination Country].[Country].[Africa].[Cameroon]', 'all_member?': False, 'drillable?': False, 'depth': 2, 'caption': 'Cameroon', 'key': 149, 'num_children': 0, 'parent_name': '[Destination Country].[Country].[Africa]', 'level_name': 'Country', 'children': []}, {'name': 'Benin', 'full_name': '[Destination Country].[Country].[Africa].[Benin]', 'all_member?': False, 'drillable?': False, 'depth': 2, 'caption': 'Benin', 'key': 150, 'num_children': 0, 'parent_name': '[Destination Country].[Country].[Africa]', 'level_name': 'Country', 'children': []}, {'name': 'Bofutatsuana', 'full_name': '[Destination Country].[Country].[Africa].[Bofutatsuana]', 'all_member?': False, 'drillable?': False, 'depth': 2, 'caption': 'Bofutatsuana', 'key': 154, 'num_children': 0, 'parent_name': '[Destination Country].[Country].[Africa]', 'level_name': 'Country', 'children': []}, {'name': 'Djibouti', 'full_name': '[Destination Country].[Country].[Africa].[Djibouti]', 'all_member?': False, 'drillable?': False, 'depth': 2, 'caption': 'Djibouti', 'key': 155, 'num_children': 0, 'parent_name': '[Destination Country].[Country].[Africa]', 'level_name': 'Country', 'children': []}, {'name': 'Seychelles', 'full_name': '[Destination Country].[Country].[Africa].[Seychelles]', 'all_member?': False, 'drillable?': False, 'depth': 2, 'caption': 'Seychelles', 'key': 156, 'num_children': 0, 'parent_name': '[Destination Country].[Country].[Africa]', 'level_name': 'Country', 'children': []}, {'name': 'Namibia', 'full_name': '[Destination Country].[Country].[Africa].[Namibia]', 'all_member?': False, 'drillable?': False, 'depth': 2, 'caption': 'Namibia', 'key': 159, 'num_children': 0, 'parent_name': '[Destination Country].[Country].[Africa]', 'level_name': 'Country', 'children': []}, {'name': 'Burkina Faso', 'full_name': '[Destination Country].[Country].[Africa].[Burkina Faso]', 'all_member?': False, 'drillable?': False, 'depth': 2, 'caption': 'Burkina Faso', 'key': 161, 'num_children': 0, 'parent_name': '[Destination Country].[Country].[Africa]', 'level_name': 'Country', 'children': []}, {'name': 'Eritrea', 'full_name': '[Destination Country].[Country].[Africa].[Eritrea]', 'all_member?': False, 'drillable?': False, 'depth': 2, 'caption': 'Eritrea', 'key': 163, 'num_children': 0, 'parent_name': '[Destination Country].[Country].[Africa]', 'level_name': 'Country', 'children': []}, {'name': 'Marshall Islands', 'full_name': '[Destination Country].[Country].[Oceania].[Marshall Islands]', 'all_member?': False, 'drillable?': False, 'depth': 2, 'caption': 'Marshall Islands', 'key': 164, 'num_children': 0, 'parent_name': '[Destination Country].[Country].[Oceania]', 'level_name': 'Country', 'children': []}, {'name': 'Fiji', 'full_name': '[Destination Country].[Country].[Oceania].[Fiji]', 'all_member?': False, 'drillable?': False, 'depth': 2, 'caption': 'Fiji', 'key': 401, 'num_children': 0, 'parent_name': '[Destination Country].[Country].[Oceania]', 'level_name': 'Country', 'children': []}, {'name': 'Nauru', 'full_name': '[Destination Country].[Country].[Oceania].[Nauru]', 'all_member?': False, 'drillable?': False, 'depth': 2, 'caption': 'Nauru', 'key': 402, 'num_children': 0, 'parent_name': '[Destination Country].[Country].[Oceania]', 'level_name': 'Country', 'children': []}, {'name': 'Tonga', 'full_name': '[Destination Country].[Country].[Oceania].[Tonga]', 'all_member?': False, 'drillable?': False, 'depth': 2, 'caption': 'Tonga', 'key': 403, 'num_children': 0, 'parent_name': '[Destination Country].[Country].[Oceania]', 'level_name': 'Country', 'children': []}, {'name': 'Samoa', 'full_name': '[Destination Country].[Country].[Oceania].[Samoa]', 'all_member?': False, 'drillable?': False, 'depth': 2, 'caption': 'Samoa', 'key': 404, 'num_children': 0, 'parent_name': '[Destination Country].[Country].[Oceania]', 'level_name': 'Country', 'children': []}, {'name': 'New Zealand', 'full_name': '[Destination Country].[Country].[Oceania].[New Zealand]', 'all_member?': False, 'drillable?': False, 'depth': 2, 'caption': 'New Zealand', 'key': 405, 'num_children': 0, 'parent_name': '[Destination Country].[Country].[Oceania]', 'level_name': 'Country', 'children': []}, {'name': 'Australia', 'full_name': '[Destination Country].[Country].[Oceania].[Australia]', 'all_member?': False, 'drillable?': False, 'depth': 2, 'caption': 'Australia', 'key': 406, 'num_children': 0, 'parent_name': '[Destination Country].[Country].[Oceania]', 'level_name': 'Country', 'children': []}, {'name': 'Papua New Guinea', 'full_name': '[Destination Country].[Country].[Oceania].[Papua New Guinea]', 'all_member?': False, 'drillable?': False, 'depth': 2, 'caption': 'Papua New Guinea', 'key': 412, 'num_children': 0, 'parent_name': '[Destination Country].[Country].[Oceania]', 'level_name': 'Country', 'children': []}, {'name': 'Vanuatu', 'full_name': '[Destination Country].[Country].[Oceania].[Vanuatu]', 'all_member?': False, 'drillable?': False, 'depth': 2, 'caption': 'Vanuatu', 'key': 415, 'num_children': 0, 'parent_name': '[Destination Country].[Country].[Oceania]', 'level_name': 'Country', 'children': []}, {'name': 'Kiribati', 'full_name': '[Destination Country].[Country].[Oceania].[Kiribati]', 'all_member?': False, 'drillable?': False, 'depth': 2, 'caption': 'Kiribati', 'key': 416, 'num_children': 0, 'parent_name': '[Destination Country].[Country].[Oceania]', 'level_name': 'Country', 'children': []}, {'name': 'Micronesia', 'full_name': '[Destination Country].[Country].[Oceania].[Micronesia]', 'all_member?': False, 'drillable?': False, 'depth': 2, 'caption': 'Micronesia', 'key': 417, 'num_children': 0, 'parent_name': '[Destination Country].[Country].[Oceania]', 'level_name': 'Country', 'children': []}, {'name': 'Solomon Islands', 'full_name': '[Destination Country].[Country].[Oceania].[Solomon Islands]', 'all_member?': False, 'drillable?': False, 'depth': 2, 'caption': 'Solomon Islands', 'key': 418, 'num_children': 0, 'parent_name': '[Destination Country].[Country].[Oceania]', 'level_name': 'Country', 'children': []}, {'name': 'Tuvalu', 'full_name': '[Destination Country].[Country].[Oceania].[Tuvalu]', 'all_member?': False, 'drillable?': False, 'depth': 2, 'caption': 'Tuvalu', 'key': 419, 'num_children': 0, 'parent_name': '[Destination Country].[Country].[Oceania]', 'level_name': 'Country', 'children': []}, {'name': 'Palau', 'full_name': '[Destination Country].[Country].[Oceania].[Palau]', 'all_member?': False, 'drillable?': False, 'depth': 2, 'caption': 'Palau', 'key': 420, 'num_children': 0, 'parent_name': '[Destination Country].[Country].[Oceania]', 'level_name': 'Country', 'children': []}, {'name': 'Niue', 'full_name': '[Destination Country].[Country].[Oceania].[Niue]', 'all_member?': False, 'drillable?': False, 'depth': 2, 'caption': 'Niue', 'key': 421, 'num_children': 0, 'parent_name': '[Destination Country].[Country].[Oceania]', 'level_name': 'Country', 'children': []}, {'name': 'French Polynesia', 'full_name': '[Destination Country].[Country].[Oceania].[French Polynesia]', 'all_member?': False, 'drillable?': False, 'depth': 2, 'caption': 'French Polynesia', 'key': 422, 'num_children': 0, 'parent_name': '[Destination Country].[Country].[Oceania]', 'level_name': 'Country', 'children': []}, {'name': 'New Caledonia', 'full_name': '[Destination Country].[Country].[Oceania].[New Caledonia]', 'all_member?': False, 'drillable?': False, 'depth': 2, 'caption': 'New Caledonia', 'key': 423, 'num_children': 0, 'parent_name': '[Destination Country].[Country].[Oceania]', 'level_name': 'Country', 'children': []}, {'name': 'Northern Mariana Islands', 'full_name': '[Destination Country].[Country].[Oceania].[Northern Mariana Islands]', 'all_member?': False, 'drillable?': False, 'depth': 2, 'caption': 'Northern Mariana Islands', 'key': 424, 'num_children': 0, 'parent_name': '[Destination Country].[Country].[Oceania]', 'level_name': 'Country', 'children': []}, {'name': 'Guam', 'full_name': '[Destination Country].[Country].[Oceania].[Guam]', 'all_member?': False, 'drillable?': False, 'depth': 2, 'caption': 'Guam', 'key': 425, 'num_children': 0, 'parent_name': '[Destination Country].[Country].[Oceania]', 'level_name': 'Country', 'children': []}, {'name': 'Cook Islands', 'full_name': '[Destination Country].[Country].[Oceania].[Cook Islands]', 'all_member?': False, 'drillable?': False, 'depth': 2, 'caption': 'Cook Islands', 'key': 427, 'num_children': 0, 'parent_name': '[Destination Country].[Country].[Oceania]', 'level_name': 'Country', 'children': []}, {'name': 'Venezuela', 'full_name': '[Destination Country].[Country].[Americas].[Venezuela]', 'all_member?': False, 'drillable?': False, 'depth': 2, 'caption': 'Venezuela', 'key': 201, 'num_children': 0, 'parent_name': '[Destination Country].[Country].[Americas]', 'level_name': 'Country', 'children': []}, {'name': 'Colombia', 'full_name': '[Destination Country].[Country].[Americas].[Colombia]', 'all_member?': False, 'drillable?': False, 'depth': 2, 'caption': 'Colombia', 'key': 202, 'num_children': 0, 'parent_name': '[Destination Country].[Country].[Americas]', 'level_name': 'Country', 'children': []}, {'name': 'Trinidad and Tobago', 'full_name': '[Destination Country].[Country].[Americas].[Trinidad and Tobago]', 'all_member?': False, 'drillable?': False, 'depth': 2, 'caption': 'Trinidad and Tobago', 'key': 203, 'num_children': 0, 'parent_name': '[Destination Country].[Country].[Americas]', 'level_name': 'Country', 'children': []}, {'name': 'Barbados', 'full_name': '[Destination Country].[Country].[Americas].[Barbados]', 'all_member?': False, 'drillable?': False, 'depth': 2, 'caption': 'Barbados', 'key': 204, 'num_children': 0, 'parent_name': '[Destination Country].[Country].[Americas]', 'level_name': 'Country', 'children': []}, {'name': 'Jamaica', 'full_name': '[Destination Country].[Country].[Americas].[Jamaica]', 'all_member?': False, 'drillable?': False, 'depth': 2, 'caption': 'Jamaica', 'key': 205, 'num_children': 0, 'parent_name': '[Destination Country].[Country].[Americas]', 'level_name': 'Country', 'children': []}, {'name': 'Dominican Republic', 'full_name': '[Destination Country].[Country].[Americas].[Dominican Republic]', 'all_member?': False, 'drillable?': False, 'depth': 2, 'caption': 'Dominican Republic', 'key': 206, 'num_children': 0, 'parent_name': '[Destination Country].[Country].[Americas]', 'level_name': 'Country', 'children': []}, {'name': 'Bahamas', 'full_name': '[Destination Country].[Country].[Americas].[Bahamas]', 'all_member?': False, 'drillable?': False, 'depth': 2, 'caption': 'Bahamas', 'key': 207, 'num_children': 0, 'parent_name': '[Destination Country].[Country].[Americas]', 'level_name': 'Country', 'children': []}, {'name': 'Haiti', 'full_name': '[Destination Country].[Country].[Americas].[Haiti]', 'all_member?': False, 'drillable?': False, 'depth': 2, 'caption': 'Haiti', 'key': 208, 'num_children': 0, 'parent_name': '[Destination Country].[Country].[Americas]', 'level_name': 'Country', 'children': []}, {'name': 'Cuba', 'full_name': '[Destination Country].[Country].[Americas].[Cuba]', 'all_member?': False, 'drillable?': False, 'depth': 2, 'caption': 'Cuba', 'key': 209, 'num_children': 0, 'parent_name': '[Destination Country].[Country].[Americas]', 'level_name': 'Country', 'children': []}, {'name': 'Panama', 'full_name': '[Destination Country].[Country].[Americas].[Panama]', 'all_member?': False, 'drillable?': False, 'depth': 2, 'caption': 'Panama', 'key': 210, 'num_children': 0, 'parent_name': '[Destination Country].[Country].[Americas]', 'level_name': 'Country', 'children': []}, {'name': 'Costa Rica', 'full_name': '[Destination Country].[Country].[Americas].[Costa Rica]', 'all_member?': False, 'drillable?': False, 'depth': 2, 'caption': 'Costa Rica', 'key': 211, 'num_children': 0, 'parent_name': '[Destination Country].[Country].[Americas]', 'level_name': 'Country', 'children': []}, {'name': 'Nicaragua', 'full_name': '[Destination Country].[Country].[Americas].[Nicaragua]', 'all_member?': False, 'drillable?': False, 'depth': 2, 'caption': 'Nicaragua', 'key': 212, 'num_children': 0, 'parent_name': '[Destination Country].[Country].[Americas]', 'level_name': 'Country', 'children': []}, {'name': 'El Salvador', 'full_name': '[Destination Country].[Country].[Americas].[El Salvador]', 'all_member?': False, 'drillable?': False, 'depth': 2, 'caption': 'El Salvador', 'key': 213, 'num_children': 0, 'parent_name': '[Destination Country].[Country].[Americas]', 'level_name': 'Country', 'children': []}, {'name': 'Honduras', 'full_name': '[Destination Country].[Country].[Americas].[Honduras]', 'all_member?': False, 'drillable?': False, 'depth': 2, 'caption': 'Honduras', 'key': 214, 'num_children': 0, 'parent_name': '[Destination Country].[Country].[Americas]', 'level_name': 'Country', 'children': []}, {'name': 'Guatemala', 'full_name': '[Destination Country].[Country].[Americas].[Guatemala]', 'all_member?': False, 'drillable?': False, 'depth': 2, 'caption': 'Guatemala', 'key': 215, 'num_children': 0, 'parent_name': '[Destination Country].[Country].[Americas]', 'level_name': 'Country', 'children': []}, {'name': 'Mexico', 'full_name': '[Destination Country].[Country].[Americas].[Mexico]', 'all_member?': False, 'drillable?': False, 'depth': 2, 'caption': 'Mexico', 'key': 216, 'num_children': 0, 'parent_name': '[Destination Country].[Country].[Americas]', 'level_name': 'Country', 'children': []}, {'name': 'Guyana', 'full_name': '[Destination Country].[Country].[Americas].[Guyana]', 'all_member?': False, 'drillable?': False, 'depth': 2, 'caption': 'Guyana', 'key': 217, 'num_children': 0, 'parent_name': '[Destination Country].[Country].[Americas]', 'level_name': 'Country', 'children': []}, {'name': 'Ecuador', 'full_name': '[Destination Country].[Country].[Americas].[Ecuador]', 'all_member?': False, 'drillable?': False, 'depth': 2, 'caption': 'Ecuador', 'key': 218, 'num_children': 0, 'parent_name': '[Destination Country].[Country].[Americas]', 'level_name': 'Country', 'children': []}, {'name': 'Peru', 'full_name': '[Destination Country].[Country].[Americas].[Peru]', 'all_member?': False, 'drillable?': False, 'depth': 2, 'caption': 'Peru', 'key': 219, 'num_children': 0, 'parent_name': '[Destination Country].[Country].[Americas]', 'level_name': 'Country', 'children': []}, {'name': 'Brazil', 'full_name': '[Destination Country].[Country].[Americas].[Brazil]', 'all_member?': False, 'drillable?': False, 'depth': 2, 'caption': 'Brazil', 'key': 220, 'num_children': 0, 'parent_name': '[Destination Country].[Country].[Americas]', 'level_name': 'Country', 'children': []}, {'name': 'Bolivia', 'full_name': '[Destination Country].[Country].[Americas].[Bolivia]', 'all_member?': False, 'drillable?': False, 'depth': 2, 'caption': 'Bolivia', 'key': 221, 'num_children': 0, 'parent_name': '[Destination Country].[Country].[Americas]', 'level_name': 'Country', 'children': []}, {'name': 'Paraguay', 'full_name': '[Destination Country].[Country].[Americas].[Paraguay]', 'all_member?': False, 'drillable?': False, 'depth': 2, 'caption': 'Paraguay', 'key': 222, 'num_children': 0, 'parent_name': '[Destination Country].[Country].[Americas]', 'level_name': 'Country', 'children': []}, {'name': 'Uruguay', 'full_name': '[Destination Country].[Country].[Americas].[Uruguay]', 'all_member?': False, 'drillable?': False, 'depth': 2, 'caption': 'Uruguay', 'key': 223, 'num_children': 0, 'parent_name': '[Destination Country].[Country].[Americas]', 'level_name': 'Country', 'children': []}, {'name': 'Argentina', 'full_name': '[Destination Country].[Country].[Americas].[Argentina]', 'all_member?': False, 'drillable?': False, 'depth': 2, 'caption': 'Argentina', 'key': 224, 'num_children': 0, 'parent_name': '[Destination Country].[Country].[Americas]', 'level_name': 'Country', 'children': []}, {'name': 'United States of America', 'full_name': '[Destination Country].[Country].[Americas].[United States of America]', 'all_member?': False, 'drillable?': False, 'depth': 2, 'caption': 'United States of America', 'key': 225, 'num_children': 0, 'parent_name': '[Destination Country].[Country].[Americas]', 'level_name': 'Country', 'children': []}, {'name': 'Canada', 'full_name': '[Destination Country].[Country].[Americas].[Canada]', 'all_member?': False, 'drillable?': False, 'depth': 2, 'caption': 'Canada', 'key': 226, 'num_children': 0, 'parent_name': '[Destination Country].[Country].[Americas]', 'level_name': 'Country', 'children': []}, {'name': 'Dominica', 'full_name': '[Destination Country].[Country].[Americas].[Dominica]', 'all_member?': False, 'drillable?': False, 'depth': 2, 'caption': 'Dominica', 'key': 231, 'num_children': 0, 'parent_name': '[Destination Country].[Country].[Americas]', 'level_name': 'Country', 'children': []}, {'name': 'Grenada', 'full_name': '[Destination Country].[Country].[Americas].[Grenada]', 'all_member?': False, 'drillable?': False, 'depth': 2, 'caption': 'Grenada', 'key': 232, 'num_children': 0, 'parent_name': '[Destination Country].[Country].[Americas]', 'level_name': 'Country', 'children': []}, {'name': 'Saint Lucia', 'full_name': '[Destination Country].[Country].[Americas].[Saint Lucia]', 'all_member?': False, 'drillable?': False, 'depth': 2, 'caption': 'Saint Lucia', 'key': 233, 'num_children': 0, 'parent_name': '[Destination Country].[Country].[Americas]', 'level_name': 'Country', 'children': []}, {'name': 'Saint Vincent and the Grenadines', 'full_name': '[Destination Country].[Country].[Americas].[Saint Vincent and the Grenadines]', 'all_member?': False, 'drillable?': False, 'depth': 2, 'caption': 'Saint Vincent and the Grenadines', 'key': 234, 'num_children': 0, 'parent_name': '[Destination Country].[Country].[Americas]', 'level_name': 'Country', 'children': []}, {'name': 'Suriname', 'full_name': '[Destination Country].[Country].[Americas].[Suriname]', 'all_member?': False, 'drillable?': False, 'depth': 2, 'caption': 'Suriname', 'key': 235, 'num_children': 0, 'parent_name': '[Destination Country].[Country].[Americas]', 'level_name': 'Country', 'children': []}, {'name': 'Belize', 'full_name': '[Destination Country].[Country].[Americas].[Belize]', 'all_member?': False, 'drillable?': False, 'depth': 2, 'caption': 'Belize', 'key': 236, 'num_children': 0, 'parent_name': '[Destination Country].[Country].[Americas]', 'level_name': 'Country', 'children': []}, {'name': 'Antigua and Barbuda', 'full_name': '[Destination Country].[Country].[Americas].[Antigua and Barbuda]', 'all_member?': False, 'drillable?': False, 'depth': 2, 'caption': 'Antigua and Barbuda', 'key': 240, 'num_children': 0, 'parent_name': '[Destination Country].[Country].[Americas]', 'level_name': 'Country', 'children': []}, {'name': 'Saint Kitts and Nevis', 'full_name': '[Destination Country].[Country].[Americas].[Saint Kitts and Nevis]', 'all_member?': False, 'drillable?': False, 'depth': 2, 'caption': 'Saint Kitts and Nevis', 'key': 241, 'num_children': 0, 'parent_name': '[Destination Country].[Country].[Americas]', 'level_name': 'Country', 'children': []}, {'name': 'Anguilla', 'full_name': '[Destination Country].[Country].[Americas].[Anguilla]', 'all_member?': False, 'drillable?': False, 'depth': 2, 'caption': 'Anguilla', 'key': 242, 'num_children': 0, 'parent_name': '[Destination Country].[Country].[Americas]', 'level_name': 'Country', 'children': []}, {'name': 'Aruba', 'full_name': '[Destination Country].[Country].[Americas].[Aruba]', 'all_member?': False, 'drillable?': False, 'depth': 2, 'caption': 'Aruba', 'key': 243, 'num_children': 0, 'parent_name': '[Destination Country].[Country].[Americas]', 'level_name': 'Country', 'children': []}, {'name': 'Bermuda', 'full_name': '[Destination Country].[Country].[Americas].[Bermuda]', 'all_member?': False, 'drillable?': False, 'depth': 2, 'caption': 'Bermuda', 'key': 244, 'num_children': 0, 'parent_name': '[Destination Country].[Country].[Americas]', 'level_name': 'Country', 'children': []}, {'name': 'Cayman Islands', 'full_name': '[Destination Country].[Country].[Americas].[Cayman Islands]', 'all_member?': False, 'drillable?': False, 'depth': 2, 'caption': 'Cayman Islands', 'key': 246, 'num_children': 0, 'parent_name': '[Destination Country].[Country].[Americas]', 'level_name': 'Country', 'children': []}, {'name': 'Turks and Caicos Islands', 'full_name': '[Destination Country].[Country].[Americas].[Turks and Caicos Islands]', 'all_member?': False, 'drillable?': False, 'depth': 2, 'caption': 'Turks and Caicos Islands', 'key': 248, 'num_children': 0, 'parent_name': '[Destination Country].[Country].[Americas]', 'level_name': 'Country', 'children': []}, {'name': 'Virgin Islands (U.S.)', 'full_name': '[Destination Country].[Country].[Americas].[Virgin Islands (U.S.)]', 'all_member?': False, 'drillable?': False, 'depth': 2, 'caption': 'Virgin Islands (U.S.)', 'key': 249, 'num_children': 0, 'parent_name': '[Destination Country].[Country].[Americas]', 'level_name': 'Country', 'children': []}, {'name': 'Martinique', 'full_name': '[Destination Country].[Country].[Americas].[Martinique]', 'all_member?': False, 'drillable?': False, 'depth': 2, 'caption': 'Martinique', 'key': 250, 'num_children': 0, 'parent_name': '[Destination Country].[Country].[Americas]', 'level_name': 'Country', 'children': []}, {'name': 'Puerto Rico', 'full_name': '[Destination Country].[Country].[Americas].[Puerto Rico]', 'all_member?': False, 'drillable?': False, 'depth': 2, 'caption': 'Puerto Rico', 'key': 251, 'num_children': 0, 'parent_name': '[Destination Country].[Country].[Americas]', 'level_name': 'Country', 'children': []}, {'name': 'Montserrat', 'full_name': '[Destination Country].[Country].[Americas].[Montserrat]', 'all_member?': False, 'drillable?': False, 'depth': 2, 'caption': 'Montserrat', 'key': 252, 'num_children': 0, 'parent_name': '[Destination Country].[Country].[Americas]', 'level_name': 'Country', 'children': []}, {'name': 'Greenland', 'full_name': '[Destination Country].[Country].[Americas].[Greenland]', 'all_member?': False, 'drillable?': False, 'depth': 2, 'caption': 'Greenland', 'key': 253, 'num_children': 0, 'parent_name': '[Destination Country].[Country].[Americas]', 'level_name': 'Country', 'children': []}, {'name': 'Jordan', 'full_name': '[Destination Country].[Country].[Asia].[Jordan]', 'all_member?': False, 'drillable?': False, 'depth': 2, 'caption': 'Jordan', 'key': 301, 'num_children': 0, 'parent_name': '[Destination Country].[Country].[Asia]', 'level_name': 'Country', 'children': []}, {'name': 'Saudi Arabia', 'full_name': '[Destination Country].[Country].[Asia].[Saudi Arabia]', 'all_member?': False, 'drillable?': False, 'depth': 2, 'caption': 'Saudi Arabia', 'key': 302, 'num_children': 0, 'parent_name': '[Destination Country].[Country].[Asia]', 'level_name': 'Country', 'children': []}, {'name': 'Kuwait', 'full_name': '[Destination Country].[Country].[Asia].[Kuwait]', 'all_member?': False, 'drillable?': False, 'depth': 2, 'caption': 'Kuwait', 'key': 303, 'num_children': 0, 'parent_name': '[Destination Country].[Country].[Asia]', 'level_name': 'Country', 'children': []}, {'name': 'Oman', 'full_name': '[Destination Country].[Country].[Asia].[Oman]', 'all_member?': False, 'drillable?': False, 'depth': 2, 'caption': 'Oman', 'key': 304, 'num_children': 0, 'parent_name': '[Destination Country].[Country].[Asia]', 'level_name': 'Country', 'children': []}, {'name': 'Cyprus', 'full_name': '[Destination Country].[Country].[Asia].[Cyprus]', 'all_member?': False, 'drillable?': False, 'depth': 2, 'caption': 'Cyprus', 'key': 305, 'num_children': 0, 'parent_name': '[Destination Country].[Country].[Asia]', 'level_name': 'Country', 'children': []}, {'name': 'Israel', 'full_name': '[Destination Country].[Country].[Asia].[Israel]', 'all_member?': False, 'drillable?': False, 'depth': 2, 'caption': 'Israel', 'key': 306, 'num_children': 0, 'parent_name': '[Destination Country].[Country].[Asia]', 'level_name': 'Country', 'children': []}, {'name': 'Iraq', 'full_name': '[Destination Country].[Country].[Asia].[Iraq]', 'all_member?': False, 'drillable?': False, 'depth': 2, 'caption': 'Iraq', 'key': 307, 'num_children': 0, 'parent_name': '[Destination Country].[Country].[Asia]', 'level_name': 'Country', 'children': []}, {'name': 'Afghanistan', 'full_name': '[Destination Country].[Country].[Asia].[Afghanistan]', 'all_member?': False, 'drillable?': False, 'depth': 2, 'caption': 'Afghanistan', 'key': 308, 'num_children': 0, 'parent_name': '[Destination Country].[Country].[Asia]', 'level_name': 'Country', 'children': []}, {'name': 'Iran', 'full_name': '[Destination Country].[Country].[Asia].[Iran]', 'all_member?': False, 'drillable?': False, 'depth': 2, 'caption': 'Iran', 'key': 309, 'num_children': 0, 'parent_name': '[Destination Country].[Country].[Asia]', 'level_name': 'Country', 'children': []}, {'name': 'Syrian Arab Republic', 'full_name': '[Destination Country].[Country].[Asia].[Syrian Arab Republic]', 'all_member?': False, 'drillable?': False, 'depth': 2, 'caption': 'Syrian Arab Republic', 'key': 310, 'num_children': 0, 'parent_name': '[Destination Country].[Country].[Asia]', 'level_name': 'Country', 'children': []}, {'name': 'Lebanon', 'full_name': '[Destination Country].[Country].[Asia].[Lebanon]', 'all_member?': False, 'drillable?': False, 'depth': 2, 'caption': 'Lebanon', 'key': 311, 'num_children': 0, 'parent_name': '[Destination Country].[Country].[Asia]', 'level_name': 'Country', 'children': []}, {'name': 'Qatar', 'full_name': '[Destination Country].[Country].[Asia].[Qatar]', 'all_member?': False, 'drillable?': False, 'depth': 2, 'caption': 'Qatar', 'key': 312, 'num_children': 0, 'parent_name': '[Destination Country].[Country].[Asia]', 'level_name': 'Country', 'children': []}, {'name': 'Bahrain', 'full_name': '[Destination Country].[Country].[Asia].[Bahrain]', 'all_member?': False, 'drillable?': False, 'depth': 2, 'caption': 'Bahrain', 'key': 313, 'num_children': 0, 'parent_name': '[Destination Country].[Country].[Asia]', 'level_name': 'Country', 'children': []}, {'name': 'Sri Lanka', 'full_name': '[Destination Country].[Country].[Asia].[Sri Lanka]', 'all_member?': False, 'drillable?': False, 'depth': 2, 'caption': 'Sri Lanka', 'key': 314, 'num_children': 0, 'parent_name': '[Destination Country].[Country].[Asia]', 'level_name': 'Country', 'children': []}, {'name': 'Cambodia', 'full_name': '[Destination Country].[Country].[Asia].[Cambodia]', 'all_member?': False, 'drillable?': False, 'depth': 2, 'caption': 'Cambodia', 'key': 315, 'num_children': 0, 'parent_name': '[Destination Country].[Country].[Asia]', 'level_name': 'Country', 'children': []}, {'name': \"Lao People's Democratic Republic\", 'full_name': \"[Destination Country].[Country].[Asia].[Lao People's Democratic Republic]\", 'all_member?': False, 'drillable?': False, 'depth': 2, 'caption': \"Lao People's Democratic Republic\", 'key': 316, 'num_children': 0, 'parent_name': '[Destination Country].[Country].[Asia]', 'level_name': 'Country', 'children': []}, {'name': 'India', 'full_name': '[Destination Country].[Country].[Asia].[India]', 'all_member?': False, 'drillable?': False, 'depth': 2, 'caption': 'India', 'key': 317, 'num_children': 0, 'parent_name': '[Destination Country].[Country].[Asia]', 'level_name': 'Country', 'children': []}, {'name': 'Bhutan', 'full_name': '[Destination Country].[Country].[Asia].[Bhutan]', 'all_member?': False, 'drillable?': False, 'depth': 2, 'caption': 'Bhutan', 'key': 318, 'num_children': 0, 'parent_name': '[Destination Country].[Country].[Asia]', 'level_name': 'Country', 'children': []}, {'name': 'Thailand', 'full_name': '[Destination Country].[Country].[Asia].[Thailand]', 'all_member?': False, 'drillable?': False, 'depth': 2, 'caption': 'Thailand', 'key': 319, 'num_children': 0, 'parent_name': '[Destination Country].[Country].[Asia]', 'level_name': 'Country', 'children': []}, {'name': 'Nepal', 'full_name': '[Destination Country].[Country].[Asia].[Nepal]', 'all_member?': False, 'drillable?': False, 'depth': 2, 'caption': 'Nepal', 'key': 320, 'num_children': 0, 'parent_name': '[Destination Country].[Country].[Asia]', 'level_name': 'Country', 'children': []}, {'name': 'Bangladesh', 'full_name': '[Destination Country].[Country].[Asia].[Bangladesh]', 'all_member?': False, 'drillable?': False, 'depth': 2, 'caption': 'Bangladesh', 'key': 321, 'num_children': 0, 'parent_name': '[Destination Country].[Country].[Asia]', 'level_name': 'Country', 'children': []}, {'name': 'North Yemen', 'full_name': '[Destination Country].[Country].[Asia].[North Yemen]', 'all_member?': False, 'drillable?': False, 'depth': 2, 'caption': 'North Yemen', 'key': 322, 'num_children': 0, 'parent_name': '[Destination Country].[Country].[Asia]', 'level_name': 'Country', 'children': []}, {'name': 'South Yemen', 'full_name': '[Destination Country].[Country].[Asia].[South Yemen]', 'all_member?': False, 'drillable?': False, 'depth': 2, 'caption': 'South Yemen', 'key': 323, 'num_children': 0, 'parent_name': '[Destination Country].[Country].[Asia]', 'level_name': 'Country', 'children': []}, {'name': 'Pakistan', 'full_name': '[Destination Country].[Country].[Asia].[Pakistan]', 'all_member?': False, 'drillable?': False, 'depth': 2, 'caption': 'Pakistan', 'key': 324, 'num_children': 0, 'parent_name': '[Destination Country].[Country].[Asia]', 'level_name': 'Country', 'children': []}, {'name': 'Viet Nam', 'full_name': '[Destination Country].[Country].[Asia].[Viet Nam]', 'all_member?': False, 'drillable?': False, 'depth': 2, 'caption': 'Viet Nam', 'key': 325, 'num_children': 0, 'parent_name': '[Destination Country].[Country].[Asia]', 'level_name': 'Country', 'children': []}, {'name': 'Myanmar', 'full_name': '[Destination Country].[Country].[Asia].[Myanmar]', 'all_member?': False, 'drillable?': False, 'depth': 2, 'caption': 'Myanmar', 'key': 326, 'num_children': 0, 'parent_name': '[Destination Country].[Country].[Asia]', 'level_name': 'Country', 'children': []}, {'name': 'Maldives', 'full_name': '[Destination Country].[Country].[Asia].[Maldives]', 'all_member?': False, 'drillable?': False, 'depth': 2, 'caption': 'Maldives', 'key': 327, 'num_children': 0, 'parent_name': '[Destination Country].[Country].[Asia]', 'level_name': 'Country', 'children': []}, {'name': 'Indonesia', 'full_name': '[Destination Country].[Country].[Asia].[Indonesia]', 'all_member?': False, 'drillable?': False, 'depth': 2, 'caption': 'Indonesia', 'key': 328, 'num_children': 0, 'parent_name': '[Destination Country].[Country].[Asia]', 'level_name': 'Country', 'children': []}, {'name': 'Malaysia', 'full_name': '[Destination Country].[Country].[Asia].[Malaysia]', 'all_member?': False, 'drillable?': False, 'depth': 2, 'caption': 'Malaysia', 'key': 329, 'num_children': 0, 'parent_name': '[Destination Country].[Country].[Asia]', 'level_name': 'Country', 'children': []}, {'name': 'Taiwan, Province of China', 'full_name': '[Destination Country].[Country].[Asia].[Taiwan, Province of China]', 'all_member?': False, 'drillable?': False, 'depth': 2, 'caption': 'Taiwan, Province of China', 'key': 330, 'num_children': 0, 'parent_name': '[Destination Country].[Country].[Asia]', 'level_name': 'Country', 'children': []}, {'name': 'Japan', 'full_name': '[Destination Country].[Country].[Asia].[Japan]', 'all_member?': False, 'drillable?': False, 'depth': 2, 'caption': 'Japan', 'key': 331, 'num_children': 0, 'parent_name': '[Destination Country].[Country].[Asia]', 'level_name': 'Country', 'children': []}, {'name': 'Singapore', 'full_name': '[Destination Country].[Country].[Asia].[Singapore]', 'all_member?': False, 'drillable?': False, 'depth': 2, 'caption': 'Singapore', 'key': 332, 'num_children': 0, 'parent_name': '[Destination Country].[Country].[Asia]', 'level_name': 'Country', 'children': []}, {'name': 'South Korea', 'full_name': '[Destination Country].[Country].[Asia].[South Korea]', 'all_member?': False, 'drillable?': False, 'depth': 2, 'caption': 'South Korea', 'key': 333, 'num_children': 0, 'parent_name': '[Destination Country].[Country].[Asia]', 'level_name': 'Country', 'children': []}, {'name': 'North Korea', 'full_name': '[Destination Country].[Country].[Asia].[North Korea]', 'all_member?': False, 'drillable?': False, 'depth': 2, 'caption': 'North Korea', 'key': 334, 'num_children': 0, 'parent_name': '[Destination Country].[Country].[Asia]', 'level_name': 'Country', 'children': []}, {'name': 'Philippines', 'full_name': '[Destination Country].[Country].[Asia].[Philippines]', 'all_member?': False, 'drillable?': False, 'depth': 2, 'caption': 'Philippines', 'key': 335, 'num_children': 0, 'parent_name': '[Destination Country].[Country].[Asia]', 'level_name': 'Country', 'children': []}, {'name': 'China', 'full_name': '[Destination Country].[Country].[Asia].[China]', 'all_member?': False, 'drillable?': False, 'depth': 2, 'caption': 'China', 'key': 336, 'num_children': 0, 'parent_name': '[Destination Country].[Country].[Asia]', 'level_name': 'Country', 'children': []}, {'name': 'Mongolia', 'full_name': '[Destination Country].[Country].[Asia].[Mongolia]', 'all_member?': False, 'drillable?': False, 'depth': 2, 'caption': 'Mongolia', 'key': 337, 'num_children': 0, 'parent_name': '[Destination Country].[Country].[Asia]', 'level_name': 'Country', 'children': []}, {'name': 'United Arab Emirates', 'full_name': '[Destination Country].[Country].[Asia].[United Arab Emirates]', 'all_member?': False, 'drillable?': False, 'depth': 2, 'caption': 'United Arab Emirates', 'key': 341, 'num_children': 0, 'parent_name': '[Destination Country].[Country].[Asia]', 'level_name': 'Country', 'children': []}, {'name': 'Hong Kong', 'full_name': '[Destination Country].[Country].[Asia].[Hong Kong]', 'all_member?': False, 'drillable?': False, 'depth': 2, 'caption': 'Hong Kong', 'key': 342, 'num_children': 0, 'parent_name': '[Destination Country].[Country].[Asia]', 'level_name': 'Country', 'children': []}, {'name': 'Brunei Darussalam', 'full_name': '[Destination Country].[Country].[Asia].[Brunei Darussalam]', 'all_member?': False, 'drillable?': False, 'depth': 2, 'caption': 'Brunei Darussalam', 'key': 344, 'num_children': 0, 'parent_name': '[Destination Country].[Country].[Asia]', 'level_name': 'Country', 'children': []}, {'name': 'Macao', 'full_name': '[Destination Country].[Country].[Asia].[Macao]', 'all_member?': False, 'drillable?': False, 'depth': 2, 'caption': 'Macao', 'key': 345, 'num_children': 0, 'parent_name': '[Destination Country].[Country].[Asia]', 'level_name': 'Country', 'children': []}, {'name': 'Yemen', 'full_name': '[Destination Country].[Country].[Asia].[Yemen]', 'all_member?': False, 'drillable?': False, 'depth': 2, 'caption': 'Yemen', 'key': 346, 'num_children': 0, 'parent_name': '[Destination Country].[Country].[Asia]', 'level_name': 'Country', 'children': []}, {'name': 'Timor-Leste', 'full_name': '[Destination Country].[Country].[Asia].[Timor-Leste]', 'all_member?': False, 'drillable?': False, 'depth': 2, 'caption': 'Timor-Leste', 'key': 426, 'num_children': 0, 'parent_name': '[Destination Country].[Country].[Asia]', 'level_name': 'Country', 'children': []}, {'name': 'Turkey', 'full_name': '[Destination Country].[Country].[Asia].[Turkey]', 'all_member?': False, 'drillable?': False, 'depth': 2, 'caption': 'Turkey', 'key': 522, 'num_children': 0, 'parent_name': '[Destination Country].[Country].[Asia]', 'level_name': 'Country', 'children': []}, {'name': 'Armenia', 'full_name': '[Destination Country].[Country].[Asia].[Armenia]', 'all_member?': False, 'drillable?': False, 'depth': 2, 'caption': 'Armenia', 'key': 540, 'num_children': 0, 'parent_name': '[Destination Country].[Country].[Asia]', 'level_name': 'Country', 'children': []}, {'name': 'Azerbaijan', 'full_name': '[Destination Country].[Country].[Asia].[Azerbaijan]', 'all_member?': False, 'drillable?': False, 'depth': 2, 'caption': 'Azerbaijan', 'key': 541, 'num_children': 0, 'parent_name': '[Destination Country].[Country].[Asia]', 'level_name': 'Country', 'children': []}, {'name': 'Georgia', 'full_name': '[Destination Country].[Country].[Asia].[Georgia]', 'all_member?': False, 'drillable?': False, 'depth': 2, 'caption': 'Georgia', 'key': 550, 'num_children': 0, 'parent_name': '[Destination Country].[Country].[Asia]', 'level_name': 'Country', 'children': []}, {'name': 'Kazakhstan', 'full_name': '[Destination Country].[Country].[Asia].[Kazakhstan]', 'all_member?': False, 'drillable?': False, 'depth': 2, 'caption': 'Kazakhstan', 'key': 551, 'num_children': 0, 'parent_name': '[Destination Country].[Country].[Asia]', 'level_name': 'Country', 'children': []}, {'name': 'Kyrgyzstan', 'full_name': '[Destination Country].[Country].[Asia].[Kyrgyzstan]', 'all_member?': False, 'drillable?': False, 'depth': 2, 'caption': 'Kyrgyzstan', 'key': 552, 'num_children': 0, 'parent_name': '[Destination Country].[Country].[Asia]', 'level_name': 'Country', 'children': []}, {'name': 'Tajikistan', 'full_name': '[Destination Country].[Country].[Asia].[Tajikistan]', 'all_member?': False, 'drillable?': False, 'depth': 2, 'caption': 'Tajikistan', 'key': 557, 'num_children': 0, 'parent_name': '[Destination Country].[Country].[Asia]', 'level_name': 'Country', 'children': []}, {'name': 'Turkmenistan', 'full_name': '[Destination Country].[Country].[Asia].[Turkmenistan]', 'all_member?': False, 'drillable?': False, 'depth': 2, 'caption': 'Turkmenistan', 'key': 558, 'num_children': 0, 'parent_name': '[Destination Country].[Country].[Asia]', 'level_name': 'Country', 'children': []}, {'name': 'Uzbekistan', 'full_name': '[Destination Country].[Country].[Asia].[Uzbekistan]', 'all_member?': False, 'drillable?': False, 'depth': 2, 'caption': 'Uzbekistan', 'key': 560, 'num_children': 0, 'parent_name': '[Destination Country].[Country].[Asia]', 'level_name': 'Country', 'children': []}, {'name': 'Portugal', 'full_name': '[Destination Country].[Country].[Europe].[Portugal]', 'all_member?': False, 'drillable?': False, 'depth': 2, 'caption': 'Portugal', 'key': 501, 'num_children': 0, 'parent_name': '[Destination Country].[Country].[Europe]', 'level_name': 'Country', 'children': []}, {'name': 'Federal Republic of Germany', 'full_name': '[Destination Country].[Country].[Europe].[Federal Republic of Germany]', 'all_member?': False, 'drillable?': False, 'depth': 2, 'caption': 'Federal Republic of Germany', 'key': 502, 'num_children': 0, 'parent_name': '[Destination Country].[Country].[Europe]', 'level_name': 'Country', 'children': []}, {'name': 'German Democratic Republic (GDR)', 'full_name': '[Destination Country].[Country].[Europe].[German Democratic Republic (GDR)]', 'all_member?': False, 'drillable?': False, 'depth': 2, 'caption': 'German Democratic Republic (GDR)', 'key': 503, 'num_children': 0, 'parent_name': '[Destination Country].[Country].[Europe]', 'level_name': 'Country', 'children': []}, {'name': 'Italy', 'full_name': '[Destination Country].[Country].[Europe].[Italy]', 'all_member?': False, 'drillable?': False, 'depth': 2, 'caption': 'Italy', 'key': 504, 'num_children': 0, 'parent_name': '[Destination Country].[Country].[Europe]', 'level_name': 'Country', 'children': []}, {'name': 'France', 'full_name': '[Destination Country].[Country].[Europe].[France]', 'all_member?': False, 'drillable?': False, 'depth': 2, 'caption': 'France', 'key': 505, 'num_children': 0, 'parent_name': '[Destination Country].[Country].[Europe]', 'level_name': 'Country', 'children': []}, {'name': 'Ireland', 'full_name': '[Destination Country].[Country].[Europe].[Ireland]', 'all_member?': False, 'drillable?': False, 'depth': 2, 'caption': 'Ireland', 'key': 506, 'num_children': 0, 'parent_name': '[Destination Country].[Country].[Europe]', 'level_name': 'Country', 'children': []}, {'name': 'Denmark', 'full_name': '[Destination Country].[Country].[Europe].[Denmark]', 'all_member?': False, 'drillable?': False, 'depth': 2, 'caption': 'Denmark', 'key': 507, 'num_children': 0, 'parent_name': '[Destination Country].[Country].[Europe]', 'level_name': 'Country', 'children': []}, {'name': 'Switzerland', 'full_name': '[Destination Country].[Country].[Europe].[Switzerland]', 'all_member?': False, 'drillable?': False, 'depth': 2, 'caption': 'Switzerland', 'key': 508, 'num_children': 0, 'parent_name': '[Destination Country].[Country].[Europe]', 'level_name': 'Country', 'children': []}, {'name': 'Austria', 'full_name': '[Destination Country].[Country].[Europe].[Austria]', 'all_member?': False, 'drillable?': False, 'depth': 2, 'caption': 'Austria', 'key': 509, 'num_children': 0, 'parent_name': '[Destination Country].[Country].[Europe]', 'level_name': 'Country', 'children': []}, {'name': 'United Kingdom of Great Britain and Northern Ireland', 'full_name': '[Destination Country].[Country].[Europe].[United Kingdom of Great Britain and Northern Ireland]', 'all_member?': False, 'drillable?': False, 'depth': 2, 'caption': 'United Kingdom of Great Britain and Northern Ireland', 'key': 510, 'num_children': 0, 'parent_name': '[Destination Country].[Country].[Europe]', 'level_name': 'Country', 'children': []}, {'name': 'Sweden', 'full_name': '[Destination Country].[Country].[Europe].[Sweden]', 'all_member?': False, 'drillable?': False, 'depth': 2, 'caption': 'Sweden', 'key': 511, 'num_children': 0, 'parent_name': '[Destination Country].[Country].[Europe]', 'level_name': 'Country', 'children': []}, {'name': 'Finland', 'full_name': '[Destination Country].[Country].[Europe].[Finland]', 'all_member?': False, 'drillable?': False, 'depth': 2, 'caption': 'Finland', 'key': 512, 'num_children': 0, 'parent_name': '[Destination Country].[Country].[Europe]', 'level_name': 'Country', 'children': []}, {'name': 'Norway', 'full_name': '[Destination Country].[Country].[Europe].[Norway]', 'all_member?': False, 'drillable?': False, 'depth': 2, 'caption': 'Norway', 'key': 513, 'num_children': 0, 'parent_name': '[Destination Country].[Country].[Europe]', 'level_name': 'Country', 'children': []}, {'name': 'Belgium', 'full_name': '[Destination Country].[Country].[Europe].[Belgium]', 'all_member?': False, 'drillable?': False, 'depth': 2, 'caption': 'Belgium', 'key': 514, 'num_children': 0, 'parent_name': '[Destination Country].[Country].[Europe]', 'level_name': 'Country', 'children': []}, {'name': 'Netherlands', 'full_name': '[Destination Country].[Country].[Europe].[Netherlands]', 'all_member?': False, 'drillable?': False, 'depth': 2, 'caption': 'Netherlands', 'key': 515, 'num_children': 0, 'parent_name': '[Destination Country].[Country].[Europe]', 'level_name': 'Country', 'children': []}, {'name': 'Iceland', 'full_name': '[Destination Country].[Country].[Europe].[Iceland]', 'all_member?': False, 'drillable?': False, 'depth': 2, 'caption': 'Iceland', 'key': 516, 'num_children': 0, 'parent_name': '[Destination Country].[Country].[Europe]', 'level_name': 'Country', 'children': []}, {'name': 'Spain', 'full_name': '[Destination Country].[Country].[Europe].[Spain]', 'all_member?': False, 'drillable?': False, 'depth': 2, 'caption': 'Spain', 'key': 517, 'num_children': 0, 'parent_name': '[Destination Country].[Country].[Europe]', 'level_name': 'Country', 'children': []}, {'name': 'Albania', 'full_name': '[Destination Country].[Country].[Europe].[Albania]', 'all_member?': False, 'drillable?': False, 'depth': 2, 'caption': 'Albania', 'key': 518, 'num_children': 0, 'parent_name': '[Destination Country].[Country].[Europe]', 'level_name': 'Country', 'children': []}, {'name': 'Romania', 'full_name': '[Destination Country].[Country].[Europe].[Romania]', 'all_member?': False, 'drillable?': False, 'depth': 2, 'caption': 'Romania', 'key': 519, 'num_children': 0, 'parent_name': '[Destination Country].[Country].[Europe]', 'level_name': 'Country', 'children': []}, {'name': 'Greece', 'full_name': '[Destination Country].[Country].[Europe].[Greece]', 'all_member?': False, 'drillable?': False, 'depth': 2, 'caption': 'Greece', 'key': 520, 'num_children': 0, 'parent_name': '[Destination Country].[Country].[Europe]', 'level_name': 'Country', 'children': []}, {'name': 'Russian Federation', 'full_name': '[Destination Country].[Country].[Europe].[Russian Federation]', 'all_member?': False, 'drillable?': False, 'depth': 2, 'caption': 'Russian Federation', 'key': 521, 'num_children': 0, 'parent_name': '[Destination Country].[Country].[Europe]', 'level_name': 'Country', 'children': []}, {'name': 'Malta', 'full_name': '[Destination Country].[Country].[Europe].[Malta]', 'all_member?': False, 'drillable?': False, 'depth': 2, 'caption': 'Malta', 'key': 523, 'num_children': 0, 'parent_name': '[Destination Country].[Country].[Europe]', 'level_name': 'Country', 'children': []}, {'name': 'Holy See', 'full_name': '[Destination Country].[Country].[Europe].[Holy See]', 'all_member?': False, 'drillable?': False, 'depth': 2, 'caption': 'Holy See', 'key': 524, 'num_children': 0, 'parent_name': '[Destination Country].[Country].[Europe]', 'level_name': 'Country', 'children': []}, {'name': 'Andorra', 'full_name': '[Destination Country].[Country].[Europe].[Andorra]', 'all_member?': False, 'drillable?': False, 'depth': 2, 'caption': 'Andorra', 'key': 525, 'num_children': 0, 'parent_name': '[Destination Country].[Country].[Europe]', 'level_name': 'Country', 'children': []}, {'name': 'Yugoslavia', 'full_name': '[Destination Country].[Country].[Europe].[Yugoslavia]', 'all_member?': False, 'drillable?': False, 'depth': 2, 'caption': 'Yugoslavia', 'key': 526, 'num_children': 0, 'parent_name': '[Destination Country].[Country].[Europe]', 'level_name': 'Country', 'children': []}, {'name': 'Bulgaria', 'full_name': '[Destination Country].[Country].[Europe].[Bulgaria]', 'all_member?': False, 'drillable?': False, 'depth': 2, 'caption': 'Bulgaria', 'key': 527, 'num_children': 0, 'parent_name': '[Destination Country].[Country].[Europe]', 'level_name': 'Country', 'children': []}, {'name': 'Poland', 'full_name': '[Destination Country].[Country].[Europe].[Poland]', 'all_member?': False, 'drillable?': False, 'depth': 2, 'caption': 'Poland', 'key': 528, 'num_children': 0, 'parent_name': '[Destination Country].[Country].[Europe]', 'level_name': 'Country', 'children': []}, {'name': 'Hungary', 'full_name': '[Destination Country].[Country].[Europe].[Hungary]', 'all_member?': False, 'drillable?': False, 'depth': 2, 'caption': 'Hungary', 'key': 530, 'num_children': 0, 'parent_name': '[Destination Country].[Country].[Europe]', 'level_name': 'Country', 'children': []}, {'name': 'Luxembourg', 'full_name': '[Destination Country].[Country].[Europe].[Luxembourg]', 'all_member?': False, 'drillable?': False, 'depth': 2, 'caption': 'Luxembourg', 'key': 532, 'num_children': 0, 'parent_name': '[Destination Country].[Country].[Europe]', 'level_name': 'Country', 'children': []}, {'name': 'Liechtenstein', 'full_name': '[Destination Country].[Country].[Europe].[Liechtenstein]', 'all_member?': False, 'drillable?': False, 'depth': 2, 'caption': 'Liechtenstein', 'key': 534, 'num_children': 0, 'parent_name': '[Destination Country].[Country].[Europe]', 'level_name': 'Country', 'children': []}, {'name': 'Monaco', 'full_name': '[Destination Country].[Country].[Europe].[Monaco]', 'all_member?': False, 'drillable?': False, 'depth': 2, 'caption': 'Monaco', 'key': 535, 'num_children': 0, 'parent_name': '[Destination Country].[Country].[Europe]', 'level_name': 'Country', 'children': []}, {'name': 'San Marino', 'full_name': '[Destination Country].[Country].[Europe].[San Marino]', 'all_member?': False, 'drillable?': False, 'depth': 2, 'caption': 'San Marino', 'key': 536, 'num_children': 0, 'parent_name': '[Destination Country].[Country].[Europe]', 'level_name': 'Country', 'children': []}, {'name': 'Belarus', 'full_name': '[Destination Country].[Country].[Europe].[Belarus]', 'all_member?': False, 'drillable?': False, 'depth': 2, 'caption': 'Belarus', 'key': 542, 'num_children': 0, 'parent_name': '[Destination Country].[Country].[Europe]', 'level_name': 'Country', 'children': []}, {'name': 'Bosnia and Herzegovina', 'full_name': '[Destination Country].[Country].[Europe].[Bosnia and Herzegovina]', 'all_member?': False, 'drillable?': False, 'depth': 2, 'caption': 'Bosnia and Herzegovina', 'key': 543, 'num_children': 0, 'parent_name': '[Destination Country].[Country].[Europe]', 'level_name': 'Country', 'children': []}, {'name': 'Czech Republic', 'full_name': '[Destination Country].[Country].[Europe].[Czech Republic]', 'all_member?': False, 'drillable?': False, 'depth': 2, 'caption': 'Czech Republic', 'key': 544, 'num_children': 0, 'parent_name': '[Destination Country].[Country].[Europe]', 'level_name': 'Country', 'children': []}, {'name': 'Slovakia', 'full_name': '[Destination Country].[Country].[Europe].[Slovakia]', 'all_member?': False, 'drillable?': False, 'depth': 2, 'caption': 'Slovakia', 'key': 545, 'num_children': 0, 'parent_name': '[Destination Country].[Country].[Europe]', 'level_name': 'Country', 'children': []}, {'name': 'Serbia', 'full_name': '[Destination Country].[Country].[Europe].[Serbia]', 'all_member?': False, 'drillable?': False, 'depth': 2, 'caption': 'Serbia', 'key': 546, 'num_children': 0, 'parent_name': '[Destination Country].[Country].[Europe]', 'level_name': 'Country', 'children': []}, {'name': 'Croatia', 'full_name': '[Destination Country].[Country].[Europe].[Croatia]', 'all_member?': False, 'drillable?': False, 'depth': 2, 'caption': 'Croatia', 'key': 547, 'num_children': 0, 'parent_name': '[Destination Country].[Country].[Europe]', 'level_name': 'Country', 'children': []}, {'name': 'Slovenia', 'full_name': '[Destination Country].[Country].[Europe].[Slovenia]', 'all_member?': False, 'drillable?': False, 'depth': 2, 'caption': 'Slovenia', 'key': 548, 'num_children': 0, 'parent_name': '[Destination Country].[Country].[Europe]', 'level_name': 'Country', 'children': []}, {'name': 'Estonia', 'full_name': '[Destination Country].[Country].[Europe].[Estonia]', 'all_member?': False, 'drillable?': False, 'depth': 2, 'caption': 'Estonia', 'key': 549, 'num_children': 0, 'parent_name': '[Destination Country].[Country].[Europe]', 'level_name': 'Country', 'children': []}, {'name': 'Latvia', 'full_name': '[Destination Country].[Country].[Europe].[Latvia]', 'all_member?': False, 'drillable?': False, 'depth': 2, 'caption': 'Latvia', 'key': 553, 'num_children': 0, 'parent_name': '[Destination Country].[Country].[Europe]', 'level_name': 'Country', 'children': []}, {'name': 'Lithuania', 'full_name': '[Destination Country].[Country].[Europe].[Lithuania]', 'all_member?': False, 'drillable?': False, 'depth': 2, 'caption': 'Lithuania', 'key': 554, 'num_children': 0, 'parent_name': '[Destination Country].[Country].[Europe]', 'level_name': 'Country', 'children': []}, {'name': 'Macedonia', 'full_name': '[Destination Country].[Country].[Europe].[Macedonia]', 'all_member?': False, 'drillable?': False, 'depth': 2, 'caption': 'Macedonia', 'key': 555, 'num_children': 0, 'parent_name': '[Destination Country].[Country].[Europe]', 'level_name': 'Country', 'children': []}, {'name': 'Moldova', 'full_name': '[Destination Country].[Country].[Europe].[Moldova]', 'all_member?': False, 'drillable?': False, 'depth': 2, 'caption': 'Moldova', 'key': 556, 'num_children': 0, 'parent_name': '[Destination Country].[Country].[Europe]', 'level_name': 'Country', 'children': []}, {'name': 'Ukraine', 'full_name': '[Destination Country].[Country].[Europe].[Ukraine]', 'all_member?': False, 'drillable?': False, 'depth': 2, 'caption': 'Ukraine', 'key': 559, 'num_children': 0, 'parent_name': '[Destination Country].[Country].[Europe]', 'level_name': 'Country', 'children': []}, {'name': 'Montenegro', 'full_name': '[Destination Country].[Country].[Europe].[Montenegro]', 'all_member?': False, 'drillable?': False, 'depth': 2, 'caption': 'Montenegro', 'key': 561, 'num_children': 0, 'parent_name': '[Destination Country].[Country].[Europe]', 'level_name': 'Country', 'children': []}, {'name': 'Russia', 'full_name': '[Destination Country].[Country].[Europe].[Russia]', 'all_member?': False, 'drillable?': False, 'depth': 2, 'caption': 'Russia', 'key': 562, 'num_children': 0, 'parent_name': '[Destination Country].[Country].[Europe]', 'level_name': 'Country', 'children': []}, {'name': 'Germany', 'full_name': '[Destination Country].[Country].[Europe].[Germany]', 'all_member?': False, 'drillable?': False, 'depth': 2, 'caption': 'Germany', 'key': 563, 'num_children': 0, 'parent_name': '[Destination Country].[Country].[Europe]', 'level_name': 'Country', 'children': []}, {'name': 'Gibraltar', 'full_name': '[Destination Country].[Country].[Europe].[Gibraltar]', 'all_member?': False, 'drillable?': False, 'depth': 2, 'caption': 'Gibraltar', 'key': 565, 'num_children': 0, 'parent_name': '[Destination Country].[Country].[Europe]', 'level_name': 'Country', 'children': []}, {'name': 'Guernsey', 'full_name': '[Destination Country].[Country].[Europe].[Guernsey]', 'all_member?': False, 'drillable?': False, 'depth': 2, 'caption': 'Guernsey', 'key': 566, 'num_children': 0, 'parent_name': '[Destination Country].[Country].[Europe]', 'level_name': 'Country', 'children': []}, {'name': 'Isle of Man', 'full_name': '[Destination Country].[Country].[Europe].[Isle of Man]', 'all_member?': False, 'drillable?': False, 'depth': 2, 'caption': 'Isle of Man', 'key': 567, 'num_children': 0, 'parent_name': '[Destination Country].[Country].[Europe]', 'level_name': 'Country', 'children': []}, {'name': 'Jersey', 'full_name': '[Destination Country].[Country].[Europe].[Jersey]', 'all_member?': False, 'drillable?': False, 'depth': 2, 'caption': 'Jersey', 'key': 568, 'num_children': 0, 'parent_name': '[Destination Country].[Country].[Europe]', 'level_name': 'Country', 'children': []}, {'name': 'Alto Volta', 'full_name': '[Destination Country].[Country].[Other].[Alto Volta]', 'all_member?': False, 'drillable?': False, 'depth': 2, 'caption': 'Alto Volta', 'key': 132, 'num_children': 0, 'parent_name': '[Destination Country].[Country].[Other]', 'level_name': 'Country', 'children': []}, {'name': 'Territorio Británico en Africa', 'full_name': '[Destination Country].[Country].[Other].[Territorio Británico en Africa]', 'all_member?': False, 'drillable?': False, 'depth': 2, 'caption': 'Territorio Británico en Africa', 'key': 151, 'num_children': 0, 'parent_name': '[Destination Country].[Country].[Other]', 'level_name': 'Country', 'children': []}, {'name': 'Territorio Español en Africa', 'full_name': '[Destination Country].[Country].[Other].[Territorio Español en Africa]', 'all_member?': False, 'drillable?': False, 'depth': 2, 'caption': 'Territorio Español en Africa', 'key': 152, 'num_children': 0, 'parent_name': '[Destination Country].[Country].[Other]', 'level_name': 'Country', 'children': []}, {'name': 'Territorio Frances en Africa', 'full_name': '[Destination Country].[Country].[Other].[Territorio Frances en Africa]', 'all_member?': False, 'drillable?': False, 'depth': 2, 'caption': 'Territorio Frances en Africa', 'key': 153, 'num_children': 0, 'parent_name': '[Destination Country].[Country].[Other]', 'level_name': 'Country', 'children': []}, {'name': 'Venda', 'full_name': '[Destination Country].[Country].[Other].[Venda]', 'all_member?': False, 'drillable?': False, 'depth': 2, 'caption': 'Venda', 'key': 158, 'num_children': 0, 'parent_name': '[Destination Country].[Country].[Other]', 'level_name': 'Country', 'children': []}, {'name': 'Ciskei', 'full_name': '[Destination Country].[Country].[Other].[Ciskei]', 'all_member?': False, 'drillable?': False, 'depth': 2, 'caption': 'Ciskei', 'key': 162, 'num_children': 0, 'parent_name': '[Destination Country].[Country].[Other]', 'level_name': 'Country', 'children': []}, {'name': 'Saharavi', 'full_name': '[Destination Country].[Country].[Other].[Saharavi]', 'all_member?': False, 'drillable?': False, 'depth': 2, 'caption': 'Saharavi', 'key': 165, 'num_children': 0, 'parent_name': '[Destination Country].[Country].[Other]', 'level_name': 'Country', 'children': []}, {'name': 'Transkei', 'full_name': '[Destination Country].[Country].[Other].[Transkei]', 'all_member?': False, 'drillable?': False, 'depth': 2, 'caption': 'Transkei', 'key': 166, 'num_children': 0, 'parent_name': '[Destination Country].[Country].[Other]', 'level_name': 'Country', 'children': []}, {'name': 'Territorio Británico en América', 'full_name': '[Destination Country].[Country].[Other].[Territorio Británico en América]', 'all_member?': False, 'drillable?': False, 'depth': 2, 'caption': 'Territorio Británico en América', 'key': 227, 'num_children': 0, 'parent_name': '[Destination Country].[Country].[Other]', 'level_name': 'Country', 'children': []}, {'name': 'Territorio Francés en America', 'full_name': '[Destination Country].[Country].[Other].[Territorio Francés en America]', 'all_member?': False, 'drillable?': False, 'depth': 2, 'caption': 'Territorio Francés en America', 'key': 228, 'num_children': 0, 'parent_name': '[Destination Country].[Country].[Other]', 'level_name': 'Country', 'children': []}, {'name': 'Territorio Holandes en America', 'full_name': '[Destination Country].[Country].[Other].[Territorio Holandes en America]', 'all_member?': False, 'drillable?': False, 'depth': 2, 'caption': 'Territorio Holandes en America', 'key': 229, 'num_children': 0, 'parent_name': '[Destination Country].[Country].[Other]', 'level_name': 'Country', 'children': []}, {'name': 'Territorio de Dinamarca en América', 'full_name': '[Destination Country].[Country].[Other].[Territorio de Dinamarca en América]', 'all_member?': False, 'drillable?': False, 'depth': 2, 'caption': 'Territorio de Dinamarca en América', 'key': 230, 'num_children': 0, 'parent_name': '[Destination Country].[Country].[Other]', 'level_name': 'Country', 'children': []}, {'name': 'Islas Vírgenes Británicas', 'full_name': '[Destination Country].[Country].[Other].[Islas Vírgenes Británicas]', 'all_member?': False, 'drillable?': False, 'depth': 2, 'caption': 'Islas Vírgenes Británicas', 'key': 245, 'num_children': 0, 'parent_name': '[Destination Country].[Country].[Other]', 'level_name': 'Country', 'children': []}, {'name': 'Antillas Neerlandesas', 'full_name': '[Destination Country].[Country].[Other].[Antillas Neerlandesas]', 'all_member?': False, 'drillable?': False, 'depth': 2, 'caption': 'Antillas Neerlandesas', 'key': 247, 'num_children': 0, 'parent_name': '[Destination Country].[Country].[Other]', 'level_name': 'Country', 'children': []}, {'name': 'Territorio Portugues en Asia', 'full_name': '[Destination Country].[Country].[Other].[Territorio Portugues en Asia]', 'all_member?': False, 'drillable?': False, 'depth': 2, 'caption': 'Territorio Portugues en Asia', 'key': 343, 'num_children': 0, 'parent_name': '[Destination Country].[Country].[Other]', 'level_name': 'Country', 'children': []}, {'name': 'Territorio Británico en Oceanía y el Pacífico', 'full_name': '[Destination Country].[Country].[Other].[Territorio Británico en Oceanía y el Pacífico]', 'all_member?': False, 'drillable?': False, 'depth': 2, 'caption': 'Territorio Británico en Oceanía y el Pacífico', 'key': 407, 'num_children': 0, 'parent_name': '[Destination Country].[Country].[Other]', 'level_name': 'Country', 'children': []}, {'name': 'Territorio Francés en Oceanía y el Pacífico', 'full_name': '[Destination Country].[Country].[Other].[Territorio Francés en Oceanía y el Pacífico]', 'all_member?': False, 'drillable?': False, 'depth': 2, 'caption': 'Territorio Francés en Oceanía y el Pacífico', 'key': 408, 'num_children': 0, 'parent_name': '[Destination Country].[Country].[Other]', 'level_name': 'Country', 'children': []}, {'name': 'Territorio Norteamericano en Oceanía y el Pacífico', 'full_name': '[Destination Country].[Country].[Other].[Territorio Norteamericano en Oceanía y el Pacífico]', 'all_member?': False, 'drillable?': False, 'depth': 2, 'caption': 'Territorio Norteamericano en Oceanía y el Pacífico', 'key': 409, 'num_children': 0, 'parent_name': '[Destination Country].[Country].[Other]', 'level_name': 'Country', 'children': []}, {'name': 'Checoslovaquia', 'full_name': '[Destination Country].[Country].[Other].[Checoslovaquia]', 'all_member?': False, 'drillable?': False, 'depth': 2, 'caption': 'Checoslovaquia', 'key': 529, 'num_children': 0, 'parent_name': '[Destination Country].[Country].[Other]', 'level_name': 'Country', 'children': []}, {'name': 'Organismos Multilaterales', 'full_name': '[Destination Country].[Country].[Other].[Organismos Multilaterales]', 'all_member?': False, 'drillable?': False, 'depth': 2, 'caption': 'Organismos Multilaterales', 'key': 531, 'num_children': 0, 'parent_name': '[Destination Country].[Country].[Other]', 'level_name': 'Country', 'children': []}, {'name': 'Republica Federal de Yugoslavia (Serbia y Montenegro)', 'full_name': '[Destination Country].[Country].[Other].[Republica Federal de Yugoslavia (Serbia y Montenegro)]', 'all_member?': False, 'drillable?': False, 'depth': 2, 'caption': 'Republica Federal de Yugoslavia (Serbia y Montenegro)', 'key': 564, 'num_children': 0, 'parent_name': '[Destination Country].[Country].[Other]', 'level_name': 'Country', 'children': []}, {'name': 'Combustible y lubricantes destinados', 'full_name': '[Destination Country].[Country].[Other].[Combustible y lubricantes destinados]', 'all_member?': False, 'drillable?': False, 'depth': 2, 'caption': 'Combustible y lubricantes destinados', 'key': 901, 'num_children': 0, 'parent_name': '[Destination Country].[Country].[Other]', 'level_name': 'Country', 'children': []}, {'name': 'Rancho de naves y aeronaves extranjeras', 'full_name': '[Destination Country].[Country].[Other].[Rancho de naves y aeronaves extranjeras]', 'all_member?': False, 'drillable?': False, 'depth': 2, 'caption': 'Rancho de naves y aeronaves extranjeras', 'key': 902, 'num_children': 0, 'parent_name': '[Destination Country].[Country].[Other]', 'level_name': 'Country', 'children': []}, {'name': 'Pesca extraterritorial', 'full_name': '[Destination Country].[Country].[Other].[Pesca extraterritorial]', 'all_member?': False, 'drillable?': False, 'depth': 2, 'caption': 'Pesca extraterritorial', 'key': 903, 'num_children': 0, 'parent_name': '[Destination Country].[Country].[Other]', 'level_name': 'Country', 'children': []}, {'name': 'Orígenes o destinaciones no precisadas', 'full_name': '[Destination Country].[Country].[Other].[Orígenes o destinaciones no precisadas]', 'all_member?': False, 'drillable?': False, 'depth': 2, 'caption': 'Orígenes o destinaciones no precisadas', 'key': 904, 'num_children': 0, 'parent_name': '[Destination Country].[Country].[Other]', 'level_name': 'Country', 'children': []}, {'name': 'Zona franca Iquique', 'full_name': '[Destination Country].[Country].[Other].[Zona franca Iquique]', 'all_member?': False, 'drillable?': False, 'depth': 2, 'caption': 'Zona franca Iquique', 'key': 905, 'num_children': 0, 'parent_name': '[Destination Country].[Country].[Other]', 'level_name': 'Country', 'children': []}, {'name': 'Deposito franco', 'full_name': '[Destination Country].[Country].[Other].[Deposito franco]', 'all_member?': False, 'drillable?': False, 'depth': 2, 'caption': 'Deposito franco', 'key': 906, 'num_children': 0, 'parent_name': '[Destination Country].[Country].[Other]', 'level_name': 'Country', 'children': []}, {'name': 'Zona franca Punta Arenas', 'full_name': '[Destination Country].[Country].[Other].[Zona franca Punta Arenas]', 'all_member?': False, 'drillable?': False, 'depth': 2, 'caption': 'Zona franca Punta Arenas', 'key': 907, 'num_children': 0, 'parent_name': '[Destination Country].[Country].[Other]', 'level_name': 'Country', 'children': []}, {'name': 'Zona franca Arica', 'full_name': '[Destination Country].[Country].[Other].[Zona franca Arica]', 'all_member?': False, 'drillable?': False, 'depth': 2, 'caption': 'Zona franca Arica', 'key': 910, 'num_children': 0, 'parent_name': '[Destination Country].[Country].[Other]', 'level_name': 'Country', 'children': []}, {'name': 'DITS/Tramite simplificado', 'full_name': '[Destination Country].[Country].[Other].[DITS/Tramite simplificado]', 'all_member?': False, 'drillable?': False, 'depth': 2, 'caption': 'DITS/Tramite simplificado', 'key': 951, 'num_children': 0, 'parent_name': '[Destination Country].[Country].[Other]', 'level_name': 'Country', 'children': []}, {'name': 'Via Postal', 'full_name': '[Destination Country].[Country].[Other].[Via Postal]', 'all_member?': False, 'drillable?': False, 'depth': 2, 'caption': 'Via Postal', 'key': 952, 'num_children': 0, 'parent_name': '[Destination Country].[Country].[Other]', 'level_name': 'Country', 'children': []}, {'name': 'Chile', 'full_name': '[Destination Country].[Country].[Other].[Chile]', 'all_member?': False, 'drillable?': False, 'depth': 2, 'caption': 'Chile', 'key': 997, 'num_children': 0, 'parent_name': '[Destination Country].[Country].[Other]', 'level_name': 'Country', 'children': []}, {'name': 'Nacion reputada', 'full_name': '[Destination Country].[Country].[Other].[Nacion reputada]', 'all_member?': False, 'drillable?': False, 'depth': 2, 'caption': 'Nacion reputada', 'key': 998, 'num_children': 0, 'parent_name': '[Destination Country].[Country].[Other]', 'level_name': 'Country', 'children': []}, {'name': 'Otros 999', 'full_name': '[Destination Country].[Country].[Other].[Otros 999]', 'all_member?': False, 'drillable?': False, 'depth': 2, 'caption': 'Otros 999', 'key': 999, 'num_children': 0, 'parent_name': '[Destination Country].[Country].[Other]', 'level_name': 'Country', 'children': []}], 'name': 'Destination Country', 'caption': 'Destination Country', 'type': 'standard', 'level': 'Country', 'level_depth': 2, 'hierarchy': 'Country'}]\n"
     ]
    },
    {
     "name": "stdin",
     "output_type": "stream",
     "text": [
      "ipdb>  q\n"
     ]
    }
   ],
   "source": [
    "from datachile import ChileCube\n",
    "\n",
    "client = ChileCube()\n",
    "query = client.get(\n",
    "    \"exports\", \n",
    "    {\n",
    "        \"drilldowns\": [\n",
    "            [\"Date\", \"Year\"],\n",
    "            [\"Destination Country\", \"Country\", \"Country\"]\n",
    "        ],\n",
    "        \"measures\": [\"FOB US\"],\n",
    "        \"cuts\": [\n",
    "            {\n",
    "                \"drilldown\": [\"Date\", \"Year\"],\n",
    "                \"values\": [2012, 2013, 2014]\n",
    "            }\n",
    "        ],\n",
    "    }\n",
    ")\n",
    "\n",
    "print(query)"
   ]
  },
  {
   "cell_type": "code",
   "execution_count": 12,
   "metadata": {},
   "outputs": [],
   "source": [
    "from datachile import ChileCube\n",
    "\n",
    "client = ChileCube()  # Objeto con el que es posible la conexión a DataChile"
   ]
  },
  {
   "cell_type": "markdown",
   "metadata": {},
   "source": [
    "### Ejemplo 1\n",
    "\n",
    "Esperanza de vida, Mortalidad y número de registros desagragados por Año, Región y Sexo."
   ]
  },
  {
   "cell_type": "code",
   "execution_count": 14,
   "metadata": {},
   "outputs": [
    {
     "ename": "KeyError",
     "evalue": "'axis_dimensions'",
     "output_type": "error",
     "traceback": [
      "\u001b[0;31m---------------------------------------------------------------------------\u001b[0m",
      "\u001b[0;31mKeyError\u001b[0m                                  Traceback (most recent call last)",
      "\u001b[0;32m<ipython-input-14-98f77dbf2e82>\u001b[0m in \u001b[0;36m<module>\u001b[0;34m\u001b[0m\n\u001b[1;32m      9\u001b[0m         \"measures\": [\"Number of records\",\n\u001b[1;32m     10\u001b[0m                      \u001b[0;34m\"Life Expectancy AVG\"\u001b[0m\u001b[0;34m,\u001b[0m\u001b[0;34m\u001b[0m\u001b[0;34m\u001b[0m\u001b[0m\n\u001b[0;32m---> 11\u001b[0;31m                      \u001b[0;34m\"Mortality rate per 100 inhabitants AVG\"\u001b[0m\u001b[0;34m\u001b[0m\u001b[0;34m\u001b[0m\u001b[0m\n\u001b[0m\u001b[1;32m     12\u001b[0m                     ]    \n\u001b[1;32m     13\u001b[0m     })\n",
      "\u001b[0;32m~/miniconda3/envs/ds/lib/python3.7/site-packages/datachile/chilecube.py\u001b[0m in \u001b[0;36mget\u001b[0;34m(self, cube_id, params, df, lang)\u001b[0m\n\u001b[1;32m    108\u001b[0m         \u001b[0magg\u001b[0m \u001b[0;34m=\u001b[0m \u001b[0mself\u001b[0m\u001b[0;34m.\u001b[0m\u001b[0mclient\u001b[0m\u001b[0;34m.\u001b[0m\u001b[0mget_aggregation\u001b[0m\u001b[0;34m(\u001b[0m\u001b[0mcube\u001b[0m\u001b[0;34m,\u001b[0m \u001b[0mobj\u001b[0m\u001b[0;34m)\u001b[0m\u001b[0;34m\u001b[0m\u001b[0;34m\u001b[0m\u001b[0m\n\u001b[1;32m    109\u001b[0m \u001b[0;34m\u001b[0m\u001b[0m\n\u001b[0;32m--> 110\u001b[0;31m         \u001b[0mq\u001b[0m \u001b[0;34m=\u001b[0m \u001b[0magg\u001b[0m\u001b[0;34m.\u001b[0m\u001b[0mtidy\u001b[0m\u001b[0;34m\u001b[0m\u001b[0;34m\u001b[0m\u001b[0m\n\u001b[0m\u001b[1;32m    111\u001b[0m \u001b[0;34m\u001b[0m\u001b[0m\n\u001b[1;32m    112\u001b[0m         \u001b[0mdata\u001b[0m \u001b[0;34m=\u001b[0m \u001b[0;34m[\u001b[0m\u001b[0;34m]\u001b[0m\u001b[0;34m\u001b[0m\u001b[0;34m\u001b[0m\u001b[0m\n",
      "\u001b[0;32m~/miniconda3/envs/ds/lib/python3.7/site-packages/mondrian_rest/aggregation.py\u001b[0m in \u001b[0;36mtidy\u001b[0;34m(self)\u001b[0m\n\u001b[1;32m    114\u001b[0m \u001b[0;34m\u001b[0m\u001b[0m\n\u001b[1;32m    115\u001b[0m         self._tidy = {\n\u001b[0;32m--> 116\u001b[0;31m             \u001b[0;34m'axes'\u001b[0m\u001b[0;34m:\u001b[0m \u001b[0mdata\u001b[0m\u001b[0;34m[\u001b[0m\u001b[0;34m'axis_dimensions'\u001b[0m\u001b[0;34m]\u001b[0m\u001b[0;34m[\u001b[0m\u001b[0;36m1\u001b[0m\u001b[0;34m:\u001b[0m\u001b[0;34m]\u001b[0m\u001b[0;34m,\u001b[0m\u001b[0;34m\u001b[0m\u001b[0;34m\u001b[0m\u001b[0m\n\u001b[0m\u001b[1;32m    117\u001b[0m             \u001b[0;34m'measures'\u001b[0m\u001b[0;34m:\u001b[0m \u001b[0mmeasures\u001b[0m\u001b[0;34m,\u001b[0m\u001b[0;34m\u001b[0m\u001b[0;34m\u001b[0m\u001b[0m\n\u001b[1;32m    118\u001b[0m             \u001b[0;34m'data'\u001b[0m\u001b[0;34m:\u001b[0m \u001b[0;34m[\u001b[0m\u001b[0mbuild_row\u001b[0m\u001b[0;34m(\u001b[0m\u001b[0mcell\u001b[0m\u001b[0;34m)\u001b[0m \u001b[0;32mfor\u001b[0m \u001b[0mcell\u001b[0m \u001b[0;32min\u001b[0m \u001b[0mproduct\u001b[0m\u001b[0;34m(\u001b[0m\u001b[0;34m*\u001b[0m\u001b[0mprod\u001b[0m\u001b[0;34m)\u001b[0m\u001b[0;34m]\u001b[0m\u001b[0;34m\u001b[0m\u001b[0;34m\u001b[0m\u001b[0m\n",
      "\u001b[0;31mKeyError\u001b[0m: 'axis_dimensions'"
     ]
    }
   ],
   "source": [
    "life_expectancy = client.get(\n",
    "    \"life_expectancy\", \n",
    "    {\n",
    "        \"drilldowns\": [\n",
    "            [\"Date\", \"Date\", \"Year\"],\n",
    "            [\"Geography\", \"Geography\", \"Region\"],\n",
    "            ['Sex', 'Sex', 'Sex']\n",
    "        ],\n",
    "        \"measures\": [\"Number of records\",\n",
    "                     \"Life Expectancy AVG\",\n",
    "                     \"Mortality rate per 100 inhabitants AVG\"\n",
    "                    ]    \n",
    "    })"
   ]
  },
  {
   "cell_type": "markdown",
   "metadata": {},
   "source": [
    "## Entendiendo la API de Data Chile"
   ]
  },
  {
   "cell_type": "markdown",
   "metadata": {},
   "source": [
    "DataChile utiliza para su funcionamiento como capa lógica Mondrian-REST, que es un componente del lado del servidor que permite la creación de APIs HTTP para acceder a una base de datos especificando la estructura lógica de la información.\n",
    "\n",
    "Para utilizar la API de DataChile, es necesario conocer algunos conceptos que facilitarán su uso, los cuáles explicaremos a continuación.\n",
    "\n",
    "**Cubo**\n",
    "\n",
    "Un cubo es una colección de dimensions y measures.\n",
    "\n",
    "En DataChile, cada dataset está agrupado en un cubo. El diseño del lenguaje de consultas a la API está centrado en torno a 3 operaciones: Drilldown, Cut, Measure. Para ejemplificar los conceptos, se utilizará el dataset exports -que representa las exportaciones de Chile- como referencia.\n",
    "\n",
    "**Drilldown**\n",
    "\n",
    "Algunas definiciones previas:\n",
    "Un member es un valor dentro de una dimensión determinada por un set de valores. La jerarquía género tiene los miembros 'Masculino' y 'Femenino'. 'Concepción', 'Bío-Bío' y 'Chile' son todos miembros de la jerarquía Geográfica.\n",
    "Un level es un conjunto de miembros que se encuentran a la misma distancia del inicio de la jerarquía. Concepción, Tucapel, Arica, se encuentran en el mismo level.\n",
    "Una hierarchy es un conjunto de miembros organizados estructuradamente para su análisis. Por ejemplo, la jerarquía Geográfica consiste de nombre de comuna, regiones y país. La jerarquización permite obtener valores intermedios: Total de exportaciones de la región de Valparaíso es la suma de todas las exportaciones de las comunas de dicha región.\n",
    "Una dimension es un conjunto de jerarquías que discriminan el mismo atributo (Por ejemplo, el día que se produjo una exportación)\n",
    "Un drilldown permite pasar de un nivel de detalle al siguiente. La estructura de un drilldown para las consultas en el cubo es [Dimension].[Hierarchy].[Level]\n",
    "\n",
    "**Medición**\n",
    "\n",
    "Variable escalar asociada con un valor particular en los datos del cubo.\n",
    "\n",
    "**Corte**\n",
    "\n",
    "Permite al usuario especificar un filtro, que restringe las tuplas disponibles del cubo. Por ejemplo, en exports, cortar el cubo en torno al miembro [Region].[8] en la dimensión Geography, sólo considerará celdas de la región de Bío-Bío. Múltiples cortes pueden ser especificados en una simple consulta.\n",
    "\n",
    "[Fuente](https://es.datachile.io/about/api)\n"
   ]
  },
  {
   "cell_type": "code",
   "execution_count": null,
   "metadata": {},
   "outputs": [],
   "source": [
    "client.get(\n",
    "    \"life_expectancy\", \n",
    "    {\n",
    "        \"drilldowns\": [\n",
    "            [\"Date\", \"Date\", \"Year\"],\n",
    "            [\"Geography\", \"Geography\", \"Region\"],\n",
    "            ['Sex']\n",
    "        ],\n",
    "        \"measures\": [\"Number of records\",\n",
    "                     \"Life Expectancy AVG\",\n",
    "                     \"Mortality rate per 100 inhabitants AVG\"\n",
    "                    ]    },\n",
    "    df=True\n",
    ")"
   ]
  },
  {
   "cell_type": "markdown",
   "metadata": {},
   "source": [
    "### Destripando el ejemplo anterior:\n",
    "\n",
    "Para el ejemplo anterior básicamente se utilizó toda la información disponible de la esperanza de vida\n",
    "\n",
    "- Cube: life_expectancy\n",
    "- Drilldowns:\n",
    "    * Año (Dimensión: Date, Hierarchy: Date, Level: Year)\n",
    "    * Región (Dimensión: Geography, Hierarchy: Geography, Level: Region)\n",
    "    * Género (Dimensión: Sex, Hierarchy: Sex, Level: Sex)\n",
    "- Measures:\n",
    "    * Número de registros\n",
    "    * Promedio de esperanza de vida\n",
    "    * Promedio de tasa promedio de mortalidad por 100 habitantes"
   ]
  },
  {
   "cell_type": "markdown",
   "metadata": {},
   "source": [
    "### Ejemplo 2\n",
    "\n",
    "Pensemos que queremos la información de la tasa de mortalidad solo por region (sin importar el año y el género), la solicitud a la API debe ser de la siguiente forma:"
   ]
  },
  {
   "cell_type": "code",
   "execution_count": null,
   "metadata": {},
   "outputs": [],
   "source": [
    "mortality_region = client.get(\n",
    "    \"life_expectancy\", \n",
    "    {\n",
    "        \"drilldowns\": [\n",
    "            [\"Geography\", \"Geography\", \"Region\"],\n",
    "        ],\n",
    "        \"measures\": [\n",
    "                     \"Mortality rate per 100 inhabitants AVG\"\n",
    "                    ]    \n",
    "    },\n",
    "    df=True\n",
    ")\n",
    "mortality_region.head()"
   ]
  },
  {
   "cell_type": "markdown",
   "metadata": {},
   "source": [
    "### Veamos la documentación de la API de DataChile para Python"
   ]
  },
  {
   "cell_type": "code",
   "execution_count": null,
   "metadata": {},
   "outputs": [],
   "source": [
    "ChileCube??"
   ]
  },
  {
   "cell_type": "markdown",
   "metadata": {},
   "source": [
    "La información de la esperanza de vida se puede obtener de la siguiente forma:"
   ]
  },
  {
   "cell_type": "code",
   "execution_count": null,
   "metadata": {},
   "outputs": [],
   "source": [
    "client.get_cube(\"life_expectancy\")  # Es un JSON!"
   ]
  },
  {
   "cell_type": "markdown",
   "metadata": {},
   "source": [
    "Lo primero es tener una visión de todos los cubos."
   ]
  },
  {
   "cell_type": "code",
   "execution_count": null,
   "metadata": {},
   "outputs": [],
   "source": [
    "client.get_measures(\"life_expectancy\")  # Lista de dicctionarios "
   ]
  },
  {
   "cell_type": "markdown",
   "metadata": {},
   "source": [
    "ProTip: Como te diste cuenta, lo que entrega es un diccionario (\"\"\"JSON\"\"\") o una lista de diccionario, por lo que si quieres explorar con más detalle una buena idea es ver las llaves que tiene para así acceder con mayor facilidad."
   ]
  },
  {
   "cell_type": "code",
   "execution_count": null,
   "metadata": {},
   "outputs": [],
   "source": [
    "client.get_cube(\"life_expectancy\").keys()"
   ]
  },
  {
   "cell_type": "code",
   "execution_count": null,
   "metadata": {},
   "outputs": [],
   "source": [
    "client.get_cube(\"life_expectancy\")['measures']"
   ]
  },
  {
   "cell_type": "markdown",
   "metadata": {},
   "source": [
    "## Veamos otros cubos"
   ]
  },
  {
   "cell_type": "code",
   "execution_count": null,
   "metadata": {},
   "outputs": [],
   "source": [
    "cubes = client.get_cubes()  # Lista de diccionarios"
   ]
  },
  {
   "cell_type": "code",
   "execution_count": null,
   "metadata": {},
   "outputs": [],
   "source": [
    "for cube in cubes:\n",
    "    print(cube['name'])"
   ]
  },
  {
   "cell_type": "markdown",
   "metadata": {},
   "source": [
    "# Ejercicio 2\n",
    "\n",
    "Objetivo: Obtener la población por año y comuna."
   ]
  },
  {
   "cell_type": "code",
   "execution_count": null,
   "metadata": {},
   "outputs": [],
   "source": [
    "client.get_cube(\"population_estimate\")"
   ]
  },
  {
   "cell_type": "code",
   "execution_count": null,
   "metadata": {},
   "outputs": [],
   "source": [
    "population = client.get(\n",
    "    \"population_estimate\", \n",
    "    {\n",
    "        \"drilldowns\": [\n",
    "            [\"Date\", \"Date\", \"Year\"],\n",
    "            [\"Geography\", \"Geography\", \"Comuna\"],\n",
    "        ],\n",
    "        \"measures\": [\n",
    "            \"Population\",\n",
    "        ],\n",
    "    },\n",
    "    df=True\n",
    ")\n",
    "population.head()"
   ]
  },
  {
   "cell_type": "markdown",
   "metadata": {},
   "source": [
    "## Ejercicio Parte 2"
   ]
  },
  {
   "cell_type": "markdown",
   "metadata": {},
   "source": [
    "### Ejercicio 2.1\n",
    "Obtener la cantidad de electores habilitados y electores que votaron por Region total (considerando todos los años disponibles)"
   ]
  },
  {
   "cell_type": "code",
   "execution_count": null,
   "metadata": {},
   "outputs": [],
   "source": [
    "client.get_cube(\"election_participation\")"
   ]
  },
  {
   "cell_type": "code",
   "execution_count": null,
   "metadata": {},
   "outputs": [],
   "source": [
    "client.get_cube(\"election_participation\")['measures']"
   ]
  },
  {
   "cell_type": "code",
   "execution_count": null,
   "metadata": {},
   "outputs": [],
   "source": [
    "election = client.get(\n",
    "    # FIX ME PLEASE, \n",
    "    {\n",
    "        \"drilldowns\": [\n",
    "            # FIX ME PLEASE\n",
    "        ],\n",
    "        \"measures\": [\n",
    "            # FIX ME PLEASE,\n",
    "            # FIX ME PLEASE\n",
    "        ],\n",
    "    },\n",
    "    df=True\n",
    ")\n",
    "election.head()"
   ]
  },
  {
   "cell_type": "markdown",
   "metadata": {},
   "source": [
    "### Ejercicio 2.2\n",
    "Obtener el promedio de NEM y puntaje PSU por año y tipo de instituciónn (_Administración_) desde el cubo `education_performance_new`."
   ]
  },
  {
   "cell_type": "code",
   "execution_count": null,
   "metadata": {},
   "outputs": [],
   "source": [
    "client.get_cube(\"education_performance_new\")"
   ]
  },
  {
   "cell_type": "code",
   "execution_count": null,
   "metadata": {},
   "outputs": [],
   "source": [
    "client.get_cube(\"education_performance_new\")['dimensions']"
   ]
  },
  {
   "cell_type": "code",
   "execution_count": null,
   "metadata": {},
   "outputs": [],
   "source": [
    "client.get_cube(\"education_performance_new\")['measures']"
   ]
  },
  {
   "cell_type": "code",
   "execution_count": null,
   "metadata": {},
   "outputs": [],
   "source": [
    "psu_nem = client.get(\n",
    "    \"education_performance_new\", \n",
    "    {\n",
    "        \"drilldowns\": [\n",
    "            # FIX ME PLEASE,\n",
    "            # FIX ME PLEASE\n",
    "        ],\n",
    "        \"measures\": [\n",
    "            # FIX ME PLEASE,\n",
    "            # FIX ME PLEASE\n",
    "        ],\n",
    "    },\n",
    "    df=True\n",
    ")\n",
    "psu_nem.head()"
   ]
  }
 ],
 "metadata": {
  "celltoolbar": "Slideshow",
  "kernelspec": {
   "display_name": "Python 3",
   "language": "python",
   "name": "python3"
  },
  "language_info": {
   "codemirror_mode": {
    "name": "ipython",
    "version": 3
   },
   "file_extension": ".py",
   "mimetype": "text/x-python",
   "name": "python",
   "nbconvert_exporter": "python",
   "pygments_lexer": "ipython3",
   "version": "3.7.3"
  }
 },
 "nbformat": 4,
 "nbformat_minor": 4
}
